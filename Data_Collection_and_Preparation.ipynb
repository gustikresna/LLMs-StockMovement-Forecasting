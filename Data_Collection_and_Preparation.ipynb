{
  "cells": [
    {
      "cell_type": "markdown",
      "metadata": {
        "id": "Gl3cjoU9BjrX"
      },
      "source": [
        "# **IMPORT LIBRARIES AND LOAD DATA**"
      ]
    },
    {
      "cell_type": "code",
      "source": [
        "pip install wrds --no-deps # install WRDS package"
      ],
      "metadata": {
        "colab": {
          "base_uri": "https://localhost:8080/"
        },
        "id": "JTheBB-Bqpd0",
        "outputId": "467aad1f-4282-4794-d229-a6068015531e"
      },
      "execution_count": null,
      "outputs": [
        {
          "output_type": "stream",
          "name": "stdout",
          "text": [
            "Collecting wrds\n",
            "  Downloading wrds-3.2.0-py3-none-any.whl.metadata (5.8 kB)\n",
            "Downloading wrds-3.2.0-py3-none-any.whl (13 kB)\n",
            "Installing collected packages: wrds\n",
            "Successfully installed wrds-3.2.0\n"
          ]
        }
      ]
    },
    {
      "cell_type": "code",
      "execution_count": null,
      "metadata": {
        "id": "NI5fhCBl4-ab"
      },
      "outputs": [],
      "source": [
        "# import libraries\n",
        "import pandas as pd\n",
        "import numpy as np\n",
        "import wrds\n",
        "from google.colab import files"
      ]
    },
    {
      "cell_type": "code",
      "source": [
        "# mount google drive\n",
        "from google.colab import drive\n",
        "drive.mount('/content/drive')"
      ],
      "metadata": {
        "colab": {
          "base_uri": "https://localhost:8080/"
        },
        "id": "QVPBh6BpXtlC",
        "outputId": "5789a619-c0c8-44dc-87af-f0d15a2f37f2"
      },
      "execution_count": null,
      "outputs": [
        {
          "output_type": "stream",
          "name": "stdout",
          "text": [
            "Mounted at /content/drive\n"
          ]
        }
      ]
    },
    {
      "cell_type": "markdown",
      "source": [
        "## **Connect to WRDS**"
      ],
      "metadata": {
        "id": "QqgDuMzerBMD"
      }
    },
    {
      "cell_type": "code",
      "source": [
        "# establish a connection to the WRDS (input username & password)\n",
        "db = wrds.Connection()\n",
        "db.create_pgpass_file()"
      ],
      "metadata": {
        "id": "v1r-yUUbzS_R",
        "colab": {
          "base_uri": "https://localhost:8080/"
        },
        "outputId": "cef960c0-9be6-478a-dd71-827e2d60c36c"
      },
      "execution_count": null,
      "outputs": [
        {
          "output_type": "stream",
          "name": "stdout",
          "text": [
            "Enter your WRDS username [root]:gusti\n",
            "Enter your password:··········\n",
            "WRDS recommends setting up a .pgpass file.\n",
            "Create .pgpass file now [y/n]?: y\n",
            "Created .pgpass file successfully.\n",
            "You can create this file yourself at any time with the create_pgpass_file() function.\n",
            "Loading library list...\n",
            "Done\n"
          ]
        }
      ]
    },
    {
      "cell_type": "markdown",
      "source": [
        "# **DATA COLLECTION**"
      ],
      "metadata": {
        "id": "5ph1EzpeJJiV"
      }
    },
    {
      "cell_type": "markdown",
      "source": [
        "## **1. Select 25 Top Stocks**"
      ],
      "metadata": {
        "id": "SOuv3x3sLxIJ"
      }
    },
    {
      "cell_type": "code",
      "source": [
        "# get the earliest trading date for each permno\n",
        "query_earliest_date = \"\"\"\n",
        "SELECT\n",
        "    permno,\n",
        "    MIN(date) as first_trade_date\n",
        "FROM\n",
        "    crsp.dsf\n",
        "GROUP BY\n",
        "    permno\n",
        "HAVING\n",
        "    MIN(date) <= '2005-01-01'\n",
        "\"\"\"\n",
        "\n",
        "earliest_dates = db.raw_sql(query_earliest_date)\n",
        "\n",
        "# ensure stocks are still active until December 29, 2023 (latest available date)\n",
        "query_active_stocks = \"\"\"\n",
        "SELECT\n",
        "    permno\n",
        "FROM\n",
        "    crsp.dsf\n",
        "WHERE\n",
        "    date = '2023-12-29'\n",
        "GROUP BY\n",
        "    permno\n",
        "\"\"\"\n",
        "\n",
        "active_stocks = db.raw_sql(query_active_stocks)\n",
        "\n",
        "# combine the two sets of stocks to get those listed before 2005 and still active in 2023\n",
        "filtered_permnos = earliest_dates.merge(active_stocks, on='permno', how='inner')\n",
        "# exclude 3M (misclassified) & HUM (no news data in IQ KeyDev)\n",
        "filtered_permnos = filtered_permnos.loc[~filtered_permnos['permno'].isin([22592, 48653])]\n",
        "\n",
        "# get the list of permnos as a comma-separated string\n",
        "permnos_str = ','.join([str(permno) for permno in filtered_permnos['permno'].tolist()])\n",
        "\n",
        "# get market capitalisation, company name, and sector information for healthcare sector\n",
        "query_main = f\"\"\"\n",
        "SELECT\n",
        "    a.permco,\n",
        "    a.permno,\n",
        "    a.date,\n",
        "    a.shrout,\n",
        "    a.prc * a.shrout as market_cap,\n",
        "    b.shrcd,\n",
        "    b.exchcd,\n",
        "    b.siccd,\n",
        "    b.ncusip,\n",
        "    b.comnam\n",
        "FROM\n",
        "    crsp.dsf AS a\n",
        "JOIN\n",
        "    crsp.dsenames AS b\n",
        "ON\n",
        "    a.permno = b.permno\n",
        "WHERE\n",
        "    ((b.siccd BETWEEN 2830 AND 2836) OR\n",
        "    (b.siccd BETWEEN 3841 AND 3843) OR\n",
        "    b.siccd = 3826 OR\n",
        "    b.siccd = 3829 OR\n",
        "    b.siccd = 5047 OR\n",
        "    b.siccd = 5122 OR\n",
        "    b.siccd = 5912 OR\n",
        "    b.siccd = 6324 OR\n",
        "    b.siccd = 8071 OR\n",
        "    b.siccd = 8072 OR\n",
        "    b.siccd = 8092 OR\n",
        "    b.siccd = 8093 OR\n",
        "    b.siccd = 8099)\n",
        "    AND a.permno IN ({permnos_str})\n",
        "    AND a.date = '2023-12-29'\n",
        "    AND b.exchcd IN (1, 3)\n",
        "\"\"\"\n",
        "\n",
        "# execute query\n",
        "crsp_data = db.raw_sql(query_main)"
      ],
      "metadata": {
        "collapsed": true,
        "id": "DQtdyqJepb_I"
      },
      "execution_count": null,
      "outputs": []
    },
    {
      "cell_type": "code",
      "source": [
        "# filter data for the latest date\n",
        "latest_date = crsp_data['date'].max()\n",
        "latest_data = crsp_data[crsp_data['date'] == latest_date]\n",
        "\n",
        "# group by permco and permno and select the entry with the highest market capitalisation within each group\n",
        "top_25_healthcare_stocks = latest_data.groupby(['permco', 'permno']).apply(lambda x: x.nlargest(1, 'market_cap'))\n",
        "\n",
        "# sort by market capitalization and get the top 25 stocks\n",
        "top_25_healthcare_stocks = top_25_healthcare_stocks.sort_values(by='market_cap', ascending=False).head(25)\n",
        "top_25_healthcare_stocks.reset_index(drop=True, inplace=True)"
      ],
      "metadata": {
        "id": "cur48czVhsQy"
      },
      "execution_count": null,
      "outputs": []
    },
    {
      "cell_type": "code",
      "source": [
        "# save the dataframe\n",
        "top25_path = '/content/drive/MyDrive/PostGrad/5. Extended Research Projects/Dataset/top25healthcare.csv'\n",
        "\n",
        "top_25_healthcare_stocks.to_csv(top25_path, index=False)"
      ],
      "metadata": {
        "id": "wqtOk6iNvhXP"
      },
      "execution_count": null,
      "outputs": []
    },
    {
      "cell_type": "markdown",
      "metadata": {
        "id": "H5YSSrkHsj8z"
      },
      "source": [
        "## **2. Collect Price and Return Data**"
      ]
    },
    {
      "cell_type": "code",
      "source": [
        "# get permno of the top 25 stocks\n",
        "top_25_permnos = top_25_healthcare_stocks['permno'].tolist()\n",
        "\n",
        "# convert permno list to a string for the SQL IN clause\n",
        "permnos_str = ', '.join(map(str, top_25_permnos))"
      ],
      "metadata": {
        "id": "n-vvDR2TQK9m"
      },
      "execution_count": null,
      "outputs": []
    },
    {
      "cell_type": "code",
      "source": [
        "# download training data set\n",
        "\n",
        "# define the date range\n",
        "start_date = '2005-01-01'\n",
        "end_date = '2015-12-31'\n",
        "\n",
        "# query to get data for the specified date range and variables for the top 25 stocks\n",
        "query = f\"\"\"\n",
        "SELECT\n",
        "    a.permco,\n",
        "    a.permno,\n",
        "    b.comnam,\n",
        "    b.ticker,\n",
        "    a.date,\n",
        "    a.prc,\n",
        "    a.cfacpr,\n",
        "    a.ret\n",
        "FROM\n",
        "    crsp.dsf AS a\n",
        "JOIN\n",
        "    (SELECT permno, comnam, ticker, namedt, nameendt\n",
        "     FROM crsp.dsenames\n",
        "     WHERE permno IN ({permnos_str}) -- filter for the top 25 stocks\n",
        "       AND namedt <= '{end_date}'\n",
        "       AND (nameendt IS NULL OR nameendt >= '{start_date}')) AS b\n",
        "ON\n",
        "    a.permno = b.permno\n",
        "WHERE\n",
        "    a.permno IN ({permnos_str})     -- filter for the top 25 stocks\n",
        "    AND a.date BETWEEN '{start_date}' AND '{end_date}'\n",
        "    AND a.date >= b.namedt\n",
        "    AND (a.date <= b.nameendt OR b.nameendt IS NULL)\n",
        "\"\"\"\n",
        "\n",
        "# execute query\n",
        "crsp_train = db.raw_sql(query)\n",
        "crsp_train.sort_values(by=['permco', 'date'], inplace=True)"
      ],
      "metadata": {
        "id": "ypUhrylXPpaH"
      },
      "execution_count": null,
      "outputs": []
    },
    {
      "cell_type": "code",
      "source": [
        "# check missing values\n",
        "crsp_train[crsp_train.isna().any(axis=1)]"
      ],
      "metadata": {
        "colab": {
          "base_uri": "https://localhost:8080/",
          "height": 143
        },
        "id": "Kl1WiGRPy9CR",
        "outputId": "0a7c7826-c4af-4000-b85e-f3a2f2e41235"
      },
      "execution_count": null,
      "outputs": [
        {
          "output_type": "execute_result",
          "data": {
            "text/plain": [
              "       permco  permno                         comnam ticker        date  prc  \\\n",
              "41391   10876   76614  REGENERON PHARMACEUTICALS INC   REGN  2015-06-09  NaN   \n",
              "45895   11042   76744     VERTEX PHARMACEUTICALS INC   VRTX  2011-04-28  NaN   \n",
              "46910   11042   76744     VERTEX PHARMACEUTICALS INC   VRTX  2015-05-12  NaN   \n",
              "\n",
              "       cfacpr  ret  \n",
              "41391     1.0  NaN  \n",
              "45895     1.0  NaN  \n",
              "46910     1.0  NaN  "
            ],
            "text/html": [
              "\n",
              "  <div id=\"df-88eec4d1-6581-4c60-82f8-fb5ac234b0b6\" class=\"colab-df-container\">\n",
              "    <div>\n",
              "<style scoped>\n",
              "    .dataframe tbody tr th:only-of-type {\n",
              "        vertical-align: middle;\n",
              "    }\n",
              "\n",
              "    .dataframe tbody tr th {\n",
              "        vertical-align: top;\n",
              "    }\n",
              "\n",
              "    .dataframe thead th {\n",
              "        text-align: right;\n",
              "    }\n",
              "</style>\n",
              "<table border=\"1\" class=\"dataframe\">\n",
              "  <thead>\n",
              "    <tr style=\"text-align: right;\">\n",
              "      <th></th>\n",
              "      <th>permco</th>\n",
              "      <th>permno</th>\n",
              "      <th>comnam</th>\n",
              "      <th>ticker</th>\n",
              "      <th>date</th>\n",
              "      <th>prc</th>\n",
              "      <th>cfacpr</th>\n",
              "      <th>ret</th>\n",
              "    </tr>\n",
              "  </thead>\n",
              "  <tbody>\n",
              "    <tr>\n",
              "      <th>41391</th>\n",
              "      <td>10876</td>\n",
              "      <td>76614</td>\n",
              "      <td>REGENERON PHARMACEUTICALS INC</td>\n",
              "      <td>REGN</td>\n",
              "      <td>2015-06-09</td>\n",
              "      <td>NaN</td>\n",
              "      <td>1.0</td>\n",
              "      <td>NaN</td>\n",
              "    </tr>\n",
              "    <tr>\n",
              "      <th>45895</th>\n",
              "      <td>11042</td>\n",
              "      <td>76744</td>\n",
              "      <td>VERTEX PHARMACEUTICALS INC</td>\n",
              "      <td>VRTX</td>\n",
              "      <td>2011-04-28</td>\n",
              "      <td>NaN</td>\n",
              "      <td>1.0</td>\n",
              "      <td>NaN</td>\n",
              "    </tr>\n",
              "    <tr>\n",
              "      <th>46910</th>\n",
              "      <td>11042</td>\n",
              "      <td>76744</td>\n",
              "      <td>VERTEX PHARMACEUTICALS INC</td>\n",
              "      <td>VRTX</td>\n",
              "      <td>2015-05-12</td>\n",
              "      <td>NaN</td>\n",
              "      <td>1.0</td>\n",
              "      <td>NaN</td>\n",
              "    </tr>\n",
              "  </tbody>\n",
              "</table>\n",
              "</div>\n",
              "    <div class=\"colab-df-buttons\">\n",
              "\n",
              "  <div class=\"colab-df-container\">\n",
              "    <button class=\"colab-df-convert\" onclick=\"convertToInteractive('df-88eec4d1-6581-4c60-82f8-fb5ac234b0b6')\"\n",
              "            title=\"Convert this dataframe to an interactive table.\"\n",
              "            style=\"display:none;\">\n",
              "\n",
              "  <svg xmlns=\"http://www.w3.org/2000/svg\" height=\"24px\" viewBox=\"0 -960 960 960\">\n",
              "    <path d=\"M120-120v-720h720v720H120Zm60-500h600v-160H180v160Zm220 220h160v-160H400v160Zm0 220h160v-160H400v160ZM180-400h160v-160H180v160Zm440 0h160v-160H620v160ZM180-180h160v-160H180v160Zm440 0h160v-160H620v160Z\"/>\n",
              "  </svg>\n",
              "    </button>\n",
              "\n",
              "  <style>\n",
              "    .colab-df-container {\n",
              "      display:flex;\n",
              "      gap: 12px;\n",
              "    }\n",
              "\n",
              "    .colab-df-convert {\n",
              "      background-color: #E8F0FE;\n",
              "      border: none;\n",
              "      border-radius: 50%;\n",
              "      cursor: pointer;\n",
              "      display: none;\n",
              "      fill: #1967D2;\n",
              "      height: 32px;\n",
              "      padding: 0 0 0 0;\n",
              "      width: 32px;\n",
              "    }\n",
              "\n",
              "    .colab-df-convert:hover {\n",
              "      background-color: #E2EBFA;\n",
              "      box-shadow: 0px 1px 2px rgba(60, 64, 67, 0.3), 0px 1px 3px 1px rgba(60, 64, 67, 0.15);\n",
              "      fill: #174EA6;\n",
              "    }\n",
              "\n",
              "    .colab-df-buttons div {\n",
              "      margin-bottom: 4px;\n",
              "    }\n",
              "\n",
              "    [theme=dark] .colab-df-convert {\n",
              "      background-color: #3B4455;\n",
              "      fill: #D2E3FC;\n",
              "    }\n",
              "\n",
              "    [theme=dark] .colab-df-convert:hover {\n",
              "      background-color: #434B5C;\n",
              "      box-shadow: 0px 1px 3px 1px rgba(0, 0, 0, 0.15);\n",
              "      filter: drop-shadow(0px 1px 2px rgba(0, 0, 0, 0.3));\n",
              "      fill: #FFFFFF;\n",
              "    }\n",
              "  </style>\n",
              "\n",
              "    <script>\n",
              "      const buttonEl =\n",
              "        document.querySelector('#df-88eec4d1-6581-4c60-82f8-fb5ac234b0b6 button.colab-df-convert');\n",
              "      buttonEl.style.display =\n",
              "        google.colab.kernel.accessAllowed ? 'block' : 'none';\n",
              "\n",
              "      async function convertToInteractive(key) {\n",
              "        const element = document.querySelector('#df-88eec4d1-6581-4c60-82f8-fb5ac234b0b6');\n",
              "        const dataTable =\n",
              "          await google.colab.kernel.invokeFunction('convertToInteractive',\n",
              "                                                    [key], {});\n",
              "        if (!dataTable) return;\n",
              "\n",
              "        const docLinkHtml = 'Like what you see? Visit the ' +\n",
              "          '<a target=\"_blank\" href=https://colab.research.google.com/notebooks/data_table.ipynb>data table notebook</a>'\n",
              "          + ' to learn more about interactive tables.';\n",
              "        element.innerHTML = '';\n",
              "        dataTable['output_type'] = 'display_data';\n",
              "        await google.colab.output.renderOutput(dataTable, element);\n",
              "        const docLink = document.createElement('div');\n",
              "        docLink.innerHTML = docLinkHtml;\n",
              "        element.appendChild(docLink);\n",
              "      }\n",
              "    </script>\n",
              "  </div>\n",
              "\n",
              "\n",
              "<div id=\"df-ecd97fe7-d4b2-483b-9712-cad0f8d18e83\">\n",
              "  <button class=\"colab-df-quickchart\" onclick=\"quickchart('df-ecd97fe7-d4b2-483b-9712-cad0f8d18e83')\"\n",
              "            title=\"Suggest charts\"\n",
              "            style=\"display:none;\">\n",
              "\n",
              "<svg xmlns=\"http://www.w3.org/2000/svg\" height=\"24px\"viewBox=\"0 0 24 24\"\n",
              "     width=\"24px\">\n",
              "    <g>\n",
              "        <path d=\"M19 3H5c-1.1 0-2 .9-2 2v14c0 1.1.9 2 2 2h14c1.1 0 2-.9 2-2V5c0-1.1-.9-2-2-2zM9 17H7v-7h2v7zm4 0h-2V7h2v10zm4 0h-2v-4h2v4z\"/>\n",
              "    </g>\n",
              "</svg>\n",
              "  </button>\n",
              "\n",
              "<style>\n",
              "  .colab-df-quickchart {\n",
              "      --bg-color: #E8F0FE;\n",
              "      --fill-color: #1967D2;\n",
              "      --hover-bg-color: #E2EBFA;\n",
              "      --hover-fill-color: #174EA6;\n",
              "      --disabled-fill-color: #AAA;\n",
              "      --disabled-bg-color: #DDD;\n",
              "  }\n",
              "\n",
              "  [theme=dark] .colab-df-quickchart {\n",
              "      --bg-color: #3B4455;\n",
              "      --fill-color: #D2E3FC;\n",
              "      --hover-bg-color: #434B5C;\n",
              "      --hover-fill-color: #FFFFFF;\n",
              "      --disabled-bg-color: #3B4455;\n",
              "      --disabled-fill-color: #666;\n",
              "  }\n",
              "\n",
              "  .colab-df-quickchart {\n",
              "    background-color: var(--bg-color);\n",
              "    border: none;\n",
              "    border-radius: 50%;\n",
              "    cursor: pointer;\n",
              "    display: none;\n",
              "    fill: var(--fill-color);\n",
              "    height: 32px;\n",
              "    padding: 0;\n",
              "    width: 32px;\n",
              "  }\n",
              "\n",
              "  .colab-df-quickchart:hover {\n",
              "    background-color: var(--hover-bg-color);\n",
              "    box-shadow: 0 1px 2px rgba(60, 64, 67, 0.3), 0 1px 3px 1px rgba(60, 64, 67, 0.15);\n",
              "    fill: var(--button-hover-fill-color);\n",
              "  }\n",
              "\n",
              "  .colab-df-quickchart-complete:disabled,\n",
              "  .colab-df-quickchart-complete:disabled:hover {\n",
              "    background-color: var(--disabled-bg-color);\n",
              "    fill: var(--disabled-fill-color);\n",
              "    box-shadow: none;\n",
              "  }\n",
              "\n",
              "  .colab-df-spinner {\n",
              "    border: 2px solid var(--fill-color);\n",
              "    border-color: transparent;\n",
              "    border-bottom-color: var(--fill-color);\n",
              "    animation:\n",
              "      spin 1s steps(1) infinite;\n",
              "  }\n",
              "\n",
              "  @keyframes spin {\n",
              "    0% {\n",
              "      border-color: transparent;\n",
              "      border-bottom-color: var(--fill-color);\n",
              "      border-left-color: var(--fill-color);\n",
              "    }\n",
              "    20% {\n",
              "      border-color: transparent;\n",
              "      border-left-color: var(--fill-color);\n",
              "      border-top-color: var(--fill-color);\n",
              "    }\n",
              "    30% {\n",
              "      border-color: transparent;\n",
              "      border-left-color: var(--fill-color);\n",
              "      border-top-color: var(--fill-color);\n",
              "      border-right-color: var(--fill-color);\n",
              "    }\n",
              "    40% {\n",
              "      border-color: transparent;\n",
              "      border-right-color: var(--fill-color);\n",
              "      border-top-color: var(--fill-color);\n",
              "    }\n",
              "    60% {\n",
              "      border-color: transparent;\n",
              "      border-right-color: var(--fill-color);\n",
              "    }\n",
              "    80% {\n",
              "      border-color: transparent;\n",
              "      border-right-color: var(--fill-color);\n",
              "      border-bottom-color: var(--fill-color);\n",
              "    }\n",
              "    90% {\n",
              "      border-color: transparent;\n",
              "      border-bottom-color: var(--fill-color);\n",
              "    }\n",
              "  }\n",
              "</style>\n",
              "\n",
              "  <script>\n",
              "    async function quickchart(key) {\n",
              "      const quickchartButtonEl =\n",
              "        document.querySelector('#' + key + ' button');\n",
              "      quickchartButtonEl.disabled = true;  // To prevent multiple clicks.\n",
              "      quickchartButtonEl.classList.add('colab-df-spinner');\n",
              "      try {\n",
              "        const charts = await google.colab.kernel.invokeFunction(\n",
              "            'suggestCharts', [key], {});\n",
              "      } catch (error) {\n",
              "        console.error('Error during call to suggestCharts:', error);\n",
              "      }\n",
              "      quickchartButtonEl.classList.remove('colab-df-spinner');\n",
              "      quickchartButtonEl.classList.add('colab-df-quickchart-complete');\n",
              "    }\n",
              "    (() => {\n",
              "      let quickchartButtonEl =\n",
              "        document.querySelector('#df-ecd97fe7-d4b2-483b-9712-cad0f8d18e83 button');\n",
              "      quickchartButtonEl.style.display =\n",
              "        google.colab.kernel.accessAllowed ? 'block' : 'none';\n",
              "    })();\n",
              "  </script>\n",
              "</div>\n",
              "\n",
              "    </div>\n",
              "  </div>\n"
            ],
            "application/vnd.google.colaboratory.intrinsic+json": {
              "type": "dataframe",
              "repr_error": "0"
            }
          },
          "metadata": {},
          "execution_count": 9
        }
      ]
    },
    {
      "cell_type": "code",
      "source": [
        "# download test data set\n",
        "\n",
        "# define the date range\n",
        "start_date = '2016-01-01'\n",
        "end_date = '2023-12-31'\n",
        "\n",
        "# query to get data for the specified date range and variables for the top 25 stocks\n",
        "query = f\"\"\"\n",
        "SELECT\n",
        "    a.permco,\n",
        "    a.permno,\n",
        "    b.comnam,\n",
        "    b.ticker,\n",
        "    a.date,\n",
        "    a.prc,\n",
        "    a.cfacpr,\n",
        "    a.ret\n",
        "FROM\n",
        "    crsp.dsf AS a\n",
        "JOIN\n",
        "    (SELECT permno, comnam, ticker, namedt, nameendt\n",
        "     FROM crsp.dsenames\n",
        "     WHERE permno IN ({permnos_str}) -- filter for the top 25 stocks\n",
        "       AND namedt <= '{end_date}'\n",
        "       AND (nameendt IS NULL OR nameendt >= '{start_date}')) AS b\n",
        "ON\n",
        "    a.permno = b.permno\n",
        "WHERE\n",
        "    a.permno IN ({permnos_str})       -- filter for the top 25 stocks\n",
        "    AND a.date BETWEEN '{start_date}' AND '{end_date}'\n",
        "    AND a.date >= b.namedt\n",
        "    AND (a.date <= b.nameendt OR b.nameendt IS NULL)\n",
        "\"\"\"\n",
        "\n",
        "# execute query\n",
        "crsp_test = db.raw_sql(query)\n",
        "crsp_test.sort_values(by=['permco', 'date'], inplace=True)"
      ],
      "metadata": {
        "id": "4jyjU_RYQy6I"
      },
      "execution_count": null,
      "outputs": []
    },
    {
      "cell_type": "code",
      "source": [
        "# change ticker for permco 42273 to ELV for consistency\n",
        "crsp_train['ticker'][crsp_train['permco']==42273] = 'ELV'\n",
        "crsp_test['ticker'][crsp_test['permco']==42273] = 'ELV'"
      ],
      "metadata": {
        "id": "L5M35csFKhjf",
        "colab": {
          "base_uri": "https://localhost:8080/"
        },
        "outputId": "0b54e504-5f03-439e-c116-8178bc016a57"
      },
      "execution_count": null,
      "outputs": [
        {
          "output_type": "stream",
          "name": "stderr",
          "text": [
            "<ipython-input-11-d44926cf61db>:2: SettingWithCopyWarning: \n",
            "A value is trying to be set on a copy of a slice from a DataFrame\n",
            "\n",
            "See the caveats in the documentation: https://pandas.pydata.org/pandas-docs/stable/user_guide/indexing.html#returning-a-view-versus-a-copy\n",
            "  crsp_train['ticker'][crsp_train['permco']==42273] = 'ELV'\n",
            "<ipython-input-11-d44926cf61db>:3: SettingWithCopyWarning: \n",
            "A value is trying to be set on a copy of a slice from a DataFrame\n",
            "\n",
            "See the caveats in the documentation: https://pandas.pydata.org/pandas-docs/stable/user_guide/indexing.html#returning-a-view-versus-a-copy\n",
            "  crsp_test['ticker'][crsp_test['permco']==42273] = 'ELV'\n"
          ]
        }
      ]
    },
    {
      "cell_type": "code",
      "source": [
        "# save the dataframe\n",
        "crsp_train_path = '/content/drive/MyDrive/PostGrad/5. Extended Research Projects/Dataset/crsp_train.csv'\n",
        "crsp_test_path = '/content/drive/MyDrive/PostGrad/5. Extended Research Projects/Dataset/crsp_test.csv'\n",
        "\n",
        "crsp_train.to_csv(crsp_train_path, index=False)\n",
        "crsp_test.to_csv(crsp_test_path, index=False)"
      ],
      "metadata": {
        "id": "A0s0YIvAXnqT"
      },
      "execution_count": null,
      "outputs": []
    },
    {
      "cell_type": "markdown",
      "source": [
        "## **3. Retrieve Linking Table**"
      ],
      "metadata": {
        "id": "ourGQ_0YFFlC"
      }
    },
    {
      "cell_type": "code",
      "source": [
        "# query to get linking table of gvkey and permco\n",
        "query = f\"\"\"\n",
        "SELECT\n",
        "    DISTINCT lpermno,\n",
        "    lpermco,\n",
        "    gvkey,\n",
        "    conm\n",
        "FROM\n",
        "    crsp.ccm_lookup\n",
        "WHERE\n",
        "    lpermno IN ({permnos_str}) -- filter top 25 stocks\n",
        "\"\"\"\n",
        "\n",
        "# execute query\n",
        "linking = db.raw_sql(query)"
      ],
      "metadata": {
        "id": "QgK3lFvjc6gl"
      },
      "execution_count": null,
      "outputs": []
    },
    {
      "cell_type": "code",
      "source": [
        "# save the dataframe\n",
        "linking_path = '/content/drive/MyDrive/PostGrad/5. Extended Research Projects/Dataset/linking_table.csv'\n",
        "\n",
        "linking.to_csv(linking_path, index=False)"
      ],
      "metadata": {
        "id": "YHntAKB37-6W"
      },
      "execution_count": null,
      "outputs": []
    },
    {
      "cell_type": "markdown",
      "metadata": {
        "id": "ZusBmrBZszKd"
      },
      "source": [
        "## **4. Collect News Data**"
      ]
    },
    {
      "cell_type": "code",
      "source": [
        "# extract top 25 gvkey list\n",
        "top_25_gvkey = linking['gvkey'].tolist()\n",
        "\n",
        "# convert gvkey list to a string for the SQL IN clause\n",
        "gvkey_str = ', '.join(f\"'{gv}'\" for gv in top_25_gvkey)"
      ],
      "metadata": {
        "id": "NokrV83lCXPt"
      },
      "execution_count": null,
      "outputs": []
    },
    {
      "cell_type": "code",
      "source": [
        "# download training data set\n",
        "\n",
        "# define the date range (a week early than numerical data)\n",
        "start_date = '2004-12-27'\n",
        "end_date = '2015-12-27'\n",
        "\n",
        "# query to get news data for the specified date range and variables for the top 25 stocks\n",
        "query = f\"\"\"\n",
        "SELECT\n",
        "    a.companyname,\n",
        "    a.headline,\n",
        "    b.situation,\n",
        "    a.eventtype,\n",
        "    a.announcedate,\n",
        "    a.gvkey\n",
        "FROM\n",
        "    ciq_keydev.wrds_keydev AS a\n",
        "LEFT JOIN\n",
        "    (SELECT keydevid, situation\n",
        "     FROM ciq_keydev.ciqkeydev\n",
        "     WHERE announceddate BETWEEN '{start_date}' AND '{end_date}') AS b\n",
        "ON\n",
        "    a.keydevid = b.keydevid\n",
        "WHERE\n",
        "    a.announcedate BETWEEN '{start_date}' AND '{end_date}'\n",
        "    AND a.gvkey IN ({gvkey_str})\n",
        "\"\"\"\n",
        "\n",
        "# execute query\n",
        "kd_train = db.raw_sql(query)"
      ],
      "metadata": {
        "id": "cy-l3h1fEfHz"
      },
      "execution_count": null,
      "outputs": []
    },
    {
      "cell_type": "code",
      "source": [
        "# download test data set\n",
        "\n",
        "# define the date range (a week early than numerical data)\n",
        "start_date = '2015-12-28'\n",
        "end_date = '2023-12-24'\n",
        "\n",
        "# query to get news data for the specified date range and variables for the top 25 stocks\n",
        "query = f\"\"\"\n",
        "SELECT\n",
        "    a.companyname,\n",
        "    a.headline,\n",
        "    b.situation,\n",
        "    a.eventtype,\n",
        "    a.announcedate,\n",
        "    a.gvkey\n",
        "FROM\n",
        "    ciq_keydev.wrds_keydev AS a\n",
        "LEFT JOIN\n",
        "    (SELECT keydevid, situation\n",
        "     FROM ciq_keydev.ciqkeydev\n",
        "     WHERE announceddate BETWEEN '{start_date}' AND '{end_date}') AS b\n",
        "ON\n",
        "    a.keydevid = b.keydevid\n",
        "WHERE\n",
        "    a.announcedate BETWEEN '{start_date}' AND '{end_date}'\n",
        "    AND a.gvkey IN ({gvkey_str})\n",
        "\"\"\"\n",
        "\n",
        "# execute query\n",
        "kd_test = db.raw_sql(query)"
      ],
      "metadata": {
        "id": "I3jwwHt0wF97"
      },
      "execution_count": null,
      "outputs": []
    },
    {
      "cell_type": "code",
      "source": [
        "# save the dataframe\n",
        "kd_train_path = '/content/drive/MyDrive/PostGrad/5. Extended Research Projects/Dataset/kd_train.csv'\n",
        "kd_test_path = '/content/drive/MyDrive/PostGrad/5. Extended Research Projects/Dataset/kd_test.csv'\n",
        "\n",
        "kd_train.to_csv(kd_train_path, index=False)\n",
        "kd_test.to_csv(kd_test_path, index=False)"
      ],
      "metadata": {
        "id": "eEAgvvmpYRdF"
      },
      "execution_count": null,
      "outputs": []
    },
    {
      "cell_type": "markdown",
      "metadata": {
        "id": "MaSXl7gOPWLo"
      },
      "source": [
        "## **5. Collect S&P500 Market Return (for portfolio analysis)**"
      ]
    },
    {
      "cell_type": "code",
      "source": [
        "# query to get S&P500 return data from CRSP\n",
        "query = \"\"\"\n",
        "    SELECT caldt, sprtrn AS sp500_return\n",
        "    FROM crsp.dsp500\n",
        "    WHERE caldt >= '2005-01-01' AND caldt <= '2023-12-31'\n",
        "    ORDER BY caldt\n",
        "\"\"\"\n",
        "\n",
        "# execute query\n",
        "spx500_returns = db.raw_sql(query)"
      ],
      "metadata": {
        "id": "Fw1l4sOmPWLp"
      },
      "execution_count": null,
      "outputs": []
    },
    {
      "cell_type": "markdown",
      "metadata": {
        "id": "stsqjUR48CLP"
      },
      "source": [
        "## **6. Collect Market Cap for Top 25 Healthcare Stocks (for Portfolio Analysis)**"
      ]
    },
    {
      "cell_type": "code",
      "source": [
        "# query to get market cap overtime (2005-2023) for 25 healthcare stocks\n",
        "query = f\"\"\"\n",
        "SELECT\n",
        "    permco,\n",
        "    date,\n",
        "    prc * shrout as market_cap\n",
        "FROM\n",
        "    crsp.dsf\n",
        "WHERE\n",
        "    permno IN ({permnos_str})   -- filter top 25 stocks\n",
        "    AND date >= '2005-01-01' AND date <= '2023-12-31'\n",
        "ORDER BY date\n",
        "\"\"\"\n",
        "\n",
        "# execute query\n",
        "market_cap = db.raw_sql(query)"
      ],
      "metadata": {
        "id": "md4Acy1M8CLP"
      },
      "execution_count": null,
      "outputs": []
    },
    {
      "cell_type": "markdown",
      "source": [
        "## **7. Collect NYSE Market Cap (for Transaction Cost)**"
      ],
      "metadata": {
        "id": "eIw2ISiuTy1-"
      }
    },
    {
      "cell_type": "code",
      "source": [
        "# Query to get market cap overtime (2005-2023) for all stocks\n",
        "query = f\"\"\"\n",
        "SELECT\n",
        "    permco,\n",
        "    date,\n",
        "    prc * shrout as market_cap\n",
        "FROM\n",
        "    crsp.dsf\n",
        "WHERE\n",
        "    date >= '2005-01-01' AND date <= '2023-12-31'\n",
        "    AND hexcd = 1  -- Filter for NYSE stocks\n",
        "ORDER BY date\n",
        "\"\"\"\n",
        "\n",
        "# Execute the query\n",
        "market_cap_all = db.raw_sql(query)"
      ],
      "metadata": {
        "id": "npcBl_D_UCl3"
      },
      "execution_count": null,
      "outputs": []
    },
    {
      "cell_type": "code",
      "source": [
        "# close the connection\n",
        "db.close()"
      ],
      "metadata": {
        "id": "4A4ZUjC1nVAc"
      },
      "execution_count": null,
      "outputs": []
    },
    {
      "cell_type": "markdown",
      "metadata": {
        "id": "hBXOHcEArV8Y"
      },
      "source": [
        "# **DATA PREPROCESSING**"
      ]
    },
    {
      "cell_type": "markdown",
      "source": [
        "## **1. Preprocessing Price and Return Data**"
      ],
      "metadata": {
        "id": "C1rvhJabOa39"
      }
    },
    {
      "cell_type": "markdown",
      "metadata": {
        "id": "3L3dynYETAb8"
      },
      "source": [
        "### **Training Dataset**"
      ]
    },
    {
      "cell_type": "markdown",
      "source": [
        "**A. Calculate Adjusted Price**"
      ],
      "metadata": {
        "id": "7kZJ-30UX6ks"
      }
    },
    {
      "cell_type": "code",
      "execution_count": null,
      "metadata": {
        "id": "mSJyrOnmCk8w"
      },
      "outputs": [],
      "source": [
        "# format to datetime\n",
        "crsp_train['date'] = pd.to_datetime(crsp_train['date'], format='%Y-%m-%d')"
      ]
    },
    {
      "cell_type": "code",
      "source": [
        "# define function to calculate adjusted price\n",
        "def calculate_adjusted_price(group):\n",
        "  group['adj_prc'] = group['prc']/ group['cfacpr']\n",
        "  return group\n",
        "\n",
        "# calculate adjusted price\n",
        "crsp_train = crsp_train.groupby('permco').apply(calculate_adjusted_price).reset_index(drop=True)"
      ],
      "metadata": {
        "id": "1OlujS27ZJB2"
      },
      "execution_count": null,
      "outputs": []
    },
    {
      "cell_type": "markdown",
      "metadata": {
        "id": "DYlWuSV8CAjY"
      },
      "source": [
        "**B. Calculate Weekly Return**"
      ]
    },
    {
      "cell_type": "code",
      "execution_count": null,
      "metadata": {
        "id": "FuAh-6p1RVPf"
      },
      "outputs": [],
      "source": [
        "# filter out rows with null or negative price and return\n",
        "crsp_train_filtered = crsp_train[(crsp_train['prc'] > 0) & ~crsp_train['ret'].isna()]\n",
        "crsp_train_filtered.set_index('date', inplace=True)\n",
        "\n",
        "# define function to calculate weekly return and set the weekly adjusted price at the end of the week\n",
        "def calculate_weekly_return(x):\n",
        "    weekly_return = (np.exp(np.sum(np.log(1 + x['ret']))) - 1)\n",
        "    adj_prc = x['adj_prc'].iloc[-1]\n",
        "    return pd.Series({'weekly_ret': weekly_return, 'adj_prc': adj_prc})\n",
        "\n",
        "# apply the function for each permco, grouping by week (ending on Sunday)\n",
        "weekly_returns_train = crsp_train_filtered.groupby(['permco', 'ticker', pd.Grouper(freq='W-SUN')]).apply(calculate_weekly_return)\n",
        "weekly_returns_train = weekly_returns_train.reset_index()\n",
        "\n",
        "# rename the columns\n",
        "weekly_returns_train.rename(columns={0: 'weekly_ret', 'date': 'end_date'}, inplace=True)\n",
        "\n",
        "# add start_date to represent the beginning of the week\n",
        "weekly_returns_train['start_date'] = weekly_returns_train['end_date'] - pd.DateOffset(days=6)"
      ]
    },
    {
      "cell_type": "markdown",
      "metadata": {
        "id": "ooLTrolC5L41"
      },
      "source": [
        "**C. Extract Price Direction**"
      ]
    },
    {
      "cell_type": "code",
      "source": [
        "# sort to ensure correct order for price comparison\n",
        "weekly_returns_train.sort_values(by=['permco', 'end_date'], inplace=True)\n",
        "\n",
        "# calculate the change in adjusted price from the previous week for each permco\n",
        "weekly_returns_train['price_change'] = weekly_returns_train.groupby(['permco', 'ticker'])['adj_prc'].diff()\n",
        "\n",
        "# determine the direction of the price change and label it as 'positive', 'negative', or 'no change'\n",
        "weekly_returns_train['price_direction'] = weekly_returns_train['price_change'].apply(\n",
        "    lambda x: 'positive' if x > 0 else ('negative' if x < 0 else 'no change'))\n",
        "\n",
        "# drop unnecessary price_change column\n",
        "weekly_returns_train.drop('price_change', axis=1, inplace=True)"
      ],
      "metadata": {
        "id": "XRQlFhZTCNBC"
      },
      "execution_count": null,
      "outputs": []
    },
    {
      "cell_type": "markdown",
      "metadata": {
        "id": "16UH0TApVADg"
      },
      "source": [
        "### **Test Dataset**"
      ]
    },
    {
      "cell_type": "markdown",
      "source": [
        "**A. Calculate Adjusted Price**"
      ],
      "metadata": {
        "id": "wzkBL8Bnfr-h"
      }
    },
    {
      "cell_type": "code",
      "execution_count": null,
      "metadata": {
        "id": "3yioguk6VADm"
      },
      "outputs": [],
      "source": [
        "# format to datetime\n",
        "crsp_test['date'] = pd.to_datetime(crsp_test['date'], format='%Y-%m-%d')"
      ]
    },
    {
      "cell_type": "code",
      "source": [
        "# define function to calculate adjusted price\n",
        "def calculate_adjusted_price(group):\n",
        "  group['adj_prc'] = group['prc']/ group['cfacpr']\n",
        "  return group\n",
        "\n",
        "# calculate adjusted price\n",
        "crsp_test = crsp_test.groupby('permco').apply(calculate_adjusted_price).reset_index(drop=True)"
      ],
      "metadata": {
        "id": "zLT9ms8jfw5W"
      },
      "execution_count": null,
      "outputs": []
    },
    {
      "cell_type": "markdown",
      "metadata": {
        "id": "3AL6zIxrVADm"
      },
      "source": [
        "**B. Calculate Weekly Return**"
      ]
    },
    {
      "cell_type": "code",
      "execution_count": null,
      "metadata": {
        "id": "qISU8YeJVADn"
      },
      "outputs": [],
      "source": [
        "# filter out rows with null or negative price and return\n",
        "crsp_test_filtered = crsp_test[(crsp_test['prc'] > 0) & ~crsp_test['ret'].isna()]\n",
        "crsp_test_filtered.set_index('date', inplace=True)\n",
        "\n",
        "# define function to calculate weekly return and set the weekly adjusted price at the end of the week\n",
        "def calculate_weekly_return(x):\n",
        "    weekly_return = (np.exp(np.sum(np.log(1 + x['ret']))) - 1)\n",
        "    adj_prc = x['adj_prc'].iloc[-1] #last price in the week\n",
        "    return pd.Series({'weekly_ret': weekly_return, 'adj_prc': adj_prc})\n",
        "\n",
        "# apply the function for each permco, grouping by week (ending on Sunday)\n",
        "weekly_returns_test = crsp_test_filtered.groupby(['permco', 'ticker', pd.Grouper(freq='W-SUN')]).apply(calculate_weekly_return)\n",
        "weekly_returns_test = weekly_returns_test.reset_index()\n",
        "\n",
        "# rename the columns\n",
        "weekly_returns_test.rename(columns={0: 'weekly_ret', 'date': 'end_date'}, inplace=True)\n",
        "\n",
        "# add start_date to represent the beginning of the week\n",
        "weekly_returns_test['start_date'] = weekly_returns_test['end_date'] - pd.DateOffset(days=6)"
      ]
    },
    {
      "cell_type": "markdown",
      "metadata": {
        "id": "AL7qSiIVVADn"
      },
      "source": [
        "**C. Extract Price Direction**"
      ]
    },
    {
      "cell_type": "code",
      "execution_count": null,
      "metadata": {
        "id": "EHVuP1c_VADn"
      },
      "outputs": [],
      "source": [
        "# sort to ensure correct order for price comparison\n",
        "weekly_returns_test.sort_values(by=['permco', 'end_date'], inplace=True)\n",
        "\n",
        "# calculate the change in adjusted price from the previous week for each permco\n",
        "weekly_returns_test['price_change'] = weekly_returns_test.groupby(['permco', 'ticker'])['adj_prc'].diff()\n",
        "\n",
        "# determine the direction of the price change and label it as 'positive', 'negative', or 'no change'\n",
        "weekly_returns_test['price_direction'] = weekly_returns_test['price_change'].apply(\n",
        "    lambda x: 'positive' if x > 0 else ('negative' if x < 0 else 'no change'))\n",
        "\n",
        "# drop unnecessary price_change column\n",
        "weekly_returns_test.drop('price_change', axis=1, inplace=True)"
      ]
    },
    {
      "cell_type": "markdown",
      "metadata": {
        "id": "cB6cqTahyGi5"
      },
      "source": [
        "## **2. Preprocessing News Data**"
      ]
    },
    {
      "cell_type": "markdown",
      "metadata": {
        "id": "Akjnuroiu7kI"
      },
      "source": [
        "### **Training Dataset**"
      ]
    },
    {
      "cell_type": "code",
      "execution_count": null,
      "metadata": {
        "id": "s0baaoLtz4jv"
      },
      "outputs": [],
      "source": [
        "# format to datetime\n",
        "kd_train['announcedate'] = pd.to_datetime(kd_train['announcedate'], format='%Y-%m-%d')"
      ]
    },
    {
      "cell_type": "code",
      "source": [
        "# find duplicates\n",
        "duplicates = kd_train.duplicated(subset=['gvkey', 'announcedate', 'headline', 'situation', 'eventtype'], keep=False)\n",
        "duplicate_kd_train = kd_train[duplicates]\n",
        "\n",
        "# remove duplicate news (only keep the last occurrence)\n",
        "kd_train_unique = kd_train.drop_duplicates(subset=['gvkey', 'announcedate', 'headline', 'situation', 'eventtype'], keep='last')"
      ],
      "metadata": {
        "id": "No3WEMYouwf4"
      },
      "execution_count": null,
      "outputs": []
    },
    {
      "cell_type": "markdown",
      "metadata": {
        "id": "Ur_1i3BRvxeE"
      },
      "source": [
        "### **Test Dataset**"
      ]
    },
    {
      "cell_type": "code",
      "execution_count": null,
      "metadata": {
        "id": "tebKqx6IvxeF"
      },
      "outputs": [],
      "source": [
        "# format to datetime\n",
        "kd_test['announcedate'] = pd.to_datetime(kd_test['announcedate'], format='%Y-%m-%d')"
      ]
    },
    {
      "cell_type": "code",
      "source": [
        "#find duplicates\n",
        "duplicates = kd_test.duplicated(subset=['gvkey', 'announcedate', 'headline', 'situation', 'eventtype'], keep=False)\n",
        "duplicate_kd_test = kd_test[duplicates]\n",
        "\n",
        "#remove headline duplicates (only keep the last occurrence)\n",
        "kd_test_unique = kd_test.drop_duplicates(subset=['gvkey', 'announcedate', 'headline', 'situation', 'eventtype'], keep='last')"
      ],
      "metadata": {
        "id": "D2A4xlcpujn2"
      },
      "execution_count": null,
      "outputs": []
    },
    {
      "cell_type": "markdown",
      "metadata": {
        "id": "4sGFm5xi0dAp"
      },
      "source": [
        "## **3. Merge Price, Return Data with News**"
      ]
    },
    {
      "cell_type": "markdown",
      "metadata": {
        "id": "B5PTtcaOysOO"
      },
      "source": [
        "### **Training Dataset**"
      ]
    },
    {
      "cell_type": "code",
      "execution_count": null,
      "metadata": {
        "id": "eH0qdPa2yshC"
      },
      "outputs": [],
      "source": [
        "# add permco as identifier in news dataset\n",
        "kd_train_unique = pd.merge(kd_train_unique, linking[['lpermco', 'gvkey']], on='gvkey', how='left')\n",
        "kd_train_unique = kd_train_unique.rename(columns={'lpermco':'permco'})"
      ]
    },
    {
      "cell_type": "code",
      "execution_count": null,
      "metadata": {
        "id": "MxmdhXPBtKhD"
      },
      "outputs": [],
      "source": [
        "# calculate the start and end dates of the announcement week based on the announcement date\n",
        "kd_train_unique = kd_train_unique.assign(\n",
        "    start_date=kd_train_unique['announcedate'] - pd.to_timedelta(kd_train_unique['announcedate'].dt.weekday, unit='d'),\n",
        "    end_date=kd_train_unique['announcedate'] + pd.to_timedelta(6 - kd_train_unique['announcedate'].dt.weekday, unit='d')\n",
        ")\n",
        "\n",
        "# calculate the end date of the following week by adding 7 days to the original end date\n",
        "kd_train_unique['end_date_nw'] = kd_train_unique['end_date'] + pd.DateOffset(days=7)"
      ]
    },
    {
      "cell_type": "code",
      "execution_count": null,
      "metadata": {
        "id": "R0wqODea0xAw"
      },
      "outputs": [],
      "source": [
        "# left join return & price data with news by date (news date is one week early)\n",
        "ret_news_train = pd.merge(weekly_returns_train, kd_train_unique[['permco','end_date_nw', 'announcedate', 'headline', 'situation', 'eventtype']],\n",
        "                          left_on=['permco', 'end_date'], right_on=['permco', 'end_date_nw'], how='left')"
      ]
    },
    {
      "cell_type": "code",
      "execution_count": null,
      "metadata": {
        "id": "W2zvuwFs8GN6",
        "colab": {
          "base_uri": "https://localhost:8080/"
        },
        "outputId": "d3b25170-a246-45e5-a0c3-c1f6521945d1"
      },
      "outputs": [
        {
          "output_type": "stream",
          "name": "stderr",
          "text": [
            "<ipython-input-34-118f14ab0a06>:5: FutureWarning: Setting an item of incompatible dtype is deprecated and will raise in a future error of pandas. Value 'no_headlines' has dtype incompatible with datetime64[ns], please explicitly cast to a compatible dtype first.\n",
            "  ret_news_train.fillna('no_headlines', inplace=True)\n"
          ]
        }
      ],
      "source": [
        "# remove end_date_nw column\n",
        "ret_news_train.drop('end_date_nw', axis=1, inplace=True)\n",
        "\n",
        "# impute week with no news with no_headlines\n",
        "ret_news_train.fillna('no_headlines', inplace=True)"
      ]
    },
    {
      "cell_type": "markdown",
      "metadata": {
        "id": "hAksI7L6x1UH"
      },
      "source": [
        "### **Test Dataset**"
      ]
    },
    {
      "cell_type": "code",
      "execution_count": null,
      "metadata": {
        "id": "Sja4YGrlx1UH"
      },
      "outputs": [],
      "source": [
        "# add permco as identifier in news dataset\n",
        "kd_test_unique = pd.merge(kd_test_unique, linking[['lpermco', 'gvkey']], on='gvkey', how='left')\n",
        "kd_test_unique = kd_test_unique.rename(columns={'lpermco':'permco'})"
      ]
    },
    {
      "cell_type": "code",
      "execution_count": null,
      "metadata": {
        "id": "ovyKPbxCx1UH"
      },
      "outputs": [],
      "source": [
        "# calculate the start and end dates of the announcement week based on the announcement date\n",
        "kd_test_unique = kd_test_unique.assign(\n",
        "    start_date=kd_test_unique['announcedate'] - pd.to_timedelta(kd_test_unique['announcedate'].dt.weekday, unit='d'),\n",
        "    end_date=kd_test_unique['announcedate'] + pd.to_timedelta(6 - kd_test_unique['announcedate'].dt.weekday, unit='d')\n",
        ")\n",
        "\n",
        "# calculate the end date of the following week by adding 7 days to the original end date\n",
        "kd_test_unique['end_date_nw'] = kd_test_unique['end_date'] + pd.DateOffset(days=7)"
      ]
    },
    {
      "cell_type": "code",
      "execution_count": null,
      "metadata": {
        "id": "JiPAAkexx1UI"
      },
      "outputs": [],
      "source": [
        "# left join return & price data with news by date (news date is one week early)\n",
        "ret_news_test = pd.merge(weekly_returns_test, kd_test_unique[['permco','end_date_nw', 'announcedate', 'headline', 'situation', 'eventtype']],\n",
        "                         left_on=['permco', 'end_date'], right_on=['permco', 'end_date_nw'], how='left')"
      ]
    },
    {
      "cell_type": "code",
      "execution_count": null,
      "metadata": {
        "id": "2cUQu5-Dx1UI",
        "colab": {
          "base_uri": "https://localhost:8080/"
        },
        "outputId": "fc738498-f896-4f96-ae97-0b58770c0f1e"
      },
      "outputs": [
        {
          "output_type": "stream",
          "name": "stderr",
          "text": [
            "<ipython-input-38-943ad071427c>:5: FutureWarning: Setting an item of incompatible dtype is deprecated and will raise in a future error of pandas. Value 'no_headlines' has dtype incompatible with datetime64[ns], please explicitly cast to a compatible dtype first.\n",
            "  ret_news_test.fillna('no_headlines', inplace=True)\n"
          ]
        }
      ],
      "source": [
        "# remove end_date_nw column\n",
        "ret_news_test.drop('end_date_nw', axis=1, inplace=True)\n",
        "\n",
        "# impute week with no news with no_headlines\n",
        "ret_news_test.fillna('no_headlines', inplace=True)"
      ]
    },
    {
      "cell_type": "code",
      "source": [
        "# save the dataframe\n",
        "train_path = '/content/drive/MyDrive/PostGrad/5. Extended Research Projects/Dataset/train_data.csv'\n",
        "test_path = '/content/drive/MyDrive/PostGrad/5. Extended Research Projects/Dataset/test_data.csv'\n",
        "\n",
        "ret_news_train.to_csv(train_path, index=False)\n",
        "ret_news_test.to_csv(test_path, index=False)"
      ],
      "metadata": {
        "id": "UfC4FJNI9bzS"
      },
      "execution_count": null,
      "outputs": []
    },
    {
      "cell_type": "markdown",
      "source": [
        "## **4. Preprocessing Market Data (for Portfolio Analysis)**"
      ],
      "metadata": {
        "id": "n0zWSiNYS6Yr"
      }
    },
    {
      "cell_type": "markdown",
      "source": [
        "### **S&P 500 Weekly Return**"
      ],
      "metadata": {
        "id": "CjbJ1CpbWy96"
      }
    },
    {
      "cell_type": "code",
      "execution_count": null,
      "metadata": {
        "id": "a-dXSKqYTDT5"
      },
      "outputs": [],
      "source": [
        "# define function to calculate weekly return for S&P 500\n",
        "def calculate_weekly_return(x):\n",
        "    weekly_return = (np.exp(np.sum(np.log(1 + x))) - 1)\n",
        "    return weekly_return\n",
        "\n",
        "# format to datetime\n",
        "spx500_returns['caldt'] = pd.to_datetime(spx500_returns['caldt'])\n",
        "\n",
        "# apply function to calculate weekly return\n",
        "spx500_returns.set_index('caldt', inplace=True)\n",
        "spx500_weekly_returns = spx500_returns['sp500_return'].resample('W-MON').apply(calculate_weekly_return)\n",
        "\n",
        "spx500_weekly_returns = spx500_weekly_returns.reset_index()"
      ]
    },
    {
      "cell_type": "code",
      "source": [
        "# save the dataframe\n",
        "spx500_path = '/content/drive/MyDrive/PostGrad/5. Extended Research Projects/Dataset/spx500_weekly_returns.csv'\n",
        "\n",
        "spx500_weekly_returns.to_csv(spx500_path, index=False)"
      ],
      "metadata": {
        "id": "uUrkzqF0TJkS"
      },
      "execution_count": null,
      "outputs": []
    },
    {
      "cell_type": "markdown",
      "source": [
        "### **Top 25 Healthcare Weekly Market Cap**"
      ],
      "metadata": {
        "id": "ufDKB3XKW6F-"
      }
    },
    {
      "cell_type": "code",
      "source": [
        "# format to datetime\n",
        "market_cap['date'] = pd.to_datetime(market_cap['date'])\n",
        "\n",
        "# create a new column for the week start date (Monday)\n",
        "market_cap['week_start_date'] = market_cap['date'] - pd.to_timedelta(market_cap['date'].dt.dayofweek, unit='d')\n",
        "\n",
        "# group by permco and week start date, then aggregate market_cap\n",
        "weekly_market_cap = market_cap.groupby(['permco', 'week_start_date']).agg({\n",
        "    'market_cap': 'first'\n",
        "}).reset_index()"
      ],
      "metadata": {
        "id": "CCaEU1t9HqjS"
      },
      "execution_count": null,
      "outputs": []
    },
    {
      "cell_type": "code",
      "source": [
        "# save the dataframe\n",
        "marketcap_path = '/content/drive/MyDrive/PostGrad/5. Extended Research Projects/Dataset/market_cap.csv'\n",
        "\n",
        "weekly_market_cap.to_csv(marketcap_path, index=False)"
      ],
      "metadata": {
        "id": "olgNmLSnETxp"
      },
      "execution_count": null,
      "outputs": []
    },
    {
      "cell_type": "markdown",
      "source": [
        "### **NYSE Weekly Market Cap**"
      ],
      "metadata": {
        "id": "KXztaK-8U7jX"
      }
    },
    {
      "cell_type": "code",
      "source": [
        "# format to datetime\n",
        "market_cap_all['date'] = pd.to_datetime(market_cap_all['date'])\n",
        "\n",
        "# create a new column for the week start date (Monday)\n",
        "market_cap_all['week_start_date'] = market_cap_all['date'] - pd.to_timedelta(market_cap_all['date'].dt.dayofweek, unit='d')\n",
        "\n",
        "# group by permco and week start date, then aggregate market_cap_all\n",
        "weekly_market_cap_all = market_cap_all.groupby(['permco', 'week_start_date']).agg({\n",
        "    'market_cap': 'first'\n",
        "}).reset_index()"
      ],
      "metadata": {
        "id": "MxT7vyBaU7jg"
      },
      "execution_count": null,
      "outputs": []
    },
    {
      "cell_type": "code",
      "source": [
        "# save the dataframe\n",
        "marketcapall_path = '/content/drive/MyDrive/PostGrad/5. Extended Research Projects/Dataset/market_cap_nyse.csv'\n",
        "\n",
        "weekly_market_cap_all.to_csv(marketcapall_path, index=False)"
      ],
      "metadata": {
        "id": "8qNMyyGbU7jh"
      },
      "execution_count": null,
      "outputs": []
    }
  ],
  "metadata": {
    "colab": {
      "collapsed_sections": [
        "SOuv3x3sLxIJ",
        "H5YSSrkHsj8z",
        "ourGQ_0YFFlC",
        "ZusBmrBZszKd",
        "MaSXl7gOPWLo",
        "3L3dynYETAb8",
        "16UH0TApVADg",
        "cB6cqTahyGi5",
        "B5PTtcaOysOO",
        "hAksI7L6x1UH"
      ],
      "provenance": [],
      "toc_visible": true,
      "authorship_tag": "ABX9TyPvKaPbeHBfMSXFj5AHhicW"
    },
    "kernelspec": {
      "display_name": "Python 3",
      "name": "python3"
    },
    "language_info": {
      "name": "python"
    }
  },
  "nbformat": 4,
  "nbformat_minor": 0
}