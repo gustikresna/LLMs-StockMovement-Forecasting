{
  "cells": [
    {
      "cell_type": "markdown",
      "metadata": {
        "id": "KiY1QE516Hmj"
      },
      "source": [
        "# **IMPORT LIBRARIES**"
      ]
    },
    {
      "cell_type": "code",
      "execution_count": null,
      "metadata": {
        "id": "ESZuh8zAryW2"
      },
      "outputs": [],
      "source": [
        "#import libraries\n",
        "import pandas as pd\n",
        "import numpy as np\n",
        "import spacy\n",
        "import json\n",
        "import pprint\n",
        "import matplotlib.pyplot as plt\n",
        "import seaborn as sns\n",
        "import spacy\n",
        "import plotly.express as px\n",
        "import plotly.io as pio\n",
        "import plotly.express as px\n",
        "import plotly.graph_objects as go\n",
        "import plotly.figure_factory as ff\n",
        "from collections import Counter\n",
        "from plotly.offline import download_plotlyjs, init_notebook_mode, plot, iplot\n",
        "from plotly.subplots import make_subplots\n",
        "init_notebook_mode(connected=False)\n",
        "pio.renderers.default = 'colab'\n",
        "pio.templates.default = 'plotly_white'\n",
        "from google.colab import files\n",
        "from wordcloud import WordCloud"
      ]
    },
    {
      "cell_type": "code",
      "execution_count": null,
      "metadata": {
        "id": "spKKmzPJseew"
      },
      "outputs": [],
      "source": [
        "# mount google colab\n",
        "from google.colab import drive\n",
        "drive.mount('/content/drive')"
      ]
    },
    {
      "cell_type": "markdown",
      "metadata": {
        "id": "2Oqbd8BDsGxq"
      },
      "source": [
        "# **ACCURACY**"
      ]
    },
    {
      "cell_type": "markdown",
      "metadata": {
        "id": "8NcuN3qjsfFh"
      },
      "source": [
        "## **Pre-Trained vs Fine-Tuned**"
      ]
    },
    {
      "cell_type": "code",
      "execution_count": null,
      "metadata": {
        "id": "d263OGIlvrxr"
      },
      "outputs": [],
      "source": [
        "# get pre-trained accuracy\n",
        "bert_pretrained_acc = pd.read_csv('/content/drive/MyDrive/PostGrad/5. Extended Research Projects/Results/Rolling Window Prediction/bert_rolling_accuracy.csv')\n",
        "roberta_pretrained_acc = pd.read_csv('/content/drive/MyDrive/PostGrad/5. Extended Research Projects/Results/Rolling Window Prediction/roberta_rolling_accuracy.csv')\n",
        "distilbert_pretrained_acc = pd.read_csv('/content/drive/MyDrive/PostGrad/5. Extended Research Projects/Results/Rolling Window Prediction/distilbert_rolling_accuracy.csv')\n",
        "distilroberta_pretrained_acc = pd.read_csv('/content/drive/MyDrive/PostGrad/5. Extended Research Projects/Results/Rolling Window Prediction/distilroberta_rolling_accuracy.csv')\n",
        "finbert_pretrained_acc = pd.read_csv('/content/drive/MyDrive/PostGrad/5. Extended Research Projects/Results/Rolling Window Prediction/finbert_rolling_accuracy.csv')"
      ]
    },
    {
      "cell_type": "code",
      "execution_count": null,
      "metadata": {
        "id": "-Z-wyxnlb5-f"
      },
      "outputs": [],
      "source": [
        "# get fine-tuned accuracy\n",
        "bert_finetuned_acc = pd.read_csv('/content/drive/MyDrive/PostGrad/5. Extended Research Projects/Results/Rolling Window Prediction/bert_rolling_finetuned_accuracy.csv')\n",
        "roberta_finetuned_acc = pd.read_csv('/content/drive/MyDrive/PostGrad/5. Extended Research Projects/Results/Rolling Window Prediction/roberta_rolling_finetuned_accuracy.csv')\n",
        "distilbert_finetuned_acc = pd.read_csv('/content/drive/MyDrive/PostGrad/5. Extended Research Projects/Results/Rolling Window Prediction/distilbert_rolling_finetuned_accuracy.csv')\n",
        "distilroberta_finetuned_acc = pd.read_csv('/content/drive/MyDrive/PostGrad/5. Extended Research Projects/Results/Rolling Window Prediction/distilroberta_rolling_finetuned_accuracy.csv')\n",
        "finbert_finetuned_acc = pd.read_csv('/content/drive/MyDrive/PostGrad/5. Extended Research Projects/Results/Rolling Window Prediction/finbert_rolling_finetuned_accuracy.csv')"
      ]
    },
    {
      "cell_type": "code",
      "execution_count": null,
      "metadata": {
        "id": "R40qVxkqd9-b"
      },
      "outputs": [],
      "source": [
        "df = [\n",
        "    ('BERT', 'Pre-trained', bert_pretrained_acc),\n",
        "    ('BERT', 'Fine-Tuned', bert_finetuned_acc),\n",
        "    ('RoBERTa', 'Pre-trained', roberta_pretrained_acc),\n",
        "    ('RoBERTa', 'Fine-Tuned', roberta_finetuned_acc),\n",
        "    ('DistilBERT', 'Pre-trained', distilbert_pretrained_acc),\n",
        "    ('DistilBERT', 'Fine-Tuned', distilbert_finetuned_acc),\n",
        "    ('DistilRoBERTa', 'Pre-trained', distilroberta_pretrained_acc),\n",
        "    ('DistilRoBERTa', 'Fine-Tuned', distilroberta_finetuned_acc),\n",
        "    ('FinBERT', 'Pre-trained', finbert_pretrained_acc),\n",
        "    ('FinBERT', 'Fine-Tuned', finbert_finetuned_acc)\n",
        "]\n",
        "\n",
        "# list to store results\n",
        "results = []\n",
        "\n",
        "# loop through each dataframe\n",
        "for model, tuning, df in df:\n",
        "    mean_accuracies = df.groupby('test_period')['test_accuracy'].mean().reset_index()\n",
        "    for _, row in mean_accuracies.iterrows():\n",
        "        results.append({\n",
        "            'Model': model,\n",
        "            'Tuning': tuning,\n",
        "            'Accuracy': row['test_accuracy']\n",
        "        })\n",
        "\n",
        "# convert results to a dataframe\n",
        "results_df = pd.DataFrame(results)"
      ]
    },
    {
      "cell_type": "code",
      "execution_count": null,
      "metadata": {
        "id": "uOZ1o5JYeNCz"
      },
      "outputs": [],
      "source": [
        "df = [\n",
        "    ('BERT', 'Pre-trained', bert_pretrained_acc),\n",
        "    ('BERT', 'Fine-Tuned', bert_finetuned_acc),\n",
        "    ('RoBERTa', 'Pre-trained', roberta_pretrained_acc),\n",
        "    ('RoBERTa', 'Fine-Tuned', roberta_finetuned_acc),\n",
        "    ('DistilBERT', 'Pre-trained', distilbert_pretrained_acc),\n",
        "    ('DistilBERT', 'Fine-Tuned', distilbert_finetuned_acc),\n",
        "    ('DistilRoBERTa', 'Pre-trained', distilroberta_pretrained_acc),\n",
        "    ('DistilRoBERTa', 'Fine-Tuned', distilroberta_finetuned_acc),\n",
        "    ('FinBERT', 'Pre-trained', finbert_pretrained_acc),\n",
        "    ('FinBERT', 'Fine-Tuned', finbert_finetuned_acc)\n",
        "]\n",
        "\n",
        "# list to store results\n",
        "results = []\n",
        "\n",
        "# loop through each dataframe\n",
        "for model, tuning, df in df:\n",
        "    mean_accuracy = df['test_accuracy'].mean()\n",
        "    results.append({\n",
        "        'Model': model,\n",
        "        'Tuning': tuning,\n",
        "        'Accuracy': mean_accuracy\n",
        "    })\n",
        "\n",
        "# convert results to dataframe\n",
        "results_df = pd.DataFrame(results)"
      ]
    },
    {
      "cell_type": "code",
      "execution_count": null,
      "metadata": {
        "id": "QUCCD3CYj3q4"
      },
      "outputs": [],
      "source": [
        "# define custom colors\n",
        "custom_colors = ['#ACCBF9', '#4A66AC']\n",
        "\n",
        "# create the grouped bar chart\n",
        "fig = px.bar(\n",
        "    results_df,\n",
        "    x='Model',\n",
        "    y='Accuracy',\n",
        "    color='Tuning',\n",
        "    barmode='group',\n",
        "    title='Model Accuracy: Pre-Trained vs Fine-Tuned',\n",
        "    labels={'Accuracy': 'Accuracy', 'Model': 'Model'},\n",
        "    color_discrete_sequence=custom_colors,\n",
        "    height=600,\n",
        "    width=1000,\n",
        "    text='Accuracy',\n",
        ")\n",
        "\n",
        "# customize y-axis\n",
        "fig.update_yaxes(\n",
        "    title_text='Accuracy',\n",
        "    range=[0.45, 0.55],\n",
        "    ticks='outside',\n",
        "    tick0=0.52,\n",
        "    dtick=0.01,\n",
        "    showgrid=True\n",
        ")\n",
        "\n",
        "# update accuracy labels\n",
        "fig.update_traces(\n",
        "    texttemplate='%{text:.3f}',\n",
        "    textposition='outside',\n",
        "    textfont_size=12\n",
        ")\n",
        "\n",
        "# add a horizontal line\n",
        "fig.add_shape(\n",
        "    type='line',\n",
        "    x0=-0.5, x1=len(results_df['Model'].unique())-0.5,\n",
        "    y0=0.5, y1=0.5,\n",
        "    line=dict(color='Red', width=2, dash='dash')\n",
        ")\n",
        "\n",
        "# show the figure\n",
        "fig.show()"
      ]
    },
    {
      "cell_type": "markdown",
      "metadata": {
        "id": "X-YjRHufpw7e"
      },
      "source": [
        "# **YEARLY ACCURACY**"
      ]
    },
    {
      "cell_type": "markdown",
      "metadata": {
        "id": "cqB6adiVf0Kk"
      },
      "source": [
        "## **Pre-Trained**"
      ]
    },
    {
      "cell_type": "code",
      "execution_count": null,
      "metadata": {
        "id": "xXNG3NT1p2o_"
      },
      "outputs": [],
      "source": [
        "# get the pretrained rolling window\n",
        "bert_rolling_pretrained = pd.read_csv('/content/drive/MyDrive/PostGrad/5. Extended Research Projects/Results/Rolling Window Prediction/bert_rolling_accuracy.csv')\n",
        "roberta_rolling_pretrained = pd.read_csv('/content/drive/MyDrive/PostGrad/5. Extended Research Projects/Results/Rolling Window Prediction/roberta_rolling_accuracy.csv')\n",
        "distilbert_rolling_pretrained = pd.read_csv('/content/drive/MyDrive/PostGrad/5. Extended Research Projects/Results/Rolling Window Prediction/distilbert_rolling_accuracy.csv')\n",
        "distilroberta_rolling_pretrained = pd.read_csv('/content/drive/MyDrive/PostGrad/5. Extended Research Projects/Results/Rolling Window Prediction/distilroberta_rolling_accuracy.csv')\n",
        "finbert_rolling_pretrained = pd.read_csv('/content/drive/MyDrive/PostGrad/5. Extended Research Projects/Results/Rolling Window Prediction/finbert_rolling_accuracy.csv')"
      ]
    },
    {
      "cell_type": "code",
      "execution_count": null,
      "metadata": {
        "id": "HrJEWRuZ8xa4"
      },
      "outputs": [],
      "source": [
        "# add model name to new column\n",
        "bert_rolling_pretrained = bert_rolling_pretrained.assign(model='bert')\n",
        "roberta_rolling_pretrained = roberta_rolling_pretrained.assign(model='roberta')\n",
        "distilbert_rolling_pretrained = distilbert_rolling_pretrained.assign(model='distilbert')\n",
        "distilroberta_rolling_pretrained = distilroberta_rolling_pretrained.assign(model='distilroberta')\n",
        "finbert_rolling_pretrained = finbert_rolling_pretrained.assign(model='finbert')"
      ]
    },
    {
      "cell_type": "code",
      "execution_count": null,
      "metadata": {
        "id": "dNQU7zaq6gRe"
      },
      "outputs": [],
      "source": [
        "# concat all model's dataframe\n",
        "total_rolling_pretrained = pd.concat([bert_rolling_pretrained,\n",
        "                                   roberta_rolling_pretrained,\n",
        "                                   distilbert_rolling_pretrained,\n",
        "                                   distilroberta_rolling_pretrained,\n",
        "                                   finbert_rolling_pretrained], axis=0)"
      ]
    },
    {
      "cell_type": "code",
      "execution_count": null,
      "metadata": {
        "id": "YSjP2HHJ90as"
      },
      "outputs": [],
      "source": [
        "# group by model and predicted year\n",
        "df_grouped = total_rolling_pretrained.groupby(['model', 'test_period']).agg({\n",
        "    'test_accuracy': ['mean', 'std']\n",
        "}).reset_index()\n",
        "\n",
        "# flatten the multiindex columns\n",
        "df_grouped.columns = ['model', 'test_period', 'accuracy_mean', 'accuracy_std']"
      ]
    },
    {
      "cell_type": "code",
      "execution_count": null,
      "metadata": {
        "id": "uQkzVI3K8sS8"
      },
      "outputs": [],
      "source": [
        "# get a color sequence from plotly's default colors\n",
        "colors = px.colors.qualitative.Plotly\n",
        "\n",
        "# create a dictionary to map each model to a color\n",
        "color_dict = {model: colors[i % len(colors)] for i, model in enumerate(df_grouped['model'].unique())}\n",
        "\n",
        "# define function to make the color more transparent\n",
        "def get_transparent_color(color, alpha=0.2):\n",
        "    # convert hex to RGB and then to RGBA\n",
        "    hex_color = color.lstrip('#')\n",
        "    rgb_color = tuple(int(hex_color[i:i+2], 16) for i in (0, 2, 4))\n",
        "    return f'rgba({rgb_color[0]}, {rgb_color[1]}, {rgb_color[2]}, {alpha})'\n",
        "\n",
        "# create a figure\n",
        "fig = go.Figure()\n",
        "\n",
        "# list of unique models\n",
        "models = df_grouped['model'].unique()\n",
        "\n",
        "# loop through each model\n",
        "for model in models:\n",
        "    # filter data for the current model\n",
        "    df_model = df_grouped[df_grouped['model'] == model]\n",
        "\n",
        "    # get the color for the current model\n",
        "    color = color_dict[model]\n",
        "\n",
        "    # add the mean line\n",
        "    fig.add_trace(go.Scatter(\n",
        "        x=df_model['test_period'],\n",
        "        y=df_model['accuracy_mean'],\n",
        "        mode='lines',\n",
        "        name=f'{model}',\n",
        "        line=dict(color=color, width=2)\n",
        "    ))\n",
        "\n",
        "    # add the standard deviation shaded area\n",
        "    fig.add_trace(go.Scatter(\n",
        "        x=pd.concat([df_model['test_period'], df_model['test_period'][::-1]]),\n",
        "        y=pd.concat([df_model['accuracy_mean'] + df_model['accuracy_std'],\n",
        "                     (df_model['accuracy_mean'] - df_model['accuracy_std'])[::-1]]),\n",
        "        fill='toself',\n",
        "        fillcolor=get_transparent_color(color, alpha=0.2),  # Use the same color with transparency\n",
        "        line=dict(color='rgba(255,255,255,0)'),\n",
        "        hoverinfo=\"skip\",\n",
        "        showlegend=False,\n",
        "        name=f'{model} std dev'\n",
        "    ))\n",
        "\n",
        "# customize the y-axis\n",
        "fig.update_yaxes(range=[.35, .7])\n",
        "\n",
        "# customize layout\n",
        "fig.update_layout(\n",
        "    title='Rolling Window Accuracy (Average)',\n",
        "    xaxis_title='Test Period (Year)',\n",
        "    yaxis_title='Accuracy',\n",
        "    template='plotly_white',\n",
        "    width=900,\n",
        "    height=700,\n",
        "    showlegend=True\n",
        ")\n",
        "# add a horizontal line\n",
        "fig.add_shape(\n",
        "    type='line',\n",
        "    x0=2016, x1=2023,\n",
        "    y0=0.5, y1=0.5,\n",
        "    line=dict(color='Red', width=2, dash='dash')\n",
        ")\n",
        "\n",
        "# Show the plot\n",
        "fig.show()"
      ]
    },
    {
      "cell_type": "markdown",
      "metadata": {
        "id": "GLX8gcMrg3UT"
      },
      "source": [
        "## **Fine-Tuned**"
      ]
    },
    {
      "cell_type": "code",
      "execution_count": null,
      "metadata": {
        "id": "RFw8Lpx0g3Ub"
      },
      "outputs": [],
      "source": [
        "# get the finetuned rolling window\n",
        "bert_rolling_finetuned = pd.read_csv('/content/drive/MyDrive/PostGrad/5. Extended Research Projects/Results/Rolling Window Prediction/bert_rolling_finetuned_accuracy.csv')\n",
        "roberta_rolling_finetuned = pd.read_csv('/content/drive/MyDrive/PostGrad/5. Extended Research Projects/Results/Rolling Window Prediction/roberta_rolling_finetuned_accuracy.csv')\n",
        "distilbert_rolling_finetuned = pd.read_csv('/content/drive/MyDrive/PostGrad/5. Extended Research Projects/Results/Rolling Window Prediction/distilbert_rolling_finetuned_accuracy.csv')\n",
        "distilroberta_rolling_finetuned = pd.read_csv('/content/drive/MyDrive/PostGrad/5. Extended Research Projects/Results/Rolling Window Prediction/distilroberta_rolling_finetuned_accuracy.csv')\n",
        "finbert_rolling_finetuned = pd.read_csv('/content/drive/MyDrive/PostGrad/5. Extended Research Projects/Results/Rolling Window Prediction/finbert_rolling_finetuned_accuracy.csv')"
      ]
    },
    {
      "cell_type": "code",
      "execution_count": null,
      "metadata": {
        "id": "v-RpOvDGg3Ub"
      },
      "outputs": [],
      "source": [
        "# add model name to new column\n",
        "bert_rolling_finetuned = bert_rolling_finetuned.assign(model='bert')\n",
        "roberta_rolling_finetuned = roberta_rolling_finetuned.assign(model='roberta')\n",
        "distilbert_rolling_finetuned = distilbert_rolling_finetuned.assign(model='distilbert')\n",
        "distilroberta_rolling_finetuned = distilroberta_rolling_finetuned.assign(model='distilroberta')\n",
        "finbert_rolling_finetuned = finbert_rolling_finetuned.assign(model='finbert')"
      ]
    },
    {
      "cell_type": "code",
      "execution_count": null,
      "metadata": {
        "id": "ItJaEl1jg3Ub"
      },
      "outputs": [],
      "source": [
        "# concat all model's dataframe\n",
        "total_rolling_finetuned = pd.concat([bert_rolling_finetuned,\n",
        "                                   roberta_rolling_finetuned,\n",
        "                                   distilbert_rolling_finetuned,\n",
        "                                   distilroberta_rolling_finetuned,\n",
        "                                   finbert_rolling_finetuned], axis=0)"
      ]
    },
    {
      "cell_type": "code",
      "execution_count": null,
      "metadata": {
        "id": "-ISkB6SXg3Ub"
      },
      "outputs": [],
      "source": [
        "# assuming columns are 'model', 'company', 'test_period', 'accuracy'\n",
        "df_grouped = total_rolling_finetuned.groupby(['model', 'test_period']).agg({\n",
        "    'test_accuracy': ['mean', 'std']\n",
        "}).reset_index()\n",
        "\n",
        "# flatten the multiindex columns\n",
        "df_grouped.columns = ['model', 'test_period', 'accuracy_mean', 'accuracy_std']"
      ]
    },
    {
      "cell_type": "code",
      "execution_count": null,
      "metadata": {
        "id": "5DZUw98qg3Ub"
      },
      "outputs": [],
      "source": [
        "# get a color sequence from Plotly's default colors\n",
        "colors = px.colors.qualitative.Plotly\n",
        "\n",
        "# create a dictionary to map each model to a color\n",
        "color_dict = {model: colors[i % len(colors)] for i, model in enumerate(df_grouped['model'].unique())}\n",
        "\n",
        "# define function to make the color more transparent\n",
        "def get_transparent_color(color, alpha=0.2):\n",
        "    # Convert hex to RGB and then to RGBA\n",
        "    hex_color = color.lstrip('#')\n",
        "    rgb_color = tuple(int(hex_color[i:i+2], 16) for i in (0, 2, 4))\n",
        "    return f'rgba({rgb_color[0]}, {rgb_color[1]}, {rgb_color[2]}, {alpha})'\n",
        "\n",
        "# create a figure\n",
        "fig = go.Figure()\n",
        "\n",
        "# list of unique models\n",
        "models = df_grouped['model'].unique()\n",
        "\n",
        "# loop through each model\n",
        "for model in models:\n",
        "    # filter data for the current model\n",
        "    df_model = df_grouped[df_grouped['model'] == model]\n",
        "\n",
        "    # get the color for the current model\n",
        "    color = color_dict[model]\n",
        "\n",
        "    # add the mean line\n",
        "    fig.add_trace(go.Scatter(\n",
        "        x=df_model['test_period'],\n",
        "        y=df_model['accuracy_mean'],\n",
        "        mode='lines',\n",
        "        name=f'{model}',\n",
        "        line=dict(color=color, width=2)\n",
        "    ))\n",
        "\n",
        "    # add the standard deviation shaded area\n",
        "    fig.add_trace(go.Scatter(\n",
        "        x=pd.concat([df_model['test_period'], df_model['test_period'][::-1]]),\n",
        "        y=pd.concat([df_model['accuracy_mean'] + df_model['accuracy_std'],\n",
        "                     (df_model['accuracy_mean'] - df_model['accuracy_std'])[::-1]]),\n",
        "        fill='toself',\n",
        "        fillcolor=get_transparent_color(color, alpha=0.2),  # Use the same color with transparency\n",
        "        line=dict(color='rgba(255,255,255,0)'),\n",
        "        hoverinfo=\"skip\",\n",
        "        showlegend=False,\n",
        "        name=f'{model} std dev'\n",
        "    ))\n",
        "\n",
        "# customize the y-axis\n",
        "fig.update_yaxes(range=[.35, .7])\n",
        "\n",
        "# customize layout\n",
        "fig.update_layout(\n",
        "    title='Rolling Window Accuracy (Average)',\n",
        "    xaxis_title='Test Period (Year)',\n",
        "    yaxis_title='Accuracy',\n",
        "    template='plotly_white',\n",
        "    width=900,\n",
        "    height=700,\n",
        "    showlegend=True\n",
        ")\n",
        "# add a horizontal line\n",
        "fig.add_shape(\n",
        "    type='line',\n",
        "    x0=2016, x1=2023,\n",
        "    y0=0.5, y1=0.5,\n",
        "    line=dict(color='Red', width=2, dash='dash')\n",
        ")\n",
        "\n",
        "# show the plot\n",
        "fig.show()"
      ]
    },
    {
      "cell_type": "markdown",
      "metadata": {
        "id": "WwRd4FaSZmro"
      },
      "source": [
        "# **CONFUSION MATRIX**"
      ]
    },
    {
      "cell_type": "markdown",
      "metadata": {
        "id": "XMIarR7UIX5p"
      },
      "source": [
        "## **Pre-Trained**"
      ]
    },
    {
      "cell_type": "code",
      "execution_count": null,
      "metadata": {
        "id": "jdzZub8aZmro"
      },
      "outputs": [],
      "source": [
        "# load data\n",
        "bert_pred_pretrained = pd.read_csv('/content/drive/MyDrive/PostGrad/5. Extended Research Projects/Results/Rolling Window Prediction/bert_rolling_prediction.csv')\n",
        "roberta_pred_pretrained = pd.read_csv('/content/drive/MyDrive/PostGrad/5. Extended Research Projects/Results/Rolling Window Prediction/roberta_rolling_prediction.csv')\n",
        "distilbert_pred_pretrained = pd.read_csv('/content/drive/MyDrive/PostGrad/5. Extended Research Projects/Results/Rolling Window Prediction/distilbert_rolling_prediction.csv')\n",
        "distilroberta_pred_pretrained = pd.read_csv('/content/drive/MyDrive/PostGrad/5. Extended Research Projects/Results/Rolling Window Prediction/distilroberta_rolling_prediction.csv')\n",
        "finbert_pred_pretrained = pd.read_csv('/content/drive/MyDrive/PostGrad/5. Extended Research Projects/Results/Rolling Window Prediction/finbert_rolling_prediction.csv')"
      ]
    },
    {
      "cell_type": "markdown",
      "metadata": {
        "id": "9XGo7_E5a8Pf"
      },
      "source": [
        "### **BERT**"
      ]
    },
    {
      "cell_type": "code",
      "execution_count": null,
      "metadata": {
        "id": "UDpJ8ErAZ_rQ"
      },
      "outputs": [],
      "source": [
        "# extract predictions and actual values\n",
        "predictions = bert_pred_pretrained['prediction']\n",
        "actuals = bert_pred_pretrained['actual']\n",
        "\n",
        "# create the confusion matrix\n",
        "cm = confusion_matrix(actuals, predictions, labels=['positive', 'negative'])\n",
        "\n",
        "# convert to dataframe\n",
        "cm_bert_pred_pretrained = pd.DataFrame(cm, index=['Actual Positive', 'Actual Negative'], columns=['Predicted Positive', 'Predicted Negative'])\n",
        "\n",
        "# plotting the confusion matrix\n",
        "plt.figure(figsize=(8, 6))\n",
        "sns.heatmap(cm_bert_pred_pretrained, annot=True, fmt='d', cmap='Blues', annot_kws={\"size\": 14})\n",
        "plt.title('Confusion Matrix')\n",
        "plt.ylabel('Actual')\n",
        "plt.xlabel('Predicted')\n",
        "plt.show()"
      ]
    },
    {
      "cell_type": "markdown",
      "metadata": {
        "id": "UOpuRB0AbLdE"
      },
      "source": [
        "### **RoBERTa**"
      ]
    },
    {
      "cell_type": "code",
      "execution_count": null,
      "metadata": {
        "id": "zbw3E66rbLdG"
      },
      "outputs": [],
      "source": [
        "# extract predictions and actual values\n",
        "predictions = roberta_pred_pretrained['prediction']\n",
        "actuals = roberta_pred_pretrained['actual']\n",
        "\n",
        "# create the confusion matrix\n",
        "cm = confusion_matrix(actuals, predictions, labels=['positive', 'negative'])\n",
        "\n",
        "# convert to dataframe\n",
        "cm_roberta_pred_pretrained = pd.DataFrame(cm, index=['Actual Positive', 'Actual Negative'], columns=['Predicted Positive', 'Predicted Negative'])\n",
        "\n",
        "# plotting the confusion matrix\n",
        "plt.figure(figsize=(8, 6))\n",
        "sns.heatmap(cm_roberta_pred_pretrained, annot=True, fmt='d', cmap='Blues', annot_kws={\"size\": 14})\n",
        "plt.title('Confusion Matrix')\n",
        "plt.ylabel('Actual')\n",
        "plt.xlabel('Predicted')\n",
        "plt.show()"
      ]
    },
    {
      "cell_type": "markdown",
      "metadata": {
        "id": "TohORbpUbQWY"
      },
      "source": [
        "### **DistilBERT**"
      ]
    },
    {
      "cell_type": "code",
      "execution_count": null,
      "metadata": {
        "id": "x1SAmjwxbQWm"
      },
      "outputs": [],
      "source": [
        "# extract predictions and actual values\n",
        "predictions = distilbert_pred_pretrained['prediction']\n",
        "actuals = distilbert_pred_pretrained['actual']\n",
        "\n",
        "# create the confusion matrix\n",
        "cm = confusion_matrix(actuals, predictions, labels=['positive', 'negative'])\n",
        "\n",
        "# convert to dataframe\n",
        "cm_distilbert_pred_pretrained = pd.DataFrame(cm, index=['Actual Positive', 'Actual Negative'], columns=['Predicted Positive', 'Predicted Negative'])\n",
        "\n",
        "# plotting the confusion matrix\n",
        "plt.figure(figsize=(8, 6))\n",
        "sns.heatmap(cm_distilbert_pred_pretrained, annot=True, fmt='d', cmap='Blues', annot_kws={\"size\": 14})\n",
        "plt.title('Confusion Matrix')\n",
        "plt.ylabel('Actual')\n",
        "plt.xlabel('Predicted')\n",
        "plt.show()"
      ]
    },
    {
      "cell_type": "markdown",
      "metadata": {
        "id": "o9yG-NrObTOg"
      },
      "source": [
        "### **DistilRoBERTa**"
      ]
    },
    {
      "cell_type": "code",
      "execution_count": null,
      "metadata": {
        "id": "J5ER1Z13bTOm"
      },
      "outputs": [],
      "source": [
        "# extract predictions and actual values\n",
        "predictions = distilroberta_pred_pretrained['prediction']\n",
        "actuals = distilroberta_pred_pretrained['actual']\n",
        "\n",
        "# create the confusion matrix\n",
        "cm = confusion_matrix(actuals, predictions, labels=['positive', 'negative'])\n",
        "\n",
        "# convert to dataframe\n",
        "cm_distilroberta_pred_pretrained = pd.DataFrame(cm, index=['Actual Positive', 'Actual Negative'], columns=['Predicted Positive', 'Predicted Negative'])\n",
        "\n",
        "# plotting the confusion matrix\n",
        "plt.figure(figsize=(8, 6))\n",
        "sns.heatmap(cm_distilroberta_pred_pretrained, annot=True, fmt='d', cmap='Blues', annot_kws={\"size\": 14})\n",
        "plt.title('Confusion Matrix')\n",
        "plt.ylabel('Actual')\n",
        "plt.xlabel('Predicted')\n",
        "plt.show()"
      ]
    },
    {
      "cell_type": "markdown",
      "metadata": {
        "id": "C4CX24Q7bYKK"
      },
      "source": [
        "### **FinBERT**"
      ]
    },
    {
      "cell_type": "code",
      "execution_count": null,
      "metadata": {
        "id": "Tl9ukAF8bYKQ"
      },
      "outputs": [],
      "source": [
        "# extract predictions and actual values\n",
        "predictions = finbert_pred_pretrained['prediction']\n",
        "actuals = finbert_pred_pretrained['actual']\n",
        "\n",
        "# create the confusion matrix\n",
        "cm = confusion_matrix(actuals, predictions, labels=['positive', 'negative'])\n",
        "\n",
        "# convert to dataframe\n",
        "cm_finbert_pred_pretrained = pd.DataFrame(cm, index=['Actual Positive', 'Actual Negative'], columns=['Predicted Positive', 'Predicted Negative'])\n",
        "\n",
        "# plotting the confusion matrix\n",
        "plt.figure(figsize=(8, 6))\n",
        "sns.heatmap(cm_finbert_pred_pretrained, annot=True, fmt='d', cmap='Blues', annot_kws={\"size\": 14})\n",
        "plt.title('Confusion Matrix')\n",
        "plt.ylabel('Actual')\n",
        "plt.xlabel('Predicted')\n",
        "plt.show()"
      ]
    },
    {
      "cell_type": "markdown",
      "metadata": {
        "id": "4tMavsG8_MFn"
      },
      "source": [
        "## **Fine-Tuned**"
      ]
    },
    {
      "cell_type": "code",
      "execution_count": null,
      "metadata": {
        "id": "Cs5Un93ELWtB"
      },
      "outputs": [],
      "source": [
        "# load data\n",
        "bert_pred_finetuned = pd.read_csv('/content/drive/MyDrive/PostGrad/5. Extended Research Projects/Results/Rolling Window Prediction/bert_rolling_finetuned_prediction.csv')\n",
        "roberta_pred_finetuned = pd.read_csv('/content/drive/MyDrive/PostGrad/5. Extended Research Projects/Results/Rolling Window Prediction/roberta_rolling_finetuned_prediction.csv')\n",
        "distilbert_pred_finetuned = pd.read_csv('/content/drive/MyDrive/PostGrad/5. Extended Research Projects/Results/Rolling Window Prediction/distilbert_rolling_finetuned_prediction.csv')\n",
        "distilroberta_pred_finetuned = pd.read_csv('/content/drive/MyDrive/PostGrad/5. Extended Research Projects/Results/Rolling Window Prediction/distilroberta_rolling_finetuned_prediction.csv')\n",
        "finbert_pred_finetuned = pd.read_csv('/content/drive/MyDrive/PostGrad/5. Extended Research Projects/Results/Rolling Window Prediction/finbert_rolling_finetuned_prediction.csv')"
      ]
    },
    {
      "cell_type": "code",
      "execution_count": null,
      "metadata": {
        "id": "uIOl8QdBMXPI"
      },
      "outputs": [],
      "source": [
        "# encode\n",
        "label_mapping = {1: 'positive', 0: 'negative'}\n",
        "bert_pred_finetuned['prediction'] = bert_pred_finetuned['prediction'].map(label_mapping)\n",
        "bert_pred_finetuned['actual'] = bert_pred_finetuned['actual'].map(label_mapping)\n",
        "roberta_pred_finetuned['prediction'] = roberta_pred_finetuned['prediction'].map(label_mapping)\n",
        "roberta_pred_finetuned['actual'] = roberta_pred_finetuned['actual'].map(label_mapping)\n",
        "distilbert_pred_finetuned['prediction'] = distilbert_pred_finetuned['prediction'].map(label_mapping)\n",
        "distilbert_pred_finetuned['actual'] = distilbert_pred_finetuned['actual'].map(label_mapping)\n",
        "distilroberta_pred_finetuned['prediction'] = distilroberta_pred_finetuned['prediction'].map(label_mapping)\n",
        "distilroberta_pred_finetuned['actual'] = distilroberta_pred_finetuned['actual'].map(label_mapping)\n",
        "finbert_pred_finetuned['prediction'] = finbert_pred_finetuned['prediction'].map(label_mapping)\n",
        "finbert_pred_finetuned['actual'] = finbert_pred_finetuned['actual'].map(label_mapping)"
      ]
    },
    {
      "cell_type": "markdown",
      "metadata": {
        "id": "2Kb8rggrLWtB"
      },
      "source": [
        "### **BERT**"
      ]
    },
    {
      "cell_type": "code",
      "execution_count": null,
      "metadata": {
        "id": "20WLL-_WLWtB"
      },
      "outputs": [],
      "source": [
        "# extract predictions and actual values\n",
        "predictions = bert_pred_finetuned['prediction']\n",
        "actuals = bert_pred_finetuned['actual']\n",
        "\n",
        "# create the confusion matrix\n",
        "cm = confusion_matrix(actuals, predictions, labels=['positive', 'negative'])\n",
        "\n",
        "# convert to dataframme\n",
        "cm_bert_pred_finetuned = pd.DataFrame(cm, index=['Actual Positive', 'Actual Negative'], columns=['Predicted Positive', 'Predicted Negative'])\n",
        "\n",
        "# plotting the confusion matrix\n",
        "plt.figure(figsize=(8, 6))\n",
        "sns.heatmap(cm_bert_pred_finetuned, annot=True, fmt='d', cmap='Blues', annot_kws={\"size\": 14})\n",
        "plt.title('Confusion Matrix')\n",
        "plt.ylabel('Actual')\n",
        "plt.xlabel('Predicted')\n",
        "plt.show()"
      ]
    },
    {
      "cell_type": "markdown",
      "metadata": {
        "id": "GmAeJkKvLWtC"
      },
      "source": [
        "### **RoBERTa**"
      ]
    },
    {
      "cell_type": "code",
      "execution_count": null,
      "metadata": {
        "id": "I6uXBxvyLWtC"
      },
      "outputs": [],
      "source": [
        "# extract predictions and actual values\n",
        "predictions = roberta_pred_finetuned['prediction']\n",
        "actuals = roberta_pred_finetuned['actual']\n",
        "\n",
        "# create the confusion matrix\n",
        "cm = confusion_matrix(actuals, predictions, labels=['positive', 'negative'])\n",
        "\n",
        "# convert to dataframe\n",
        "cm_roberta_pred_finetuned = pd.DataFrame(cm, index=['Actual Positive', 'Actual Negative'], columns=['Predicted Positive', 'Predicted Negative'])\n",
        "\n",
        "# plotting the confusion matrix\n",
        "plt.figure(figsize=(8, 6))\n",
        "sns.heatmap(cm_roberta_pred_finetuned, annot=True, fmt='d', cmap='Blues', annot_kws={\"size\": 14})\n",
        "plt.title('Confusion Matrix')\n",
        "plt.ylabel('Actual')\n",
        "plt.xlabel('Predicted')\n",
        "plt.show()"
      ]
    },
    {
      "cell_type": "markdown",
      "metadata": {
        "id": "Sex70cPaLWtC"
      },
      "source": [
        "### **DistilBERT**"
      ]
    },
    {
      "cell_type": "code",
      "execution_count": null,
      "metadata": {
        "id": "xKBia8s8LWtC"
      },
      "outputs": [],
      "source": [
        "# extract predictions and actual values\n",
        "predictions = distilbert_pred_finetuned['prediction']\n",
        "actuals = distilbert_pred_finetuned['actual']\n",
        "\n",
        "# create the confusion matrix\n",
        "cm = confusion_matrix(actuals, predictions, labels=['positive', 'negative'])\n",
        "\n",
        "# convert to dataframe\n",
        "cm_distilbert_pred_finetuned = pd.DataFrame(cm, index=['Actual Positive', 'Actual Negative'], columns=['Predicted Positive', 'Predicted Negative'])\n",
        "\n",
        "# plotting the confusion matrix\n",
        "plt.figure(figsize=(8, 6))\n",
        "sns.heatmap(cm_distilbert_pred_finetuned, annot=True, fmt='d', cmap='Blues', annot_kws={\"size\": 14})\n",
        "plt.title('Confusion Matrix')\n",
        "plt.ylabel('Actual')\n",
        "plt.xlabel('Predicted')\n",
        "plt.show()"
      ]
    },
    {
      "cell_type": "markdown",
      "metadata": {
        "id": "l5W1R5KKLWtC"
      },
      "source": [
        "### **DistilRoBERTa**"
      ]
    },
    {
      "cell_type": "code",
      "execution_count": null,
      "metadata": {
        "id": "2ghq1bebLWtD"
      },
      "outputs": [],
      "source": [
        "# extract predictions and actual values\n",
        "predictions = distilroberta_pred_finetuned['prediction']\n",
        "actuals = distilroberta_pred_finetuned['actual']\n",
        "\n",
        "# create the confusion matrix\n",
        "cm = confusion_matrix(actuals, predictions, labels=['positive', 'negative'])\n",
        "\n",
        "# convert to dataframe\n",
        "cm_distilroberta_pred_finetuned = pd.DataFrame(cm, index=['Actual Positive', 'Actual Negative'], columns=['Predicted Positive', 'Predicted Negative'])\n",
        "\n",
        "# plotting the confusion matrix\n",
        "plt.figure(figsize=(8, 6))\n",
        "sns.heatmap(cm_distilroberta_pred_finetuned, annot=True, fmt='d', cmap='Blues', annot_kws={\"size\": 14})\n",
        "plt.title('Confusion Matrix')\n",
        "plt.ylabel('Actual')\n",
        "plt.xlabel('Predicted')\n",
        "plt.show()"
      ]
    },
    {
      "cell_type": "markdown",
      "metadata": {
        "id": "42jIXeiXLWtD"
      },
      "source": [
        "### **FinBERT**"
      ]
    },
    {
      "cell_type": "code",
      "execution_count": null,
      "metadata": {
        "id": "YWKuoHEOLWtD"
      },
      "outputs": [],
      "source": [
        "# extract predictions and actual values\n",
        "predictions = finbert_pred_finetuned['prediction']\n",
        "actuals = finbert_pred_finetuned['actual']\n",
        "\n",
        "# create the confusion matrix\n",
        "cm = confusion_matrix(actuals, predictions, labels=['positive', 'negative'])\n",
        "\n",
        "# convert to dataframme\n",
        "cm_finbert_pred_finetuned = pd.DataFrame(cm, index=['Actual Positive', 'Actual Negative'], columns=['Predicted Positive', 'Predicted Negative'])\n",
        "\n",
        "# plotting the confusion matrix\n",
        "plt.figure(figsize=(8, 6))\n",
        "sns.heatmap(cm_finbert_pred_finetuned, annot=True, fmt='d', cmap='Blues', annot_kws={\"size\": 14})\n",
        "plt.title('Confusion Matrix')\n",
        "plt.ylabel('Actual')\n",
        "plt.xlabel('Predicted')\n",
        "plt.show()"
      ]
    },
    {
      "cell_type": "markdown",
      "metadata": {
        "id": "TsCc25U9mS9C"
      },
      "source": [
        "# **EDA**"
      ]
    },
    {
      "cell_type": "markdown",
      "metadata": {
        "id": "QKoIMtuaXAK2"
      },
      "source": [
        "## **MARKET CAP**"
      ]
    },
    {
      "cell_type": "code",
      "execution_count": null,
      "metadata": {
        "id": "yZSzvo7YXCZB"
      },
      "outputs": [],
      "source": [
        "# load data\n",
        "marketcap_path = '/content/drive/MyDrive/PostGrad/5. Extended Research Projects/Dataset/market_cap.csv'\n",
        "marketcap_df = pd.read_csv(marketcap_path)\n",
        "\n",
        "# format to datetime\n",
        "marketcap_df['week_start_date'] = pd.to_datetime(marketcap_df['week_start_date'])\n",
        "\n",
        "# group by week\n",
        "marketcap_sum = marketcap_df.groupby('week_start_date')['market_cap'].sum().reset_index()"
      ]
    },
    {
      "cell_type": "code",
      "execution_count": null,
      "metadata": {
        "id": "bY7yawE0XLqm"
      },
      "outputs": [],
      "source": [
        "# create the line plot\n",
        "fig = px.line(marketcap_sum,\n",
        "              x='week_start_date',\n",
        "              y='market_cap',\n",
        "              title='Top 25 Healthcare Sector Market Capitalisation',\n",
        "              height=500,\n",
        "              width=1000)\n",
        "\n",
        "# customize the x-axis\n",
        "fig.update_xaxes(title_text='Date', tickformat='%Y')\n",
        "\n",
        "# Customize the y-axis\n",
        "fig.update_yaxes(title_text='Market Capitalisation')\n",
        "\n",
        "fig.show()"
      ]
    },
    {
      "cell_type": "markdown",
      "metadata": {
        "id": "EXVc9a3BK0mw"
      },
      "source": [
        "## **Missing Values**"
      ]
    },
    {
      "cell_type": "code",
      "execution_count": null,
      "metadata": {
        "id": "aZI5kHODK3zH"
      },
      "outputs": [],
      "source": [
        "# load crsp train and test\n",
        "crsp_train = pd.read_csv('/content/drive/MyDrive/PostGrad/5. Extended Research Projects/Dataset/crsp_train.csv')\n",
        "crsp_test = pd.read_csv('/content/drive/MyDrive/PostGrad/5. Extended Research Projects/Dataset/crsp_test.csv')"
      ]
    },
    {
      "cell_type": "code",
      "execution_count": null,
      "metadata": {
        "id": "r_XAA-pLK8CJ"
      },
      "outputs": [],
      "source": [
        "# display missing values\n",
        "crsp_train[crsp_train[['prc', 'ret']].isna().any(axis=1)]"
      ]
    },
    {
      "cell_type": "markdown",
      "metadata": {
        "id": "-gkZcDc-ZTKs"
      },
      "source": [
        "## **Number of News by Ticker**"
      ]
    },
    {
      "cell_type": "code",
      "execution_count": null,
      "metadata": {
        "id": "WNUYKHDbnCYO"
      },
      "outputs": [],
      "source": [
        "# load data\n",
        "kd_train = pd.read_csv('/content/drive/MyDrive/PostGrad/5. Extended Research Projects/Dataset/kd_train.csv')\n",
        "kd_test = pd.read_csv('/content/drive/MyDrive/PostGrad/5. Extended Research Projects/Dataset/kd_test.csv')\n",
        "crsp_test = pd.read_csv('/content/drive/MyDrive/PostGrad/5. Extended Research Projects/Dataset/crsp_test.csv')\n",
        "linking = pd.read_csv('/content/drive/MyDrive/PostGrad/5. Extended Research Projects/Dataset/linking_table.csv')"
      ]
    },
    {
      "cell_type": "code",
      "execution_count": null,
      "metadata": {
        "id": "In8AckWrn8vF"
      },
      "outputs": [],
      "source": [
        "# concat train and test data\n",
        "final_kd =pd.concat([kd_train, kd_test], axis=0, ignore_index=True)\n",
        "# format to datetime\n",
        "final_kd['announcedate'] = pd.to_datetime(final_kd['announcedate'])"
      ]
    },
    {
      "cell_type": "code",
      "execution_count": null,
      "metadata": {
        "id": "t3fBnDdL7g3B"
      },
      "outputs": [],
      "source": [
        "# get the latest ticker of each stock\n",
        "last_ticker = crsp_test[crsp_test['date']=='2023-12-29'][['permco', 'ticker']]"
      ]
    },
    {
      "cell_type": "code",
      "execution_count": null,
      "metadata": {
        "id": "zJ2jEt4S9gk3"
      },
      "outputs": [],
      "source": [
        "# join the datasets to get the ticker\n",
        "final_kd = pd.merge(final_kd, linking[['lpermco', 'gvkey']], on='gvkey', how='left')\n",
        "final_kd = pd.merge(final_kd, last_ticker, left_on='lpermco', right_on='permco', how='left')"
      ]
    },
    {
      "cell_type": "code",
      "execution_count": null,
      "metadata": {
        "id": "3G7A7LrSbC6-"
      },
      "outputs": [],
      "source": [
        "# get the year\n",
        "final_kd['year'] = final_kd['announcedate'].dt.year\n",
        "\n",
        "# count the number of news by ticker and year\n",
        "number_headline = final_kd.groupby(['ticker', 'year'])['headline'].count().reset_index()"
      ]
    },
    {
      "cell_type": "code",
      "execution_count": null,
      "metadata": {
        "id": "UkPzicvgafJq"
      },
      "outputs": [],
      "source": [
        "# plot figure\n",
        "fig = px.line(number_headline, x='year', y='headline',\n",
        "              title='Number of News by Ticker',\n",
        "              color='ticker', color_discrete_sequence=px.colors.qualitative.Alphabet)\n",
        "fig.update_layout(height=700, width=700, xaxis_title='Date',\n",
        "                  yaxis_title= 'Number of News',\n",
        "                  xaxis=dict(showgrid=True),\n",
        "                  yaxis=dict(showgrid=True, range=[0,1450]),\n",
        "                  legend=dict(\n",
        "                  x=1,\n",
        "                  y=1,\n",
        "                  xanchor='right',\n",
        "                  yanchor='bottom',\n",
        "                  orientation=\"h\"\n",
        "                  ))\n",
        "fig.show()"
      ]
    },
    {
      "cell_type": "markdown",
      "metadata": {
        "id": "OfNOOm3Pqj1y"
      },
      "source": [
        "## **News Interval**"
      ]
    },
    {
      "cell_type": "code",
      "execution_count": null,
      "metadata": {
        "id": "iDNzeE31pvjw"
      },
      "outputs": [],
      "source": [
        "# group news data by company and date\n",
        "kd_group = final_kd.groupby(['gvkey', 'announcedate'])['ticker'].last().reset_index()"
      ]
    },
    {
      "cell_type": "code",
      "execution_count": null,
      "metadata": {
        "id": "RL7SiuT4mla7"
      },
      "outputs": [],
      "source": [
        "# calculating maximum & average interval per ticker\n",
        "kd_group['date_diff'] = kd_group.groupby('gvkey')['announcedate'].diff()\n",
        "\n",
        "max_interval_train = kd_group.groupby('ticker')['date_diff'].max().dt.days.reset_index() #round to days\n",
        "avg_interval_train = kd_group.groupby('ticker')['date_diff'].mean().dt.days.reset_index() #round to days"
      ]
    },
    {
      "cell_type": "code",
      "execution_count": null,
      "metadata": {
        "id": "VaQPsYxSqli6"
      },
      "outputs": [],
      "source": [
        "# calculate the average of news interval\n",
        "average_date_diff = avg_interval_train['date_diff'].mean()"
      ]
    },
    {
      "cell_type": "code",
      "execution_count": null,
      "metadata": {
        "id": "nX3P7knmmlOh"
      },
      "outputs": [],
      "source": [
        "#draw bar plot for average interval\n",
        "fig = px.bar(avg_interval_train, x='ticker', y='date_diff',\n",
        "             title='Average News Interval',\n",
        "             text='date_diff',\n",
        "             color='ticker',\n",
        "             color_discrete_sequence=px.colors.qualitative.Alphabet)\n",
        "fig.update_traces(textposition='outside')\n",
        "fig.update_layout(height=700, width=700,\n",
        "                  xaxis_title='Ticker',\n",
        "                  yaxis_title='News Interval (days)',\n",
        "                  yaxis=dict(range=[0, 20]),\n",
        "                  legend=dict(\n",
        "                  x=1,\n",
        "                  y=.8,\n",
        "                  xanchor='right',\n",
        "                  yanchor='bottom',\n",
        "                  orientation=\"h\"\n",
        "                  ))\n",
        "\n",
        "# Add the average line\n",
        "fig.add_shape(\n",
        "    type='line',\n",
        "    x0=-0.5,  # start of the line, just before the first bar\n",
        "    x1=len(avg_interval_train['ticker']) - 0.5,  # end of the line, just after the last bar\n",
        "    y0=average_date_diff,\n",
        "    y1=average_date_diff,\n",
        "    line=dict(color='red', width=2, dash='dash'),\n",
        "    xref='x',\n",
        "    yref='y'\n",
        ")\n",
        "\n",
        "fig.add_annotation(\n",
        "    x=len(avg_interval_train)+1.5 ,  # position it at the end of the plot\n",
        "    y=average_date_diff,\n",
        "    text=f'<b>Average:<br>{average_date_diff:.2f} days',\n",
        "    showarrow=False,\n",
        "    yshift=10\n",
        ")\n",
        "\n",
        "fig.show()"
      ]
    },
    {
      "cell_type": "markdown",
      "metadata": {
        "id": "qIQ0ARwUdCsr"
      },
      "source": [
        "## **Summary Statistics**"
      ]
    },
    {
      "cell_type": "code",
      "execution_count": null,
      "metadata": {
        "id": "e2F0dfsQdS_0"
      },
      "outputs": [],
      "source": [
        "# load data\n",
        "train_df = pd.read_csv('/content/drive/MyDrive/PostGrad/5. Extended Research Projects/Dataset/train_data.csv')\n",
        "test_df = pd.read_csv('/content/drive/MyDrive/PostGrad/5. Extended Research Projects/Dataset/test_data.csv')"
      ]
    },
    {
      "cell_type": "code",
      "execution_count": null,
      "metadata": {
        "id": "bOnedS0edS_7"
      },
      "outputs": [],
      "source": [
        "# concat train and test data\n",
        "final_df = pd.concat([train_df, test_df], axis=0, ignore_index=True)\n",
        "# group by company and date of week\n",
        "final_grouped = final_df.groupby(['permco', 'start_date'])['weekly_ret'].first().reset_index()"
      ]
    },
    {
      "cell_type": "code",
      "execution_count": null,
      "metadata": {
        "id": "eBztTla3mRY9"
      },
      "outputs": [],
      "source": [
        "# define function to concatenate with special tokens to separate columns\n",
        "def concatenate_columns(row):\n",
        "    return f\"{row['headline']} [SEP] {row['situation']} [SEP] {row['eventtype']}\"\n",
        "\n",
        "# apply function to concatenate columns headline, situation, and eventtype for dataset\n",
        "final_df['combined_text'] = final_df.apply(concatenate_columns, axis=1)"
      ]
    },
    {
      "cell_type": "code",
      "execution_count": null,
      "metadata": {
        "id": "_8Q1cSUghaYY"
      },
      "outputs": [],
      "source": [
        "# merge to get ticker column\n",
        "final_grouped = pd.merge(final_grouped, last_ticker, on='permco', how='left')"
      ]
    },
    {
      "cell_type": "code",
      "execution_count": null,
      "metadata": {
        "id": "l8QZvOjzhqFM"
      },
      "outputs": [],
      "source": [
        "# display summary stats of weekly return\n",
        "final_grouped.groupby('ticker')['weekly_ret'].describe().reset_index()"
      ]
    },
    {
      "cell_type": "markdown",
      "metadata": {
        "id": "puZ2JLSmy6Fy"
      },
      "source": [
        "## **Word Cloud**"
      ]
    },
    {
      "cell_type": "code",
      "execution_count": null,
      "metadata": {
        "id": "svoxDAlf461y"
      },
      "outputs": [],
      "source": [
        "# load data\n",
        "train_df = pd.read_csv('/content/drive/MyDrive/PostGrad/5. Extended Research Projects/Dataset/train_data.csv')\n",
        "test_df = pd.read_csv('/content/drive/MyDrive/PostGrad/5. Extended Research Projects/Dataset/test_data.csv')\n",
        "\n",
        "crsp_train = pd.read_csv('/content/drive/MyDrive/PostGrad/5. Extended Research Projects/Dataset/crsp_train.csv')"
      ]
    },
    {
      "cell_type": "code",
      "execution_count": null,
      "metadata": {
        "id": "bw-72CmQ1gQM"
      },
      "outputs": [],
      "source": [
        "# concat data\n",
        "all_df = pd.concat([train_df, test_df], axis=0, ignore_index=True)"
      ]
    },
    {
      "cell_type": "code",
      "execution_count": null,
      "metadata": {
        "id": "oVQpF9fz8bxt"
      },
      "outputs": [],
      "source": [
        "#set up nlp environment\n",
        "nlp = spacy.load(\"en_core_web_sm\")"
      ]
    },
    {
      "cell_type": "code",
      "execution_count": null,
      "metadata": {
        "id": "DUUa6wllM7AP"
      },
      "outputs": [],
      "source": [
        "# remove no_headlines\n",
        "all_df = all_df[all_df['headline'] != 'no_headlines']"
      ]
    },
    {
      "cell_type": "code",
      "execution_count": null,
      "metadata": {
        "id": "LdEz7siWMgWr"
      },
      "outputs": [],
      "source": [
        "#define a function to tokenize\n",
        "def tokenize(text):\n",
        "    doc = nlp(text)\n",
        "    #lemmatization, lower case, remove stop word & punctuation\n",
        "    return [token.lemma_.lower() for token in doc if not token.is_stop and not token.is_punct]\n",
        "\n",
        "#apply function to the headline\n",
        "all_df['tokens'] = all_df['headline'].apply(tokenize)"
      ]
    },
    {
      "cell_type": "code",
      "execution_count": null,
      "metadata": {
        "id": "uLZBiC5a1u-k"
      },
      "outputs": [],
      "source": [
        "# remove company related tokens (company name and ticker)\n",
        "coy_text = list(np.concatenate((crsp_train['ticker'].unique(), crsp_train['comnam'].unique())))\n",
        "\n",
        "# tokenize unwanted tokens\n",
        "tokens_to_remove = [token.text.lower() for s in coy_text for token in nlp(s)]\n",
        "tokens_to_remove.extend(['company', 'incorporation', 'corporation', 'incorporated', 'inc.', 'corp.', 'co.', 'cvs', 'hboc', 'idexx']) #add more tokens to be excluded\n",
        "\n",
        "# function to filter out unwanted tokens\n",
        "def filter_tokens(tokens):\n",
        "    return [token for token in tokens if token not in tokens_to_remove]\n",
        "\n",
        "# apply the function to the 'tokens' column\n",
        "all_df['tokens'] = all_df['tokens'].apply(filter_tokens)"
      ]
    },
    {
      "cell_type": "code",
      "execution_count": null,
      "metadata": {
        "id": "l3C_LZeB10Dd"
      },
      "outputs": [],
      "source": [
        "# joining the headline for each stock for word cloud\n",
        "def join_tokens(token_list):\n",
        "  return ' '.join([' '.join(sublist) for sublist in token_list])\n",
        "\n",
        "stock_headline_train = all_df.groupby('ticker')['tokens'].agg(join_tokens)"
      ]
    },
    {
      "cell_type": "code",
      "execution_count": null,
      "metadata": {
        "colab": {
          "background_save": true
        },
        "id": "4iwZyI8313ak"
      },
      "outputs": [],
      "source": [
        "# set up the matplotlib figure and axes\n",
        "fig, axs = plt.subplots(figsize=(50, 80), nrows=13, ncols=2)\n",
        "axs = axs.flatten()  #flatten the array of axes\n",
        "\n",
        "# generate word cloud for each company's headlines\n",
        "for ax, (ticker, headline) in zip(axs, stock_headline_train.items()):\n",
        "    wordcloud = WordCloud(width=500, height=400, background_color='white').generate(headline)\n",
        "    ax.imshow(wordcloud, interpolation='bilinear')\n",
        "    ax.axis('off')\n",
        "    ax.set_title(f'Word Cloud for Ticker: {ticker}', fontsize=50)\n",
        "\n",
        "# hide any unused axes (if stock_headline_train has less than 25 items)\n",
        "for ax in axs[len(stock_headline_train):]:\n",
        "    ax.axis('off')\n",
        "\n",
        "plt.tight_layout()\n",
        "plt.show()"
      ]
    },
    {
      "cell_type": "code",
      "execution_count": null,
      "metadata": {
        "id": "uyx-KC1615Vu"
      },
      "outputs": [],
      "source": [
        "# flatten list of tokens\n",
        "all_tokens_train = [token for sublist in all_df['tokens'] for token in sublist]\n",
        "\n",
        "# convert list of tokens to a single string\n",
        "all_tokens_train_str = ' '.join(all_tokens_train)\n",
        "\n",
        "# generate word cloud\n",
        "wordcloud = WordCloud(width=500, height=250, background_color='white').generate(all_tokens_train_str)\n",
        "\n",
        "# plot word cloud\n",
        "fig, ax = plt.subplots(figsize=(10, 5))\n",
        "ax.imshow(wordcloud, interpolation='bilinear')\n",
        "ax.axis('off')\n",
        "ax.set_title(f'Word Cloud for All Ticker', fontsize=20)\n",
        "\n",
        "plt.show()"
      ]
    },
    {
      "cell_type": "markdown",
      "metadata": {
        "id": "73XWzpZi2Tpy"
      },
      "source": [
        "## **Top Tokens**"
      ]
    },
    {
      "cell_type": "code",
      "execution_count": null,
      "metadata": {
        "id": "-xm0o6BTV4-r"
      },
      "outputs": [],
      "source": [
        "#  flatten list of tokens\n",
        "all_tokens_train = [token for sublist in all_df['tokens'] for token in sublist]\n",
        "\n",
        "#top 50 tokens\n",
        "token_counts_train = Counter(all_tokens_train)\n",
        "top_50_tokens_train = token_counts_train.most_common(50)"
      ]
    },
    {
      "cell_type": "code",
      "execution_count": null,
      "metadata": {
        "id": "bDufh15hOEBl"
      },
      "outputs": [],
      "source": [
        "# print out Top 50 tokens of all tickers\n",
        "print(\"Top 50 Tokens:\")\n",
        "for token, count in top_50_tokens_train:\n",
        "    print(f\"{token}: {count}\")"
      ]
    },
    {
      "cell_type": "code",
      "execution_count": null,
      "metadata": {
        "id": "37-pztWsULBG"
      },
      "outputs": [],
      "source": [
        "# grouping the tokens for each ticker\n",
        "stock_token_train = all_df.groupby('ticker')['tokens'].sum()"
      ]
    },
    {
      "cell_type": "code",
      "execution_count": null,
      "metadata": {
        "id": "GVU2wWfnNkb9"
      },
      "outputs": [],
      "source": [
        "# top15 tokens for each ticker\n",
        "top_tokens_per_company_train = {}\n",
        "for ticker, tokens in stock_token_train.items():\n",
        "    token_counts = Counter(tokens)\n",
        "    top_tokens_per_company_train[ticker] = token_counts.most_common(15)"
      ]
    },
    {
      "cell_type": "code",
      "execution_count": null,
      "metadata": {
        "id": "X8Y0eGsgQ9kY"
      },
      "outputs": [],
      "source": [
        "# print out\n",
        "for ticker, top_tokens in top_tokens_per_company_train.items():\n",
        "    print(f\"Ticker {ticker}:\")\n",
        "    for token, count in top_tokens:\n",
        "        print(f\"{token}: {count}\")\n",
        "    print(\"\\n\")"
      ]
    },
    {
      "cell_type": "markdown",
      "metadata": {
        "id": "QGStiF3RVeD_"
      },
      "source": [
        "## **Data Noise**"
      ]
    },
    {
      "cell_type": "code",
      "execution_count": null,
      "metadata": {
        "id": "DLMlyQp-Vi00"
      },
      "outputs": [],
      "source": [
        "# load data\n",
        "test_df = pd.read_csv('/content/drive/MyDrive/PostGrad/5. Extended Research Projects/Dataset/test_data.csv')"
      ]
    },
    {
      "cell_type": "code",
      "execution_count": null,
      "metadata": {
        "id": "4kZ-uv_-Vv-p"
      },
      "outputs": [],
      "source": [
        "# format to datetime\n",
        "test_df['start_date'] = pd.to_datetime(test_df['start_date'])"
      ]
    },
    {
      "cell_type": "code",
      "execution_count": null,
      "metadata": {
        "id": "U8EEInviV1rF"
      },
      "outputs": [],
      "source": [
        "# display noisy data in 2022\n",
        "test_df[(test_df.start_date.dt.year == 2022) & (test_df['price_direction']=='negative') & test_df['eventtype'].isin(['Business Expansions', 'Announcements of Earnings'])]"
      ]
    },
    {
      "cell_type": "markdown",
      "metadata": {
        "id": "dlyvbgcvePuH"
      },
      "source": [
        "## **Headline Analysis Data Inconsistency (FinBERT)**"
      ]
    },
    {
      "cell_type": "code",
      "execution_count": null,
      "metadata": {
        "id": "hYWnc5U5sr2O"
      },
      "outputs": [],
      "source": [
        "# load data\n",
        "bert_pred_pretrained = pd.read_csv('/content/drive/MyDrive/PostGrad/5. Extended Research Projects/Results/Rolling Window Prediction/bert_rolling_prediction.csv')\n",
        "roberta_pred_pretrained = pd.read_csv('/content/drive/MyDrive/PostGrad/5. Extended Research Projects/Results/Rolling Window Prediction/roberta_rolling_prediction.csv')\n",
        "distilbert_pred_pretrained = pd.read_csv('/content/drive/MyDrive/PostGrad/5. Extended Research Projects/Results/Rolling Window Prediction/distilbert_rolling_prediction.csv')\n",
        "distilroberta_pred_pretrained = pd.read_csv('/content/drive/MyDrive/PostGrad/5. Extended Research Projects/Results/Rolling Window Prediction/distilroberta_rolling_prediction.csv')\n",
        "finbert_pred_pretrained = pd.read_csv('/content/drive/MyDrive/PostGrad/5. Extended Research Projects/Results/Rolling Window Prediction/finbert_rolling_prediction.csv')"
      ]
    },
    {
      "cell_type": "code",
      "execution_count": null,
      "metadata": {
        "id": "sqeFxQHpedJn"
      },
      "outputs": [],
      "source": [
        "# load data\n",
        "bert_pred_finetuned = pd.read_csv('/content/drive/MyDrive/PostGrad/5. Extended Research Projects/Results/Rolling Window Prediction/bert_rolling_finetuned_prediction.csv')\n",
        "roberta_pred_finetuned = pd.read_csv('/content/drive/MyDrive/PostGrad/5. Extended Research Projects/Results/Rolling Window Prediction/roberta_rolling_finetuned_prediction.csv')\n",
        "distilbert_pred_finetuned = pd.read_csv('/content/drive/MyDrive/PostGrad/5. Extended Research Projects/Results/Rolling Window Prediction/distilbert_rolling_finetuned_prediction.csv')\n",
        "distilroberta_pred_finetuned = pd.read_csv('/content/drive/MyDrive/PostGrad/5. Extended Research Projects/Results/Rolling Window Prediction/distilroberta_rolling_finetuned_prediction.csv')\n",
        "finbert_pred_finetuned = pd.read_csv('/content/drive/MyDrive/PostGrad/5. Extended Research Projects/Results/Rolling Window Prediction/finbert_rolling_finetuned_prediction.csv')"
      ]
    },
    {
      "cell_type": "code",
      "execution_count": null,
      "metadata": {
        "id": "HjoBw4-Yez4_"
      },
      "outputs": [],
      "source": [
        "# encode\n",
        "label_mapping = {1: 'positive', 0: 'negative'}\n",
        "bert_pred_finetuned['prediction'] = bert_pred_finetuned['prediction'].map(label_mapping)\n",
        "bert_pred_finetuned['actual'] = bert_pred_finetuned['actual'].map(label_mapping)\n",
        "roberta_pred_finetuned['prediction'] = roberta_pred_finetuned['prediction'].map(label_mapping)\n",
        "roberta_pred_finetuned['actual'] = roberta_pred_finetuned['actual'].map(label_mapping)\n",
        "distilbert_pred_finetuned['prediction'] = distilbert_pred_finetuned['prediction'].map(label_mapping)\n",
        "distilbert_pred_finetuned['actual'] = distilbert_pred_finetuned['actual'].map(label_mapping)\n",
        "distilroberta_pred_finetuned['prediction'] = distilroberta_pred_finetuned['prediction'].map(label_mapping)\n",
        "distilroberta_pred_finetuned['actual'] = distilroberta_pred_finetuned['actual'].map(label_mapping)\n",
        "finbert_pred_finetuned['prediction'] = finbert_pred_finetuned['prediction'].map(label_mapping)\n",
        "finbert_pred_finetuned['actual'] = finbert_pred_finetuned['actual'].map(label_mapping)"
      ]
    },
    {
      "cell_type": "code",
      "execution_count": null,
      "metadata": {
        "id": "_kHI_uvPoUM9"
      },
      "outputs": [],
      "source": [
        "# format to datetime\n",
        "finbert_pred_pretrained['week_date'] = pd.to_datetime(finbert_pred_pretrained['week_date'])\n",
        "finbert_pred_finetuned['week_date'] = pd.to_datetime(finbert_pred_finetuned['week_date'])"
      ]
    },
    {
      "cell_type": "code",
      "execution_count": null,
      "metadata": {
        "id": "3lnIlXnks27W"
      },
      "outputs": [],
      "source": [
        "# rename column\n",
        "finbert_pred_pretrained.rename({'prediction': 'pred_pretrained'}, axis=1, inplace=True)\n",
        "finbert_pred_finetuned.rename({'prediction': 'pred_finetuned'}, axis=1, inplace=True)"
      ]
    },
    {
      "cell_type": "code",
      "execution_count": null,
      "metadata": {
        "id": "wZZkid1I21vy"
      },
      "outputs": [],
      "source": [
        "# create a new column 'news_number' by grouping by 'company' and 'week_date' and using cumcount\n",
        "finbert_pred_pretrained['news_number'] = finbert_pred_pretrained.groupby(['company', 'week_date']).cumcount() + 1\n",
        "finbert_pred_finetuned['news_number'] = finbert_pred_finetuned.groupby(['company', 'week_date']).cumcount() + 1"
      ]
    },
    {
      "cell_type": "code",
      "execution_count": null,
      "metadata": {
        "id": "3Z5d6Ff94RvU"
      },
      "outputs": [],
      "source": [
        "# load test data\n",
        "file_path_test = '/content/drive/MyDrive/PostGrad/5. Extended Research Projects/Dataset/test_data.csv'\n",
        "test_df = pd.read_csv(file_path_test)"
      ]
    },
    {
      "cell_type": "code",
      "execution_count": null,
      "metadata": {
        "id": "-p_7-7CPPGxP"
      },
      "outputs": [],
      "source": [
        "# convert to date format\n",
        "test_df['start_date'] = pd.to_datetime(test_df['start_date'], format='%Y-%m-%d')\n",
        "\n",
        "# filter out no change\n",
        "test_df = test_df[test_df['price_direction'] != 'no change']"
      ]
    },
    {
      "cell_type": "code",
      "execution_count": null,
      "metadata": {
        "id": "je-yu8Kc398l"
      },
      "outputs": [],
      "source": [
        "# define function to concatenate with special tokens to separate columns\n",
        "def concatenate_columns(row):\n",
        "    return f\"{row['headline']} {row['situation']} {row['eventtype']}\"\n",
        "\n",
        "# apply function to concatenate columns headline, situation, and eventtype for dataset\n",
        "test_df['combined_text'] = test_df.apply(concatenate_columns, axis=1)"
      ]
    },
    {
      "cell_type": "code",
      "execution_count": null,
      "metadata": {
        "id": "eivaXBkV29aT"
      },
      "outputs": [],
      "source": [
        "# create a new column 'news_number' by grouping by 'company' and 'week_date' and using cumcount\n",
        "test_df['news_number'] = test_df.groupby(['permco', 'start_date']).cumcount() + 1"
      ]
    },
    {
      "cell_type": "code",
      "execution_count": null,
      "metadata": {
        "id": "QyjywYWBeusH"
      },
      "outputs": [],
      "source": [
        "# merge dataframe\n",
        "combined_df_finbert = pd.merge(test_df[['permco', 'start_date', 'news_number', 'combined_text', 'eventtype']], finbert_pred_finetuned, how='left', left_on=['permco', 'start_date', 'news_number'], right_on=['company', 'week_date', 'news_number'])\n",
        "combined_df_finbert.drop(['permco', 'start_date'], axis=1, inplace=True)\n",
        "\n",
        "combined_df_finbert = pd.merge(combined_df_finbert, finbert_pred_pretrained[['company', 'week_date', 'news_number', 'pred_pretrained']], how='left', on=['company', 'week_date', 'news_number'])"
      ]
    },
    {
      "cell_type": "code",
      "execution_count": null,
      "metadata": {
        "id": "X64Tx0Akmw_b"
      },
      "outputs": [],
      "source": [
        "combined_df_finbert = combined_df_finbert[['company', 'week_date', 'combined_text', 'eventtype','pred_pretrained', 'pred_finetuned', 'probability_neg', 'probability_pos','actual']]\n",
        "combined_df_finbert[(combined_df_finbert['pred_finetuned']=='negative') & (combined_df_finbert['actual']=='positive') & (combined_df_finbert['pred_pretrained']=='positive') & (combined_df_finbert['eventtype'].isin(['Debt Financing Related', 'Discontinued Operations/Downsizings', 'Bankruptcy - Other', 'Delistings', 'Seeking to Sell/Divest']))]"
      ]
    },
    {
      "cell_type": "markdown",
      "metadata": {
        "id": "D5L_saTwPjCm"
      },
      "source": [
        "## **Fine-tuned News Analysis Wordcloud**"
      ]
    },
    {
      "cell_type": "markdown",
      "metadata": {
        "id": "BOBRMRlX12wU"
      },
      "source": [
        "### **BERT**"
      ]
    },
    {
      "cell_type": "code",
      "execution_count": null,
      "metadata": {
        "id": "RLAEnIFr1-5d"
      },
      "outputs": [],
      "source": [
        "# format to datetime\n",
        "bert_pred_finetuned['week_date'] = pd.to_datetime(bert_pred_finetuned['week_date'])\n",
        "\n",
        "# add news number to differentiate multiple news items in a week\n",
        "bert_pred_finetuned['news_number'] = bert_pred_finetuned.groupby(['company', 'week_date']).cumcount() + 1\n",
        "\n",
        "# merge test dataset with fine-tuned prediction\n",
        "combined_df_bert = pd.merge(test_df[['permco', 'start_date', 'news_number', 'combined_text', 'eventtype']], bert_pred_finetuned, how='left', left_on=['permco', 'start_date', 'news_number'], right_on=['company', 'week_date', 'news_number'])\n",
        "combined_df_bert.drop(['permco', 'start_date'], axis=1, inplace=True)\n",
        "\n",
        "# order columns\n",
        "combined_df_bert = combined_df_bert[['company', 'week_date', 'combined_text', 'eventtype', 'probability_neg', 'probability_pos', 'prediction','actual']]\n",
        "\n",
        "# remove rows without news\n",
        "combined_df_bert = combined_df_bert[combined_df_bert['combined_text'] != 'no_headlines no_headlines no_headlines']\n",
        "\n",
        "# take the top 10% positive probability from the maximum values\n",
        "top_10percent_pos_bert = combined_df_bert.nlargest(int(len(combined_df_bert) * 0.1), 'probability_pos')\n",
        "\n",
        "# take the top 10% negative probability from the maximum values\n",
        "top_10percent_neg_bert = combined_df_bert.nlargest(int(len(combined_df_bert) * 0.1), 'probability_neg')"
      ]
    },
    {
      "cell_type": "markdown",
      "metadata": {
        "id": "VVE0yeusAVOX"
      },
      "source": [
        "**Wordcloud**"
      ]
    },
    {
      "cell_type": "code",
      "execution_count": null,
      "metadata": {
        "id": "xvOjpPoeAX7X"
      },
      "outputs": [],
      "source": [
        "#set up nlp environment\n",
        "nlp = spacy.load(\"en_core_web_sm\")"
      ]
    },
    {
      "cell_type": "code",
      "execution_count": null,
      "metadata": {
        "id": "j_LYdBBhBFdf"
      },
      "outputs": [],
      "source": [
        "# load crsp train to get company names and tickers to be excluded\n",
        "crsp_train = pd.read_csv('/content/drive/MyDrive/PostGrad/5. Extended Research Projects/Dataset/crsp_train.csv')"
      ]
    },
    {
      "cell_type": "code",
      "execution_count": null,
      "metadata": {
        "id": "EBy49ZkfAX7Y"
      },
      "outputs": [],
      "source": [
        "#define a function to tokenize\n",
        "def tokenize(text):\n",
        "    doc = nlp(text)\n",
        "    #lemmatization, lower case, remove stop word & punctuation\n",
        "    return [token.lemma_.lower() for token in doc if not token.is_stop and not token.is_punct]\n",
        "\n",
        "#apply function to the news for top10% positive\n",
        "top_10percent_pos_bert['tokens'] = top_10percent_pos_bert['combined_text'].apply(tokenize)\n",
        "\n",
        "#apply function to the news for top10% negative\n",
        "top_10percent_neg_bert['tokens'] = top_10percent_neg_bert['combined_text'].apply(tokenize)"
      ]
    },
    {
      "cell_type": "code",
      "execution_count": null,
      "metadata": {
        "id": "YYVP6fuWAX7Y"
      },
      "outputs": [],
      "source": [
        "# remove company related tokens (company name and ticker)\n",
        "coy_text = list(np.concatenate((crsp_train['ticker'].unique(), crsp_train['comnam'].unique())))\n",
        "\n",
        "# tokenize unwanted tokens\n",
        "tokens_to_remove = [token.text.lower() for s in coy_text for token in nlp(s)]\n",
        "tokens_to_remove.extend(['company', 'incorporation', 'corporation', 'incorporated',\n",
        "                         'inc.', 'corp.', 'co.', 'cvs', 'hboc', 'idexx'\n",
        "                         'year', 'ago', 'million', 'usd', 'united', 'states', 'us']) #add more tokens to be excluded\n",
        "\n",
        "# function to filter out unwanted tokens\n",
        "def filter_tokens(tokens):\n",
        "    return [token for token in tokens if token not in tokens_to_remove]\n",
        "\n",
        "# apply the function to the 'tokens' column\n",
        "top_10percent_pos_bert['tokens'] = top_10percent_pos_bert['tokens'].apply(filter_tokens)\n",
        "top_10percent_neg_bert['tokens'] = top_10percent_neg_bert['tokens'].apply(filter_tokens)"
      ]
    },
    {
      "cell_type": "code",
      "execution_count": null,
      "metadata": {
        "id": "0l07n6PfAX7Y"
      },
      "outputs": [],
      "source": [
        "# flatten list of tokens\n",
        "all_tokens_pos_bert = [token for sublist in top_10percent_pos_bert['tokens'] for token in sublist]\n",
        "all_tokens_neg_bert = [token for sublist in top_10percent_neg_bert['tokens'] for token in sublist]\n",
        "\n",
        "# convert list of tokens to a single string\n",
        "all_tokens_pos_bert_str = ' '.join(all_tokens_pos_bert)\n",
        "all_tokens_neg_bert_str = ' '.join(all_tokens_neg_bert)"
      ]
    },
    {
      "cell_type": "code",
      "execution_count": null,
      "metadata": {
        "id": "lg8QAfZkCIV7"
      },
      "outputs": [],
      "source": [
        "# generate word cloud\n",
        "wordcloud_bert_pos = WordCloud(width=400, height=250, background_color='white').generate(all_tokens_pos_bert_str)\n",
        "wordcloud_bert_neg = WordCloud(width=400, height=250, background_color='white').generate(all_tokens_neg_bert_str)"
      ]
    },
    {
      "cell_type": "code",
      "execution_count": null,
      "metadata": {
        "id": "HiimVZjkCWlK"
      },
      "outputs": [],
      "source": [
        "# plot word cloud for top10% positive\n",
        "fig, ax = plt.subplots(figsize=(10, 5))\n",
        "ax.imshow(wordcloud_bert_pos, interpolation='bilinear')\n",
        "ax.axis('off')\n",
        "ax.set_title(f'Fine-Tuned BERT Top 10% Positive', fontsize=20)\n",
        "\n",
        "plt.show()"
      ]
    },
    {
      "cell_type": "code",
      "execution_count": null,
      "metadata": {
        "id": "hF9icFz-CdEh"
      },
      "outputs": [],
      "source": [
        "# plot word cloud for top10% negative\n",
        "fig, ax = plt.subplots(figsize=(10, 5))\n",
        "ax.imshow(wordcloud_bert_neg, interpolation='bilinear')\n",
        "ax.axis('off')\n",
        "ax.set_title(f'Fine-Tuned BERT Top 10% Negative', fontsize=20)\n",
        "\n",
        "plt.show()"
      ]
    },
    {
      "cell_type": "markdown",
      "metadata": {
        "id": "WiHSzh83FY3q"
      },
      "source": [
        "### **RoBERTa**"
      ]
    },
    {
      "cell_type": "code",
      "execution_count": null,
      "metadata": {
        "id": "GkCcmd1BFY3r"
      },
      "outputs": [],
      "source": [
        "# format to datetime\n",
        "roberta_pred_finetuned['week_date'] = pd.to_datetime(roberta_pred_finetuned['week_date'])\n",
        "\n",
        "# add news number to differentiate multiple news items in a week\n",
        "roberta_pred_finetuned['news_number'] = roberta_pred_finetuned.groupby(['company', 'week_date']).cumcount() + 1\n",
        "\n",
        "# merge test dataset with fine-tuned prediction\n",
        "combined_df_roberta = pd.merge(test_df[['permco', 'start_date', 'news_number', 'combined_text', 'eventtype']], roberta_pred_finetuned, how='left', left_on=['permco', 'start_date', 'news_number'], right_on=['company', 'week_date', 'news_number'])\n",
        "combined_df_roberta.drop(['permco', 'start_date'], axis=1, inplace=True)\n",
        "\n",
        "# order columns\n",
        "combined_df_roberta = combined_df_roberta[['company', 'week_date', 'combined_text', 'eventtype', 'probability_neg', 'probability_pos', 'prediction','actual']]\n",
        "\n",
        "# remove rows without news\n",
        "combined_df_roberta = combined_df_roberta[combined_df_roberta['combined_text'] != 'no_headlines no_headlines no_headlines']\n",
        "\n",
        "# take the top 10% positive probability from the maximum values\n",
        "top_10percent_pos_roberta = combined_df_roberta.nlargest(int(len(combined_df_roberta) * 0.1), 'probability_pos')\n",
        "\n",
        "# take the top 10% negative probability from the maximum values\n",
        "top_10percent_neg_roberta = combined_df_roberta.nlargest(int(len(combined_df_roberta) * 0.1), 'probability_neg')"
      ]
    },
    {
      "cell_type": "markdown",
      "metadata": {
        "id": "E8YRh-k0FY3r"
      },
      "source": [
        "**Wordcloud**"
      ]
    },
    {
      "cell_type": "code",
      "execution_count": null,
      "metadata": {
        "id": "kr9FhEqGFY3r"
      },
      "outputs": [],
      "source": [
        "#apply function to the news for top10% positive\n",
        "top_10percent_pos_roberta['tokens'] = top_10percent_pos_roberta['combined_text'].apply(tokenize)\n",
        "\n",
        "#apply function to the news for top10% negative\n",
        "top_10percent_neg_roberta['tokens'] = top_10percent_neg_roberta['combined_text'].apply(tokenize)"
      ]
    },
    {
      "cell_type": "code",
      "execution_count": null,
      "metadata": {
        "id": "ZACE2FlHFY3r"
      },
      "outputs": [],
      "source": [
        "# apply the function to the 'tokens' column\n",
        "top_10percent_pos_roberta['tokens'] = top_10percent_pos_roberta['tokens'].apply(filter_tokens)\n",
        "top_10percent_neg_roberta['tokens'] = top_10percent_neg_roberta['tokens'].apply(filter_tokens)"
      ]
    },
    {
      "cell_type": "code",
      "execution_count": null,
      "metadata": {
        "id": "JqsXpMIDFY3r"
      },
      "outputs": [],
      "source": [
        "# flatten list of tokens\n",
        "all_tokens_pos_roberta = [token for sublist in top_10percent_pos_roberta['tokens'] for token in sublist]\n",
        "all_tokens_neg_roberta = [token for sublist in top_10percent_neg_roberta['tokens'] for token in sublist]\n",
        "\n",
        "# convert list of tokens to a single string\n",
        "all_tokens_pos_roberta_str = ' '.join(all_tokens_pos_roberta)\n",
        "all_tokens_neg_roberta_str = ' '.join(all_tokens_neg_roberta)"
      ]
    },
    {
      "cell_type": "code",
      "execution_count": null,
      "metadata": {
        "id": "rWRFZnQXFY3r"
      },
      "outputs": [],
      "source": [
        "# generate word cloud\n",
        "wordcloud_roberta_pos = WordCloud(width=400, height=250, background_color='white').generate(all_tokens_pos_roberta_str)\n",
        "wordcloud_roberta_neg = WordCloud(width=400, height=250, background_color='white').generate(all_tokens_neg_roberta_str)"
      ]
    },
    {
      "cell_type": "code",
      "execution_count": null,
      "metadata": {
        "id": "iM4pwYvSFY3r"
      },
      "outputs": [],
      "source": [
        "# plot word cloud for top10% positive\n",
        "fig, ax = plt.subplots(figsize=(10, 5))\n",
        "ax.imshow(wordcloud_roberta_pos, interpolation='bilinear')\n",
        "ax.axis('off')\n",
        "ax.set_title(f'Fine-Tuned RoBERTa Top 10% Positive', fontsize=20)\n",
        "\n",
        "plt.show()"
      ]
    },
    {
      "cell_type": "code",
      "execution_count": null,
      "metadata": {
        "id": "5mQhAnZiFY3r"
      },
      "outputs": [],
      "source": [
        "# plot word cloud for top10% negative\n",
        "fig, ax = plt.subplots(figsize=(10, 5))\n",
        "ax.imshow(wordcloud_roberta_neg, interpolation='bilinear')\n",
        "ax.axis('off')\n",
        "ax.set_title(f'Fine-Tuned RoBERTa Top 10% Negative', fontsize=20)\n",
        "\n",
        "plt.show()"
      ]
    },
    {
      "cell_type": "markdown",
      "metadata": {
        "id": "OrdE29mBGLT1"
      },
      "source": [
        "### **DistilBERT**"
      ]
    },
    {
      "cell_type": "code",
      "execution_count": null,
      "metadata": {
        "id": "2VtB69AWGLT1"
      },
      "outputs": [],
      "source": [
        "# format to datetime\n",
        "distilbert_pred_finetuned['week_date'] = pd.to_datetime(distilbert_pred_finetuned['week_date'])\n",
        "\n",
        "# add news number to differentiate multiple news items in a week\n",
        "distilbert_pred_finetuned['news_number'] = distilbert_pred_finetuned.groupby(['company', 'week_date']).cumcount() + 1\n",
        "\n",
        "# merge test dataset with fine-tuned prediction\n",
        "combined_df_distilbert = pd.merge(test_df[['permco', 'start_date', 'news_number', 'combined_text', 'eventtype']], distilbert_pred_finetuned, how='left', left_on=['permco', 'start_date', 'news_number'], right_on=['company', 'week_date', 'news_number'])\n",
        "combined_df_distilbert.drop(['permco', 'start_date'], axis=1, inplace=True)\n",
        "\n",
        "# order columns\n",
        "combined_df_distilbert = combined_df_distilbert[['company', 'week_date', 'combined_text', 'eventtype', 'probability_neg', 'probability_pos', 'prediction','actual']]\n",
        "\n",
        "# remove rows without news\n",
        "combined_df_distilbert = combined_df_distilbert[combined_df_distilbert['combined_text'] != 'no_headlines no_headlines no_headlines']\n",
        "\n",
        "# take the top 10% positive probability from the maximum values\n",
        "top_10percent_pos_distilbert = combined_df_distilbert.nlargest(int(len(combined_df_distilbert) * 0.1), 'probability_pos')\n",
        "\n",
        "# take the top 10% negative probability from the maximum values\n",
        "top_10percent_neg_distilbert = combined_df_distilbert.nlargest(int(len(combined_df_distilbert) * 0.1), 'probability_neg')"
      ]
    },
    {
      "cell_type": "markdown",
      "metadata": {
        "id": "wdL72TEoGLT1"
      },
      "source": [
        "**Wordcloud**"
      ]
    },
    {
      "cell_type": "code",
      "execution_count": null,
      "metadata": {
        "id": "ra9auiJzGLT1"
      },
      "outputs": [],
      "source": [
        "#apply function to the news for top10% positive\n",
        "top_10percent_pos_distilbert['tokens'] = top_10percent_pos_distilbert['combined_text'].apply(tokenize)\n",
        "\n",
        "#apply function to the news for top10% negative\n",
        "top_10percent_neg_distilbert['tokens'] = top_10percent_neg_distilbert['combined_text'].apply(tokenize)"
      ]
    },
    {
      "cell_type": "code",
      "execution_count": null,
      "metadata": {
        "id": "y4Bs5mIdGLT1"
      },
      "outputs": [],
      "source": [
        "# apply the function to the 'tokens' column\n",
        "top_10percent_pos_distilbert['tokens'] = top_10percent_pos_distilbert['tokens'].apply(filter_tokens)\n",
        "top_10percent_neg_distilbert['tokens'] = top_10percent_neg_distilbert['tokens'].apply(filter_tokens)"
      ]
    },
    {
      "cell_type": "code",
      "execution_count": null,
      "metadata": {
        "id": "E56DaCQOGLT1"
      },
      "outputs": [],
      "source": [
        "# flatten list of tokens\n",
        "all_tokens_pos_distilbert = [token for sublist in top_10percent_pos_distilbert['tokens'] for token in sublist]\n",
        "all_tokens_neg_distilbert = [token for sublist in top_10percent_neg_distilbert['tokens'] for token in sublist]\n",
        "\n",
        "# convert list of tokens to a single string\n",
        "all_tokens_pos_distilbert_str = ' '.join(all_tokens_pos_distilbert)\n",
        "all_tokens_neg_distilbert_str = ' '.join(all_tokens_neg_distilbert)"
      ]
    },
    {
      "cell_type": "code",
      "execution_count": null,
      "metadata": {
        "id": "-PODEWVRGLT1"
      },
      "outputs": [],
      "source": [
        "# generate word cloud\n",
        "wordcloud_distilbert_pos = WordCloud(width=400, height=250, background_color='white').generate(all_tokens_pos_distilbert_str)\n",
        "wordcloud_distilbert_neg = WordCloud(width=400, height=250, background_color='white').generate(all_tokens_neg_distilbert_str)"
      ]
    },
    {
      "cell_type": "code",
      "execution_count": null,
      "metadata": {
        "id": "-d_meXthGLT1"
      },
      "outputs": [],
      "source": [
        "# plot word cloud for top10% positive\n",
        "fig, ax = plt.subplots(figsize=(10, 5))\n",
        "ax.imshow(wordcloud_distilbert_pos, interpolation='bilinear')\n",
        "ax.axis('off')\n",
        "ax.set_title(f'Fine-Tuned DistilBERT Top 10% Positive', fontsize=20)\n",
        "\n",
        "plt.show()"
      ]
    },
    {
      "cell_type": "code",
      "execution_count": null,
      "metadata": {
        "id": "QQGSwYdtGLT2"
      },
      "outputs": [],
      "source": [
        "# plot word cloud for top10% negative\n",
        "fig, ax = plt.subplots(figsize=(10, 5))\n",
        "ax.imshow(wordcloud_distilbert_neg, interpolation='bilinear')\n",
        "ax.axis('off')\n",
        "ax.set_title(f'Fine-Tuned DistilBERT Top 10% Negative', fontsize=20)\n",
        "\n",
        "plt.show()"
      ]
    },
    {
      "cell_type": "markdown",
      "metadata": {
        "id": "ORLRpJzPGlir"
      },
      "source": [
        "### **DistilRoBERTa**"
      ]
    },
    {
      "cell_type": "code",
      "execution_count": null,
      "metadata": {
        "id": "y2LWKakRGlir"
      },
      "outputs": [],
      "source": [
        "# format to datetime\n",
        "distilroberta_pred_finetuned['week_date'] = pd.to_datetime(distilroberta_pred_finetuned['week_date'])\n",
        "\n",
        "# add news number to differentiate multiple news items in a week\n",
        "distilroberta_pred_finetuned['news_number'] = distilroberta_pred_finetuned.groupby(['company', 'week_date']).cumcount() + 1\n",
        "\n",
        "# merge test dataset with fine-tuned prediction\n",
        "combined_df_distilroberta = pd.merge(test_df[['permco', 'start_date', 'news_number', 'combined_text', 'eventtype']], distilroberta_pred_finetuned, how='left', left_on=['permco', 'start_date', 'news_number'], right_on=['company', 'week_date', 'news_number'])\n",
        "combined_df_distilroberta.drop(['permco', 'start_date'], axis=1, inplace=True)\n",
        "\n",
        "# order columns\n",
        "combined_df_distilroberta = combined_df_distilroberta[['company', 'week_date', 'combined_text', 'eventtype', 'probability_neg', 'probability_pos', 'prediction','actual']]\n",
        "\n",
        "# remove rows without news\n",
        "combined_df_distilroberta = combined_df_distilroberta[combined_df_distilroberta['combined_text'] != 'no_headlines no_headlines no_headlines']\n",
        "\n",
        "# take the top 10% positive probability from the maximum values\n",
        "top_10percent_pos_distilroberta = combined_df_distilroberta.nlargest(int(len(combined_df_distilroberta) * 0.1), 'probability_pos')\n",
        "\n",
        "# take the top 10% negative probability from the maximum values\n",
        "top_10percent_neg_distilroberta = combined_df_distilroberta.nlargest(int(len(combined_df_distilroberta) * 0.1), 'probability_neg')"
      ]
    },
    {
      "cell_type": "markdown",
      "metadata": {
        "id": "ljAFS0vRGlir"
      },
      "source": [
        "**Wordcloud**"
      ]
    },
    {
      "cell_type": "code",
      "execution_count": null,
      "metadata": {
        "id": "KaGPb6bWGlir"
      },
      "outputs": [],
      "source": [
        "#apply function to the news for top10% positive\n",
        "top_10percent_pos_distilroberta['tokens'] = top_10percent_pos_distilroberta['combined_text'].apply(tokenize)\n",
        "\n",
        "#apply function to the news for top10% negative\n",
        "top_10percent_neg_distilroberta['tokens'] = top_10percent_neg_distilroberta['combined_text'].apply(tokenize)"
      ]
    },
    {
      "cell_type": "code",
      "execution_count": null,
      "metadata": {
        "id": "h0Q-Q8CPGlis"
      },
      "outputs": [],
      "source": [
        "# apply the function to the 'tokens' column\n",
        "top_10percent_pos_distilroberta['tokens'] = top_10percent_pos_distilroberta['tokens'].apply(filter_tokens)\n",
        "top_10percent_neg_distilroberta['tokens'] = top_10percent_neg_distilroberta['tokens'].apply(filter_tokens)"
      ]
    },
    {
      "cell_type": "code",
      "execution_count": null,
      "metadata": {
        "id": "cWXXaxF7Glis"
      },
      "outputs": [],
      "source": [
        "# flatten list of tokens\n",
        "all_tokens_pos_distilroberta = [token for sublist in top_10percent_pos_distilroberta['tokens'] for token in sublist]\n",
        "all_tokens_neg_distilroberta = [token for sublist in top_10percent_neg_distilroberta['tokens'] for token in sublist]\n",
        "\n",
        "# convert list of tokens to a single string\n",
        "all_tokens_pos_distilroberta_str = ' '.join(all_tokens_pos_distilroberta)\n",
        "all_tokens_neg_distilroberta_str = ' '.join(all_tokens_neg_distilroberta)"
      ]
    },
    {
      "cell_type": "code",
      "execution_count": null,
      "metadata": {
        "id": "tD72W7cUGlis"
      },
      "outputs": [],
      "source": [
        "# generate word cloud\n",
        "wordcloud_distilroberta_pos = WordCloud(width=400, height=250, background_color='white').generate(all_tokens_pos_distilroberta_str)\n",
        "wordcloud_distilroberta_neg = WordCloud(width=400, height=250, background_color='white').generate(all_tokens_neg_distilroberta_str)"
      ]
    },
    {
      "cell_type": "code",
      "execution_count": null,
      "metadata": {
        "id": "PO3oN-MlGlis"
      },
      "outputs": [],
      "source": [
        "# plot word cloud for top10% positive\n",
        "fig, ax = plt.subplots(figsize=(10, 5))\n",
        "ax.imshow(wordcloud_distilroberta_pos, interpolation='bilinear')\n",
        "ax.axis('off')\n",
        "ax.set_title(f'Fine-Tuned DistilRoBERTa Top 10% Positive', fontsize=20)\n",
        "\n",
        "plt.show()"
      ]
    },
    {
      "cell_type": "code",
      "execution_count": null,
      "metadata": {
        "id": "drxBMMQ0Glis"
      },
      "outputs": [],
      "source": [
        "# plot word cloud for top10% negative\n",
        "fig, ax = plt.subplots(figsize=(10, 5))\n",
        "ax.imshow(wordcloud_distilroberta_neg, interpolation='bilinear')\n",
        "ax.axis('off')\n",
        "ax.set_title(f'Fine-Tuned DistilRoBERTa Top 10% Negative', fontsize=20)\n",
        "\n",
        "plt.show()"
      ]
    },
    {
      "cell_type": "code",
      "execution_count": null,
      "metadata": {
        "id": "Bb7MNZuuG-HC"
      },
      "outputs": [],
      "source": []
    },
    {
      "cell_type": "markdown",
      "metadata": {
        "id": "gZ4CTpAWHBgC"
      },
      "source": [
        "### **FinBERT**"
      ]
    },
    {
      "cell_type": "code",
      "execution_count": null,
      "metadata": {
        "id": "HxgWt76CHBgD"
      },
      "outputs": [],
      "source": [
        "# format to datetime\n",
        "finbert_pred_finetuned['week_date'] = pd.to_datetime(finbert_pred_finetuned['week_date'])\n",
        "\n",
        "# add news number to differentiate multiple news items in a week\n",
        "finbert_pred_finetuned['news_number'] = finbert_pred_finetuned.groupby(['company', 'week_date']).cumcount() + 1\n",
        "\n",
        "# merge test dataset with fine-tuned prediction\n",
        "combined_df_finbert = pd.merge(test_df[['permco', 'start_date', 'news_number', 'combined_text', 'eventtype']], finbert_pred_finetuned, how='left', left_on=['permco', 'start_date', 'news_number'], right_on=['company', 'week_date', 'news_number'])\n",
        "combined_df_finbert.drop(['permco', 'start_date'], axis=1, inplace=True)\n",
        "\n",
        "# order columns\n",
        "combined_df_finbert = combined_df_finbert[['company', 'week_date', 'combined_text', 'eventtype', 'probability_neg', 'probability_pos', 'prediction','actual']]\n",
        "\n",
        "# remove rows without news\n",
        "combined_df_finbert = combined_df_finbert[combined_df_finbert['combined_text'] != 'no_headlines no_headlines no_headlines']\n",
        "\n",
        "# take the top 10% positive probability from the maximum values\n",
        "top_10percent_pos_finbert = combined_df_finbert.nlargest(int(len(combined_df_finbert) * 0.1), 'probability_pos')\n",
        "\n",
        "# take the top 10% negative probability from the maximum values\n",
        "top_10percent_neg_finbert = combined_df_finbert.nlargest(int(len(combined_df_finbert) * 0.1), 'probability_neg')"
      ]
    },
    {
      "cell_type": "markdown",
      "metadata": {
        "id": "f3GkZa4bHBgD"
      },
      "source": [
        "**Wordcloud**"
      ]
    },
    {
      "cell_type": "code",
      "execution_count": null,
      "metadata": {
        "id": "DW4FrlqkHBgD"
      },
      "outputs": [],
      "source": [
        "#apply function to the news for top10% positive\n",
        "top_10percent_pos_finbert['tokens'] = top_10percent_pos_finbert['combined_text'].apply(tokenize)\n",
        "\n",
        "#apply function to the news for top10% negative\n",
        "top_10percent_neg_finbert['tokens'] = top_10percent_neg_finbert['combined_text'].apply(tokenize)"
      ]
    },
    {
      "cell_type": "code",
      "execution_count": null,
      "metadata": {
        "id": "HMgfUjuCHBgD"
      },
      "outputs": [],
      "source": [
        "# apply the function to the 'tokens' column\n",
        "top_10percent_pos_finbert['tokens'] = top_10percent_pos_finbert['tokens'].apply(filter_tokens)\n",
        "top_10percent_neg_finbert['tokens'] = top_10percent_neg_finbert['tokens'].apply(filter_tokens)"
      ]
    },
    {
      "cell_type": "code",
      "execution_count": null,
      "metadata": {
        "id": "e-E9xL59HBgD"
      },
      "outputs": [],
      "source": [
        "# flatten list of tokens\n",
        "all_tokens_pos_finbert = [token for sublist in top_10percent_pos_finbert['tokens'] for token in sublist]\n",
        "all_tokens_neg_finbert = [token for sublist in top_10percent_neg_finbert['tokens'] for token in sublist]\n",
        "\n",
        "# convert list of tokens to a single string\n",
        "all_tokens_pos_finbert_str = ' '.join(all_tokens_pos_finbert)\n",
        "all_tokens_neg_finbert_str = ' '.join(all_tokens_neg_finbert)"
      ]
    },
    {
      "cell_type": "code",
      "execution_count": null,
      "metadata": {
        "id": "oqPk1IYIHBgD"
      },
      "outputs": [],
      "source": [
        "# generate word cloud\n",
        "wordcloud_finbert_pos = WordCloud(width=400, height=250, background_color='white').generate(all_tokens_pos_finbert_str)\n",
        "wordcloud_finbert_neg = WordCloud(width=400, height=250, background_color='white').generate(all_tokens_neg_finbert_str)"
      ]
    },
    {
      "cell_type": "code",
      "execution_count": null,
      "metadata": {
        "id": "TnQ_QQgEHBgD"
      },
      "outputs": [],
      "source": [
        "# plot word cloud for top10% positive\n",
        "fig, ax = plt.subplots(figsize=(10, 5))\n",
        "ax.imshow(wordcloud_finbert_pos, interpolation='bilinear')\n",
        "ax.axis('off')\n",
        "ax.set_title(f'Fine-Tuned FinBERT Top 10% Positive', fontsize=20)\n",
        "\n",
        "plt.show()"
      ]
    },
    {
      "cell_type": "code",
      "execution_count": null,
      "metadata": {
        "id": "DsDibeQVHBgD"
      },
      "outputs": [],
      "source": [
        "# plot word cloud for top10% negative\n",
        "fig, ax = plt.subplots(figsize=(10, 5))\n",
        "ax.imshow(wordcloud_finbert_neg, interpolation='bilinear')\n",
        "ax.axis('off')\n",
        "ax.set_title(f'Fine-Tuned FinBERT Top 10% Negative', fontsize=20)\n",
        "\n",
        "plt.show()"
      ]
    },
    {
      "cell_type": "markdown",
      "metadata": {
        "id": "5v--qk4oqJx_"
      },
      "source": [
        "# **PORTFOLIO ANALYSIS WITHOUT TRANSACTION COST**"
      ]
    },
    {
      "cell_type": "markdown",
      "metadata": {
        "id": "VnYSVVAyrQPt"
      },
      "source": [
        "## **Pre-Trained**"
      ]
    },
    {
      "cell_type": "code",
      "execution_count": null,
      "metadata": {
        "id": "_riQxU-3tgpl"
      },
      "outputs": [],
      "source": [
        "# load data\n",
        "bert_portfolio_pretrained = pd.read_csv('/content/drive/MyDrive/PostGrad/5. Extended Research Projects/Results/Portfolio Analysis - Pre Trained/bert_portfolio_pretrained.csv')\n",
        "roberta_portfolio_pretrained = pd.read_csv('/content/drive/MyDrive/PostGrad/5. Extended Research Projects/Results/Portfolio Analysis - Pre Trained/roberta_portfolio_pretrained.csv')\n",
        "distilbert_portfolio_pretrained = pd.read_csv('/content/drive/MyDrive/PostGrad/5. Extended Research Projects/Results/Portfolio Analysis - Pre Trained/distilbert_portfolio_pretrained.csv')\n",
        "distilroberta_portfolio_pretrained = pd.read_csv('/content/drive/MyDrive/PostGrad/5. Extended Research Projects/Results/Portfolio Analysis - Pre Trained/distilroberta_portfolio_pretrained.csv')\n",
        "finbert_portfolio_pretrained = pd.read_csv('/content/drive/MyDrive/PostGrad/5. Extended Research Projects/Results/Portfolio Analysis - Pre Trained/finbert_portfolio_pretrained.csv')"
      ]
    },
    {
      "cell_type": "code",
      "execution_count": null,
      "metadata": {
        "id": "EZtA8w-rJxSb"
      },
      "outputs": [],
      "source": [
        "# format to datetime\n",
        "bert_portfolio_pretrained['date'] = pd.to_datetime(bert_portfolio_pretrained['date'])\n",
        "roberta_portfolio_pretrained['date'] = pd.to_datetime(roberta_portfolio_pretrained['date'])\n",
        "distilbert_portfolio_pretrained['date'] = pd.to_datetime(distilbert_portfolio_pretrained['date'])\n",
        "distilroberta_portfolio_pretrained['date'] = pd.to_datetime(distilroberta_portfolio_pretrained['date'])\n",
        "finbert_portfolio_pretrained['date'] = pd.to_datetime(finbert_portfolio_pretrained['date'])"
      ]
    },
    {
      "cell_type": "code",
      "execution_count": null,
      "metadata": {
        "id": "dVwhj3FPvw41"
      },
      "outputs": [],
      "source": [
        "# add suffix to column name\n",
        "bert_portfolio_pretrained = bert_portfolio_pretrained.add_suffix('_bert')\n",
        "roberta_portfolio_pretrained = roberta_portfolio_pretrained.add_suffix('_roberta')\n",
        "distilbert_portfolio_pretrained = distilbert_portfolio_pretrained.add_suffix('_distilbert')\n",
        "distilroberta_portfolio_pretrained = distilroberta_portfolio_pretrained.add_suffix('_distilroberta')\n",
        "finbert_portfolio_pretrained = finbert_portfolio_pretrained.add_suffix('_finbert')"
      ]
    },
    {
      "cell_type": "markdown",
      "metadata": {
        "id": "OO6qz0EjmuSN"
      },
      "source": [
        "### **EW L-S**"
      ]
    },
    {
      "cell_type": "code",
      "execution_count": null,
      "metadata": {
        "id": "4dUGszUVuZTn"
      },
      "outputs": [],
      "source": [
        "# concat all models' EW-LS portfolio\n",
        "ew_ls = pd.concat([bert_portfolio_pretrained[['date_bert', 'cum_market_return_bert','cum_ELS_return_bert']],\n",
        "                   roberta_portfolio_pretrained['cum_ELS_return_roberta'],\n",
        "                   distilbert_portfolio_pretrained['cum_ELS_return_distilbert'],\n",
        "                   distilroberta_portfolio_pretrained['cum_ELS_return_distilroberta'],\n",
        "                   finbert_portfolio_pretrained['cum_ELS_return_finbert']], axis=1)"
      ]
    },
    {
      "cell_type": "code",
      "execution_count": null,
      "metadata": {
        "id": "KPNM7nhCvDhb"
      },
      "outputs": [],
      "source": [
        "# rename column\n",
        "ew_ls.rename(columns={'date_bert': 'date',\n",
        "                      'cum_ELS_return_bert': 'BERT',\n",
        "                      'cum_ELS_return_distilbert':'DistilBERT',\n",
        "                      'cum_ELS_return_distilroberta':'DistilRoBERTa',\n",
        "                      'cum_ELS_return_finbert':'FinBERT',\n",
        "                      'cum_ELS_return_roberta':'RoBERTa',\n",
        "                      'cum_market_return_bert':'Market'}, inplace=True)"
      ]
    },
    {
      "cell_type": "code",
      "execution_count": null,
      "metadata": {
        "id": "lMORQFfJuv1M"
      },
      "outputs": [],
      "source": [
        "# reshape the DataFrame from wide to long format\n",
        "df_long = pd.melt(ew_ls, id_vars=['date'], value_vars=['BERT', 'DistilBERT', 'DistilRoBERTa', 'FinBERT', 'RoBERTa', 'Market'],\n",
        "                  var_name='model', value_name='log_return')\n",
        "\n",
        "# create the line plot\n",
        "fig = px.line(df_long,\n",
        "              x='date',\n",
        "              y='log_return',\n",
        "              color='model',\n",
        "              title='Equal Weighted Long-Short Strategy',\n",
        "              height=800,\n",
        "              width=900)\n",
        "\n",
        "# customize the x-axis to display date labels correctly\n",
        "fig.update_xaxes(title_text='Date', tickformat='%Y',\n",
        "                 title_font=dict(size=18),  # Font size for the x-axis title\n",
        "                 tickfont=dict(size=14))    # Font size for the x-axis ticks\n",
        "\n",
        "\n",
        "# customize the y-axis\n",
        "fig.update_yaxes(title_text='Cum. Log Return',\n",
        "                 range=[-1, 1.2],\n",
        "                 title_font=dict(size=18),  # Font size for the y-axis title\n",
        "                 tickfont=dict(size=14))    # Font size for the y-axis ticks\n",
        "\n",
        "# set different line styles for different models\n",
        "line_styles = {\n",
        "    'BERT': 'solid',\n",
        "    'DistilBERT': 'solid',\n",
        "    'DistilRoBERTa': 'solid',\n",
        "    'FinBERT': 'solid',\n",
        "    'RoBERTa': 'solid',\n",
        "    'Market': 'dot'\n",
        "}\n",
        "\n",
        "# apply the line styles and set 'Market' color to black\n",
        "fig.for_each_trace(lambda trace: trace.update(\n",
        "    line=dict(dash=line_styles[trace.name], color='black' if trace.name == 'Market' else trace.line.color)\n",
        ") if trace.name in line_styles else ())\n",
        "\n",
        "# show the plot\n",
        "fig.show()"
      ]
    },
    {
      "cell_type": "markdown",
      "metadata": {
        "id": "--colr1eEyiS"
      },
      "source": [
        "### **VW L-S**"
      ]
    },
    {
      "cell_type": "code",
      "execution_count": null,
      "metadata": {
        "id": "OEs-BfVnEyiY"
      },
      "outputs": [],
      "source": [
        "vw_ls = pd.concat([bert_portfolio_pretrained[['date_bert', 'cum_market_return_bert','cum_VLS_return_bert']],\n",
        "                   roberta_portfolio_pretrained['cum_VLS_return_roberta'],\n",
        "                   distilbert_portfolio_pretrained['cum_VLS_return_distilbert'],\n",
        "                   distilroberta_portfolio_pretrained['cum_VLS_return_distilroberta'],\n",
        "                   finbert_portfolio_pretrained['cum_VLS_return_finbert']], axis=1)"
      ]
    },
    {
      "cell_type": "code",
      "execution_count": null,
      "metadata": {
        "id": "nbxPo5puEyiZ"
      },
      "outputs": [],
      "source": [
        "vw_ls.rename(columns={'date_bert': 'date',\n",
        "                      'cum_market_return_bert':'Market',\n",
        "                      'cum_VLS_return_bert': 'BERT',\n",
        "                      'cum_VLS_return_roberta':'RoBERTa',\n",
        "                      'cum_VLS_return_distilbert':'DistilBERT',\n",
        "                      'cum_VLS_return_distilroberta':'DistilRoBERTa',\n",
        "                      'cum_VLS_return_finbert':'FinBERT'}, inplace=True)"
      ]
    },
    {
      "cell_type": "code",
      "execution_count": null,
      "metadata": {
        "id": "u7fYbzRaEyia"
      },
      "outputs": [],
      "source": [
        "# Reshape the DataFrame from wide to long format\n",
        "df_long = pd.melt(vw_ls, id_vars=['date'], value_vars=['BERT', 'DistilBERT', 'DistilRoBERTa', 'FinBERT', 'RoBERTa', 'Market', ],\n",
        "                  var_name='model', value_name='log_return')\n",
        "\n",
        "# Create the line plot\n",
        "fig = px.line(df_long,\n",
        "              x='date',\n",
        "              y='log_return',\n",
        "              color='model',\n",
        "              title='Value Weighted Long Strategy',\n",
        "              height=800,\n",
        "              width=900)\n",
        "\n",
        "# Customize the x-axis to display date labels correctly\n",
        "fig.update_xaxes(title_text='Date', tickformat='%Y',\n",
        "                 title_font=dict(size=18),  # Font size for the x-axis title\n",
        "                 tickfont=dict(size=14))    # Font size for the x-axis ticks\n",
        "\n",
        "\n",
        "# Customize the y-axis\n",
        "fig.update_yaxes(title_text='Cum. Log Return',\n",
        "                 range=[-1, 1.2],\n",
        "                 title_font=dict(size=18),  # Font size for the y-axis title\n",
        "                 tickfont=dict(size=14))    # Font size for the y-axis ticks\n",
        "\n",
        "# Set different line styles for different models\n",
        "line_styles = {\n",
        "    'BERT': 'solid',\n",
        "    'DistilBERT': 'solid',\n",
        "    'DistilRoBERTa': 'solid',\n",
        "    'FinBERT': 'solid',\n",
        "    'RoBERTa': 'solid',\n",
        "    'Market': 'dot'\n",
        "}\n",
        "\n",
        "# Apply the line styles and set 'Market' color to black\n",
        "fig.for_each_trace(lambda trace: trace.update(\n",
        "    line=dict(dash=line_styles[trace.name], color='black' if trace.name == 'Market' else trace.line.color)\n",
        ") if trace.name in line_styles else ())\n",
        "\n",
        "# Show the plot\n",
        "fig.show()"
      ]
    },
    {
      "cell_type": "markdown",
      "metadata": {
        "id": "icakuX7r_ZdD"
      },
      "source": [
        "### **EW L**"
      ]
    },
    {
      "cell_type": "code",
      "execution_count": null,
      "metadata": {
        "id": "9kmKP_xr_ZdE"
      },
      "outputs": [],
      "source": [
        "ew_l = pd.concat([bert_portfolio_pretrained[['date_bert', 'cum_market_return_bert','cum_EL_return_bert']],\n",
        "                   roberta_portfolio_pretrained['cum_EL_return_roberta'],\n",
        "                   distilbert_portfolio_pretrained['cum_EL_return_distilbert'],\n",
        "                   distilroberta_portfolio_pretrained['cum_EL_return_distilroberta'],\n",
        "                   finbert_portfolio_pretrained['cum_EL_return_finbert']], axis=1)"
      ]
    },
    {
      "cell_type": "code",
      "execution_count": null,
      "metadata": {
        "id": "ZLGrnpIH_ZdE"
      },
      "outputs": [],
      "source": [
        "ew_l.rename(columns={'date_bert': 'date',\n",
        "                      'cum_EL_return_bert': 'BERT',\n",
        "                      'cum_EL_return_distilbert':'DistilBERT',\n",
        "                      'cum_EL_return_distilroberta':'DistilRoBERTa',\n",
        "                      'cum_EL_return_finbert':'FinBERT',\n",
        "                      'cum_EL_return_roberta':'RoBERTa',\n",
        "                      'cum_market_return_bert':'Market'}, inplace=True)"
      ]
    },
    {
      "cell_type": "code",
      "execution_count": null,
      "metadata": {
        "id": "ZexTCCe6_ZdE"
      },
      "outputs": [],
      "source": [
        "# Reshape the DataFrame from wide to long format\n",
        "df_long = pd.melt(ew_l, id_vars=['date'], value_vars=['BERT', 'DistilBERT', 'DistilRoBERTa', 'FinBERT', 'RoBERTa', 'Market'],\n",
        "                  var_name='model', value_name='log_return')\n",
        "\n",
        "# Create the line plot\n",
        "fig = px.line(df_long,\n",
        "              x='date',\n",
        "              y='log_return',\n",
        "              color='model',\n",
        "              title='Equal Weighted Long Strategy',\n",
        "              height=800,\n",
        "              width=900)\n",
        "\n",
        "# Customize the x-axis to display date labels correctly\n",
        "fig.update_xaxes(title_text='Date', tickformat='%Y',\n",
        "                 title_font=dict(size=18),  # Font size for the x-axis title\n",
        "                 tickfont=dict(size=14))    # Font size for the x-axis ticks\n",
        "\n",
        "# Customize the y-axis\n",
        "fig.update_yaxes(title_text='Cum. Log Return',\n",
        "                 range=[-.5, 1.6])\n",
        "\n",
        "# Set different line styles for different models\n",
        "line_styles = {\n",
        "    'BERT': 'solid',\n",
        "    'DistilBERT': 'solid',\n",
        "    'DistilRoBERTa': 'solid',\n",
        "    'FinBERT': 'solid',\n",
        "    'RoBERTa': 'solid',\n",
        "    'Market': 'dot'\n",
        "}\n",
        "\n",
        "# Apply the line styles and set 'Market' color to black\n",
        "fig.for_each_trace(lambda trace: trace.update(\n",
        "    line=dict(dash=line_styles[trace.name], color='black' if trace.name == 'Market' else trace.line.color)\n",
        ") if trace.name in line_styles else ())\n",
        "\n",
        "# Show the plot\n",
        "fig.show()"
      ]
    },
    {
      "cell_type": "markdown",
      "metadata": {
        "id": "lrnqo_vd_Syo"
      },
      "source": [
        "### **VW L**"
      ]
    },
    {
      "cell_type": "code",
      "execution_count": null,
      "metadata": {
        "id": "IFSO_OuT_Syr"
      },
      "outputs": [],
      "source": [
        "vw_l = pd.concat([bert_portfolio_pretrained[['date_bert', 'cum_market_return_bert','cum_VL_return_bert']],\n",
        "                   roberta_portfolio_pretrained['cum_VL_return_roberta'],\n",
        "                   distilbert_portfolio_pretrained['cum_VL_return_distilbert'],\n",
        "                   distilroberta_portfolio_pretrained['cum_VL_return_distilroberta'],\n",
        "                   finbert_portfolio_pretrained['cum_VL_return_finbert']], axis=1)"
      ]
    },
    {
      "cell_type": "code",
      "execution_count": null,
      "metadata": {
        "id": "LzWOJyOQ_Syr"
      },
      "outputs": [],
      "source": [
        "vw_l.rename(columns={'date_bert': 'date',\n",
        "                      'cum_market_return_bert':'Market',\n",
        "                      'cum_VL_return_bert': 'BERT',\n",
        "                      'cum_VL_return_roberta':'RoBERTa',\n",
        "                      'cum_VL_return_distilbert':'DistilBERT',\n",
        "                      'cum_VL_return_distilroberta':'DistilRoBERTa',\n",
        "                      'cum_VL_return_finbert':'FinBERT'}, inplace=True)"
      ]
    },
    {
      "cell_type": "code",
      "execution_count": null,
      "metadata": {
        "id": "Sg1UgOa6_Syr"
      },
      "outputs": [],
      "source": [
        "# Reshape the DataFrame from wide to long format\n",
        "df_long = pd.melt(vw_l, id_vars=['date'], value_vars=['BERT', 'DistilBERT', 'DistilRoBERTa', 'FinBERT', 'RoBERTa', 'Market', ],\n",
        "                  var_name='model', value_name='log_return')\n",
        "\n",
        "# Create the line plot\n",
        "fig = px.line(df_long,\n",
        "              x='date',\n",
        "              y='log_return',\n",
        "              color='model',\n",
        "              title='Value Weighted Long Strategy',\n",
        "              height=800,\n",
        "              width=900)\n",
        "\n",
        "# Customize the x-axis to display date labels correctly\n",
        "fig.update_xaxes(title_text='Date', tickformat='%Y',\n",
        "                 title_font=dict(size=18),  # Font size for the x-axis title\n",
        "                 tickfont=dict(size=14))    # Font size for the x-axis ticks\n",
        "\n",
        "# Customize the y-axis\n",
        "fig.update_yaxes(title_text='Cum. Log Return',\n",
        "                 range=[-.5, 1.6])\n",
        "\n",
        "# Set different line styles for different models\n",
        "line_styles = {\n",
        "    'BERT': 'solid',\n",
        "    'DistilBERT': 'solid',\n",
        "    'DistilRoBERTa': 'solid',\n",
        "    'FinBERT': 'solid',\n",
        "    'RoBERTa': 'solid',\n",
        "    'Market': 'dot'\n",
        "}\n",
        "\n",
        "# Apply the line styles and set 'Market' color to black\n",
        "fig.for_each_trace(lambda trace: trace.update(\n",
        "    line=dict(dash=line_styles[trace.name], color='black' if trace.name == 'Market' else trace.line.color)\n",
        ") if trace.name in line_styles else ())\n",
        "\n",
        "# Show the plot\n",
        "fig.show()"
      ]
    },
    {
      "cell_type": "markdown",
      "metadata": {
        "id": "hmP5Jn9r_fkO"
      },
      "source": [
        "### **EW S**"
      ]
    },
    {
      "cell_type": "code",
      "execution_count": null,
      "metadata": {
        "id": "Be0pwPzN_fkP"
      },
      "outputs": [],
      "source": [
        "ew_s = pd.concat([bert_portfolio_pretrained[['date_bert', 'cum_market_return_bert','cum_ES_return_bert']],\n",
        "                   roberta_portfolio_pretrained['cum_ES_return_roberta'],\n",
        "                   distilbert_portfolio_pretrained['cum_ES_return_distilbert'],\n",
        "                   distilroberta_portfolio_pretrained['cum_ES_return_distilroberta'],\n",
        "                   finbert_portfolio_pretrained['cum_ES_return_finbert']], axis=1)"
      ]
    },
    {
      "cell_type": "code",
      "execution_count": null,
      "metadata": {
        "id": "yQX5ndTq_fkP"
      },
      "outputs": [],
      "source": [
        "ew_s.rename(columns={'date_bert': 'date',\n",
        "                      'cum_ES_return_bert': 'BERT',\n",
        "                      'cum_ES_return_distilbert':'DistilBERT',\n",
        "                      'cum_ES_return_distilroberta':'DistilRoBERTa',\n",
        "                      'cum_ES_return_finbert':'FinBERT',\n",
        "                      'cum_ES_return_roberta':'RoBERTa',\n",
        "                      'cum_market_return_bert':'Market'}, inplace=True)"
      ]
    },
    {
      "cell_type": "code",
      "execution_count": null,
      "metadata": {
        "id": "vMvFY21A_fkP"
      },
      "outputs": [],
      "source": [
        "# Reshape the DataFrame from wide to long format\n",
        "df_long = pd.melt(ew_s, id_vars=['date'], value_vars=['BERT', 'DistilBERT', 'DistilRoBERTa', 'FinBERT', 'RoBERTa', 'Market'],\n",
        "                  var_name='model', value_name='log_return')\n",
        "\n",
        "# Create the line plot\n",
        "fig = px.line(df_long,\n",
        "              x='date',\n",
        "              y='log_return',\n",
        "              color='model',\n",
        "              title='Equal Weighted Short Strategy',\n",
        "              height=800,\n",
        "              width=900)\n",
        "\n",
        "# Customize the x-axis to display date labels correctly\n",
        "fig.update_xaxes(title_text='Date', tickformat='%Y',\n",
        "                 title_font=dict(size=18),  # Font size for the x-axis title\n",
        "                 tickfont=dict(size=14))    # Font size for the x-axis ticks\n",
        "\n",
        "# Customize the y-axis\n",
        "fig.update_yaxes(title_text='Cum. Log Return',\n",
        "                 range=[-2, 1.2])\n",
        "\n",
        "# Set different line styles for different models\n",
        "line_styles = {\n",
        "    'BERT': 'solid',\n",
        "    'DistilBERT': 'solid',\n",
        "    'DistilRoBERTa': 'solid',\n",
        "    'FinBERT': 'solid',\n",
        "    'RoBERTa': 'solid',\n",
        "    'Market': 'dot'\n",
        "}\n",
        "\n",
        "# Apply the line styles and set 'Market' color to black\n",
        "fig.for_each_trace(lambda trace: trace.update(\n",
        "    line=dict(dash=line_styles[trace.name], color='black' if trace.name == 'Market' else trace.line.color)\n",
        ") if trace.name in line_styles else ())\n",
        "\n",
        "# Show the plot\n",
        "fig.show()"
      ]
    },
    {
      "cell_type": "markdown",
      "metadata": {
        "id": "6ekHfHUW_fkQ"
      },
      "source": [
        "### **VW S**"
      ]
    },
    {
      "cell_type": "code",
      "execution_count": null,
      "metadata": {
        "id": "0vKTR6lA_fkR"
      },
      "outputs": [],
      "source": [
        "vw_s = pd.concat([bert_portfolio_pretrained[['date_bert', 'cum_market_return_bert','cum_VS_return_bert']],\n",
        "                   roberta_portfolio_pretrained['cum_VS_return_roberta'],\n",
        "                   distilbert_portfolio_pretrained['cum_VS_return_distilbert'],\n",
        "                   distilroberta_portfolio_pretrained['cum_VS_return_distilroberta'],\n",
        "                   finbert_portfolio_pretrained['cum_VS_return_finbert']], axis=1)"
      ]
    },
    {
      "cell_type": "code",
      "execution_count": null,
      "metadata": {
        "id": "hKFCjEQ7_fkR"
      },
      "outputs": [],
      "source": [
        "vw_s.rename(columns={'date_bert': 'date',\n",
        "                      'cum_market_return_bert':'Market',\n",
        "                      'cum_VS_return_bert': 'BERT',\n",
        "                      'cum_VS_return_roberta':'RoBERTa',\n",
        "                      'cum_VS_return_distilbert':'DistilBERT',\n",
        "                      'cum_VS_return_distilroberta':'DistilRoBERTa',\n",
        "                      'cum_VS_return_finbert':'FinBERT'}, inplace=True)"
      ]
    },
    {
      "cell_type": "code",
      "execution_count": null,
      "metadata": {
        "id": "kRQCqvsP_fkR"
      },
      "outputs": [],
      "source": [
        "# Reshape the DataFrame from wide to long format\n",
        "df_long = pd.melt(vw_s, id_vars=['date'], value_vars=['BERT', 'DistilBERT', 'DistilRoBERTa', 'FinBERT', 'RoBERTa', 'Market', ],\n",
        "                  var_name='model', value_name='log_return')\n",
        "\n",
        "# Create the line plot\n",
        "fig = px.line(df_long,\n",
        "              x='date',\n",
        "              y='log_return',\n",
        "              color='model',\n",
        "              title='Value Weighted Short Strategy',\n",
        "              height=800,\n",
        "              width=900)\n",
        "\n",
        "# Customize the x-axis to display date labels correctly\n",
        "fig.update_xaxes(title_text='Date', tickformat='%Y',\n",
        "                 title_font=dict(size=18),  # Font size for the x-axis title\n",
        "                 tickfont=dict(size=14))    # Font size for the x-axis ticks\n",
        "\n",
        "# Customize the y-axis\n",
        "fig.update_yaxes(title_text='Cum. Log Return',\n",
        "                 range=[-2, 1.2])\n",
        "\n",
        "# Set different line styles for different models\n",
        "line_styles = {\n",
        "    'BERT': 'solid',\n",
        "    'DistilBERT': 'solid',\n",
        "    'DistilRoBERTa': 'solid',\n",
        "    'FinBERT': 'solid',\n",
        "    'RoBERTa': 'solid',\n",
        "    'Market': 'dot'\n",
        "}\n",
        "\n",
        "# Apply the line styles and set 'Market' color to black\n",
        "fig.for_each_trace(lambda trace: trace.update(\n",
        "    line=dict(dash=line_styles[trace.name], color='black' if trace.name == 'Market' else trace.line.color)\n",
        ") if trace.name in line_styles else ())\n",
        "\n",
        "# Show the plot\n",
        "fig.show()"
      ]
    },
    {
      "cell_type": "markdown",
      "metadata": {
        "id": "-Iy0YZGLH9Vu"
      },
      "source": [
        "## **Fine-Tuned**"
      ]
    },
    {
      "cell_type": "code",
      "execution_count": null,
      "metadata": {
        "id": "LxMrSATksAA0"
      },
      "outputs": [],
      "source": [
        "# load data\n",
        "bert_portfolio_finetuned = pd.read_csv('/content/drive/MyDrive/PostGrad/5. Extended Research Projects/Results/Portfolio Analysis - Fine Tune/bert_portfolio.csv')\n",
        "roberta_portfolio_finetuned = pd.read_csv('/content/drive/MyDrive/PostGrad/5. Extended Research Projects/Results/Portfolio Analysis - Fine Tune/roberta_portfolio.csv')\n",
        "distilbert_portfolio_finetuned = pd.read_csv('/content/drive/MyDrive/PostGrad/5. Extended Research Projects/Results/Portfolio Analysis - Fine Tune/distilbert_portfolio.csv')\n",
        "distilroberta_portfolio_finetuned = pd.read_csv('/content/drive/MyDrive/PostGrad/5. Extended Research Projects/Results/Portfolio Analysis - Fine Tune/distilroberta_portfolio.csv')\n",
        "finbert_portfolio_finetuned = pd.read_csv('/content/drive/MyDrive/PostGrad/5. Extended Research Projects/Results/Portfolio Analysis - Fine Tune/finbert_portfolio.csv')"
      ]
    },
    {
      "cell_type": "code",
      "execution_count": null,
      "metadata": {
        "id": "mUpYPQZRsAA0"
      },
      "outputs": [],
      "source": [
        "bert_portfolio_finetuned['date'] = pd.to_datetime(bert_portfolio_finetuned['date'])\n",
        "roberta_portfolio_finetuned['date'] = pd.to_datetime(roberta_portfolio_finetuned['date'])\n",
        "distilbert_portfolio_finetuned['date'] = pd.to_datetime(distilbert_portfolio_finetuned['date'])\n",
        "distilroberta_portfolio_finetuned['date'] = pd.to_datetime(distilroberta_portfolio_finetuned['date'])\n",
        "finbert_portfolio_finetuned['date'] = pd.to_datetime(finbert_portfolio_finetuned['date'])"
      ]
    },
    {
      "cell_type": "code",
      "execution_count": null,
      "metadata": {
        "id": "uLJOSxy_sAA1"
      },
      "outputs": [],
      "source": [
        "# add suffix to column name\n",
        "bert_portfolio_finetuned = bert_portfolio_finetuned.add_suffix('_bert')\n",
        "roberta_portfolio_finetuned = roberta_portfolio_finetuned.add_suffix('_roberta')\n",
        "distilbert_portfolio_finetuned = distilbert_portfolio_finetuned.add_suffix('_distilbert')\n",
        "distilroberta_portfolio_finetuned = distilroberta_portfolio_finetuned.add_suffix('_distilroberta')\n",
        "finbert_portfolio_finetuned = finbert_portfolio_finetuned.add_suffix('_finbert')"
      ]
    },
    {
      "cell_type": "markdown",
      "metadata": {
        "id": "_EEo1wD-sAA1"
      },
      "source": [
        "### **EW L-S**"
      ]
    },
    {
      "cell_type": "code",
      "execution_count": null,
      "metadata": {
        "id": "mnjos78qsAA1"
      },
      "outputs": [],
      "source": [
        "ew_ls = pd.concat([bert_portfolio_finetuned[['date_bert', 'cum_market_return_bert','cum_ELS_return_bert']],\n",
        "                   roberta_portfolio_finetuned['cum_ELS_return_roberta'],\n",
        "                   distilbert_portfolio_finetuned['cum_ELS_return_distilbert'],\n",
        "                   distilroberta_portfolio_finetuned['cum_ELS_return_distilroberta'],\n",
        "                   finbert_portfolio_finetuned['cum_ELS_return_finbert']], axis=1)"
      ]
    },
    {
      "cell_type": "code",
      "execution_count": null,
      "metadata": {
        "id": "GjXX_7DxsAA2"
      },
      "outputs": [],
      "source": [
        "ew_ls.rename(columns={'date_bert': 'date',\n",
        "                      'cum_ELS_return_bert': 'BERT',\n",
        "                      'cum_ELS_return_distilbert':'DistilBERT',\n",
        "                      'cum_ELS_return_distilroberta':'DistilRoBERTa',\n",
        "                      'cum_ELS_return_finbert':'FinBERT',\n",
        "                      'cum_ELS_return_roberta':'RoBERTa',\n",
        "                      'cum_market_return_bert':'Market'}, inplace=True)"
      ]
    },
    {
      "cell_type": "code",
      "execution_count": null,
      "metadata": {
        "id": "Z_siQRGej14K"
      },
      "outputs": [],
      "source": [
        "df_long = pd.melt(ew_ls, id_vars=['date'], value_vars=['BERT', 'DistilBERT', 'DistilRoBERTa', 'FinBERT', 'RoBERTa', 'Market'],\n",
        "                  var_name='model', value_name='log_return')"
      ]
    },
    {
      "cell_type": "code",
      "execution_count": null,
      "metadata": {
        "id": "nK-LIenusAA2"
      },
      "outputs": [],
      "source": [
        "# Reshape the DataFrame from wide to long format\n",
        "df_long = pd.melt(ew_ls, id_vars=['date'], value_vars=['BERT', 'DistilBERT', 'DistilRoBERTa', 'FinBERT', 'RoBERTa', 'Market'],\n",
        "                  var_name='model', value_name='log_return')\n",
        "\n",
        "# Create the line plot\n",
        "fig = px.line(df_long,\n",
        "              x='date',\n",
        "              y='log_return',\n",
        "              color='model',\n",
        "              title='Equal Weighted Long-Short Strategy',\n",
        "              height=800,\n",
        "              width=900)\n",
        "\n",
        "# Customize the x-axis to display date labels correctly\n",
        "fig.update_xaxes(title_text='Date', tickformat='%Y',\n",
        "                 title_font=dict(size=18),  # Font size for the x-axis title\n",
        "                 tickfont=dict(size=14))    # Font size for the x-axis ticks\n",
        "\n",
        "\n",
        "# Customize the y-axis\n",
        "fig.update_yaxes(title_text='Cum. Log Return',\n",
        "                 range=[-1, 1.2],\n",
        "                 title_font=dict(size=18),  # Font size for the y-axis title\n",
        "                 tickfont=dict(size=14))    # Font size for the y-axis ticks\n",
        "\n",
        "# Set different line styles for different models\n",
        "line_styles = {\n",
        "    'BERT': 'solid',\n",
        "    'DistilBERT': 'solid',\n",
        "    'DistilRoBERTa': 'solid',\n",
        "    'FinBERT': 'solid',\n",
        "    'RoBERTa': 'solid',\n",
        "    'Market': 'dot'\n",
        "}\n",
        "\n",
        "# Apply the line styles and set 'Market' color to black\n",
        "fig.for_each_trace(lambda trace: trace.update(\n",
        "    line=dict(dash=line_styles[trace.name], color='black' if trace.name == 'Market' else trace.line.color)\n",
        ") if trace.name in line_styles else ())\n",
        "\n",
        "# Show the plot\n",
        "fig.show()"
      ]
    },
    {
      "cell_type": "markdown",
      "metadata": {
        "id": "p-BY93XlsAA2"
      },
      "source": [
        "### **VW L-S**"
      ]
    },
    {
      "cell_type": "code",
      "execution_count": null,
      "metadata": {
        "id": "cBeceWE8sAA3"
      },
      "outputs": [],
      "source": [
        "vw_ls = pd.concat([bert_portfolio_finetuned[['date_bert', 'cum_market_return_bert','cum_VLS_return_bert']],\n",
        "                   roberta_portfolio_finetuned['cum_VLS_return_roberta'],\n",
        "                   distilbert_portfolio_finetuned['cum_VLS_return_distilbert'],\n",
        "                   distilroberta_portfolio_finetuned['cum_VLS_return_distilroberta'],\n",
        "                   finbert_portfolio_finetuned['cum_VLS_return_finbert']], axis=1)"
      ]
    },
    {
      "cell_type": "code",
      "execution_count": null,
      "metadata": {
        "id": "mr-bXQ4EsAA3"
      },
      "outputs": [],
      "source": [
        "vw_ls.rename(columns={'date_bert': 'date',\n",
        "                      'cum_market_return_bert':'Market',\n",
        "                      'cum_VLS_return_bert': 'BERT',\n",
        "                      'cum_VLS_return_roberta':'RoBERTa',\n",
        "                      'cum_VLS_return_distilbert':'DistilBERT',\n",
        "                      'cum_VLS_return_distilroberta':'DistilRoBERTa',\n",
        "                      'cum_VLS_return_finbert':'FinBERT'}, inplace=True)"
      ]
    },
    {
      "cell_type": "code",
      "execution_count": null,
      "metadata": {
        "id": "8q9Lhx9asAA3"
      },
      "outputs": [],
      "source": [
        "# Reshape the DataFrame from wide to long format\n",
        "df_long = pd.melt(vw_ls, id_vars=['date'], value_vars=['BERT', 'DistilBERT', 'DistilRoBERTa', 'FinBERT', 'RoBERTa', 'Market', ],\n",
        "                  var_name='model', value_name='log_return')\n",
        "\n",
        "# Create the line plot\n",
        "fig = px.line(df_long,\n",
        "              x='date',\n",
        "              y='log_return',\n",
        "              color='model',\n",
        "              title='Value Weighted Long-Short Strategy',\n",
        "              height=800,\n",
        "              width=900)\n",
        "\n",
        "# Customize the x-axis to display date labels correctly\n",
        "fig.update_xaxes(title_text='Date', tickformat='%Y',\n",
        "                 title_font=dict(size=18),  # Font size for the x-axis title\n",
        "                 tickfont=dict(size=14))    # Font size for the x-axis ticks\n",
        "\n",
        "# Customize the y-axis\n",
        "fig.update_yaxes(title_text='Cum. Log Return',\n",
        "                 range=[-1, 1.2])\n",
        "\n",
        "# Set different line styles for different models\n",
        "line_styles = {\n",
        "    'BERT': 'solid',\n",
        "    'DistilBERT': 'solid',\n",
        "    'DistilRoBERTa': 'solid',\n",
        "    'FinBERT': 'solid',\n",
        "    'RoBERTa': 'solid',\n",
        "    'Market': 'dot'\n",
        "}\n",
        "\n",
        "# Apply the line styles and set 'Market' color to black\n",
        "fig.for_each_trace(lambda trace: trace.update(\n",
        "    line=dict(dash=line_styles[trace.name], color='black' if trace.name == 'Market' else trace.line.color)\n",
        ") if trace.name in line_styles else ())\n",
        "\n",
        "# Show the plot\n",
        "fig.show()"
      ]
    },
    {
      "cell_type": "markdown",
      "metadata": {
        "id": "EhU3hIwqCm9p"
      },
      "source": [
        "### **EW L**"
      ]
    },
    {
      "cell_type": "code",
      "execution_count": null,
      "metadata": {
        "id": "BScTDKIQCm9q"
      },
      "outputs": [],
      "source": [
        "ew_l = pd.concat([bert_portfolio_finetuned[['date_bert', 'cum_market_return_bert','cum_EL_return_bert']],\n",
        "                   roberta_portfolio_finetuned['cum_EL_return_roberta'],\n",
        "                   distilbert_portfolio_finetuned['cum_EL_return_distilbert'],\n",
        "                   distilroberta_portfolio_finetuned['cum_EL_return_distilroberta'],\n",
        "                   finbert_portfolio_finetuned['cum_EL_return_finbert']], axis=1)"
      ]
    },
    {
      "cell_type": "code",
      "execution_count": null,
      "metadata": {
        "id": "burMMGfvCm9r"
      },
      "outputs": [],
      "source": [
        "ew_l.rename(columns={'date_bert': 'date',\n",
        "                      'cum_EL_return_bert': 'BERT',\n",
        "                      'cum_EL_return_distilbert':'DistilBERT',\n",
        "                      'cum_EL_return_distilroberta':'DistilRoBERTa',\n",
        "                      'cum_EL_return_finbert':'FinBERT',\n",
        "                      'cum_EL_return_roberta':'RoBERTa',\n",
        "                      'cum_market_return_bert':'Market'}, inplace=True)"
      ]
    },
    {
      "cell_type": "code",
      "execution_count": null,
      "metadata": {
        "id": "6Nmc2QWECm9s"
      },
      "outputs": [],
      "source": [
        "# Reshape the DataFrame from wide to long format\n",
        "df_long = pd.melt(ew_l, id_vars=['date'], value_vars=['BERT', 'DistilBERT', 'DistilRoBERTa', 'FinBERT', 'RoBERTa', 'Market'],\n",
        "                  var_name='model', value_name='log_return')\n",
        "\n",
        "# Create the line plot\n",
        "fig = px.line(df_long,\n",
        "              x='date',\n",
        "              y='log_return',\n",
        "              color='model',\n",
        "              title='Equal Weighted Long',\n",
        "              height=800,\n",
        "              width=900)\n",
        "\n",
        "# Customize the x-axis to display date labels correctly\n",
        "fig.update_xaxes(title_text='Date', tickformat='%Y',\n",
        "                 title_font=dict(size=18),  # Font size for the x-axis title\n",
        "                 tickfont=dict(size=14))    # Font size for the x-axis ticks\n",
        "\n",
        "# Customize the y-axis\n",
        "fig.update_yaxes(title_text='Cum. Log Return',\n",
        "                 range=[-.5, 1.5])\n",
        "\n",
        "# Set different line styles for different models\n",
        "line_styles = {\n",
        "    'BERT': 'solid',\n",
        "    'DistilBERT': 'solid',\n",
        "    'DistilRoBERTa': 'solid',\n",
        "    'FinBERT': 'solid',\n",
        "    'RoBERTa': 'solid',\n",
        "    'Market': 'dot'\n",
        "}\n",
        "\n",
        "# Apply the line styles and set 'Market' color to black\n",
        "fig.for_each_trace(lambda trace: trace.update(\n",
        "    line=dict(dash=line_styles[trace.name], color='black' if trace.name == 'Market' else trace.line.color)\n",
        ") if trace.name in line_styles else ())\n",
        "\n",
        "# Show the plot\n",
        "fig.show()"
      ]
    },
    {
      "cell_type": "markdown",
      "metadata": {
        "id": "jUZlvMGxCvuP"
      },
      "source": [
        "### **VW L**"
      ]
    },
    {
      "cell_type": "code",
      "execution_count": null,
      "metadata": {
        "id": "ysQVp0rtCvuQ"
      },
      "outputs": [],
      "source": [
        "vw_l = pd.concat([bert_portfolio_finetuned[['date_bert', 'cum_market_return_bert','cum_VL_return_bert']],\n",
        "                   roberta_portfolio_finetuned['cum_VL_return_roberta'],\n",
        "                   distilbert_portfolio_finetuned['cum_VL_return_distilbert'],\n",
        "                   distilroberta_portfolio_finetuned['cum_VL_return_distilroberta'],\n",
        "                   finbert_portfolio_finetuned['cum_VL_return_finbert']], axis=1)"
      ]
    },
    {
      "cell_type": "code",
      "execution_count": null,
      "metadata": {
        "id": "JaBXLJuNCvuQ"
      },
      "outputs": [],
      "source": [
        "vw_l.rename(columns={'date_bert': 'date',\n",
        "                      'cum_market_return_bert':'Market',\n",
        "                      'cum_VL_return_bert': 'BERT',\n",
        "                      'cum_VL_return_roberta':'RoBERTa',\n",
        "                      'cum_VL_return_distilbert':'DistilBERT',\n",
        "                      'cum_VL_return_distilroberta':'DistilRoBERTa',\n",
        "                      'cum_VL_return_finbert':'FinBERT'}, inplace=True)"
      ]
    },
    {
      "cell_type": "code",
      "execution_count": null,
      "metadata": {
        "id": "SyVQHKE4CvuR"
      },
      "outputs": [],
      "source": [
        "# Reshape the DataFrame from wide to long format\n",
        "df_long = pd.melt(vw_l, id_vars=['date'], value_vars=['BERT', 'DistilBERT', 'DistilRoBERTa', 'FinBERT', 'RoBERTa', 'Market', ],\n",
        "                  var_name='model', value_name='log_return')\n",
        "\n",
        "# Create the line plot\n",
        "fig = px.line(df_long,\n",
        "              x='date',\n",
        "              y='log_return',\n",
        "              color='model',\n",
        "              title='Value Weighted Long Strategy',\n",
        "              height=800,\n",
        "              width=900)\n",
        "\n",
        "# Customize the x-axis to display date labels correctly\n",
        "fig.update_xaxes(title_text='Date', tickformat='%Y',\n",
        "                 title_font=dict(size=18),  # Font size for the x-axis title\n",
        "                 tickfont=dict(size=14))    # Font size for the x-axis ticks\n",
        "\n",
        "# Customize the y-axis\n",
        "fig.update_yaxes(title_text='Cum. Log Return',\n",
        "                 range=[-.5, 1.5])\n",
        "\n",
        "# Set different line styles for different models\n",
        "line_styles = {\n",
        "    'BERT': 'solid',\n",
        "    'DistilBERT': 'solid',\n",
        "    'DistilRoBERTa': 'solid',\n",
        "    'FinBERT': 'solid',\n",
        "    'RoBERTa': 'solid',\n",
        "    'Market': 'dot'\n",
        "}\n",
        "\n",
        "# Apply the line styles and set 'Market' color to black\n",
        "fig.for_each_trace(lambda trace: trace.update(\n",
        "    line=dict(dash=line_styles[trace.name], color='black' if trace.name == 'Market' else trace.line.color)\n",
        ") if trace.name in line_styles else ())\n",
        "\n",
        "# Show the plot\n",
        "fig.show()"
      ]
    },
    {
      "cell_type": "markdown",
      "metadata": {
        "id": "wwxGa0EqC1jh"
      },
      "source": [
        "### **EW S**"
      ]
    },
    {
      "cell_type": "code",
      "execution_count": null,
      "metadata": {
        "id": "tM_5xNjLC1jp"
      },
      "outputs": [],
      "source": [
        "ew_s = pd.concat([bert_portfolio_finetuned[['date_bert', 'cum_market_return_bert','cum_ES_return_bert']],\n",
        "                   roberta_portfolio_finetuned['cum_ES_return_roberta'],\n",
        "                   distilbert_portfolio_finetuned['cum_ES_return_distilbert'],\n",
        "                   distilroberta_portfolio_finetuned['cum_ES_return_distilroberta'],\n",
        "                   finbert_portfolio_finetuned['cum_ES_return_finbert']], axis=1)"
      ]
    },
    {
      "cell_type": "code",
      "execution_count": null,
      "metadata": {
        "id": "g0rcNaOmC1jq"
      },
      "outputs": [],
      "source": [
        "ew_s.rename(columns={'date_bert': 'date',\n",
        "                      'cum_ES_return_bert': 'BERT',\n",
        "                      'cum_ES_return_distilbert':'DistilBERT',\n",
        "                      'cum_ES_return_distilroberta':'DistilRoBERTa',\n",
        "                      'cum_ES_return_finbert':'FinBERT',\n",
        "                      'cum_ES_return_roberta':'RoBERTa',\n",
        "                      'cum_market_return_bert':'Market'}, inplace=True)"
      ]
    },
    {
      "cell_type": "code",
      "execution_count": null,
      "metadata": {
        "id": "4mIVDwvCC1jq"
      },
      "outputs": [],
      "source": [
        "# Reshape the DataFrame from wide to long format\n",
        "df_long = pd.melt(ew_s, id_vars=['date'], value_vars=['BERT', 'DistilBERT', 'DistilRoBERTa', 'FinBERT', 'RoBERTa', 'Market'],\n",
        "                  var_name='model', value_name='log_return')\n",
        "\n",
        "# Create the line plot\n",
        "fig = px.line(df_long,\n",
        "              x='date',\n",
        "              y='log_return',\n",
        "              color='model',\n",
        "              title='Equal Weighted Short Strategy',\n",
        "              height=800,\n",
        "              width=900)\n",
        "\n",
        "# Customize the x-axis to display date labels correctly\n",
        "fig.update_xaxes(title_text='Date', tickformat='%Y',\n",
        "                 title_font=dict(size=18),  # Font size for the x-axis title\n",
        "                 tickfont=dict(size=14))    # Font size for the x-axis ticks\n",
        "\n",
        "# Customize the y-axis\n",
        "fig.update_yaxes(title_text='Cum. Log Return',\n",
        "                 range=[-2, 1])\n",
        "\n",
        "# Set different line styles for different models\n",
        "line_styles = {\n",
        "    'BERT': 'solid',\n",
        "    'DistilBERT': 'solid',\n",
        "    'DistilRoBERTa': 'solid',\n",
        "    'FinBERT': 'solid',\n",
        "    'RoBERTa': 'solid',\n",
        "    'Market': 'dot'\n",
        "}\n",
        "\n",
        "# Apply the line styles and set 'Market' color to black\n",
        "fig.for_each_trace(lambda trace: trace.update(\n",
        "    line=dict(dash=line_styles[trace.name], color='black' if trace.name == 'Market' else trace.line.color)\n",
        ") if trace.name in line_styles else ())\n",
        "\n",
        "# Show the plot\n",
        "fig.show()"
      ]
    },
    {
      "cell_type": "markdown",
      "metadata": {
        "id": "fFXzIdgjC1jq"
      },
      "source": [
        "### **VW S**"
      ]
    },
    {
      "cell_type": "code",
      "execution_count": null,
      "metadata": {
        "id": "ZPzyf0lWC1jq"
      },
      "outputs": [],
      "source": [
        "vw_s = pd.concat([bert_portfolio_finetuned[['date_bert', 'cum_market_return_bert','cum_VS_return_bert']],\n",
        "                   roberta_portfolio_finetuned['cum_VS_return_roberta'],\n",
        "                   distilbert_portfolio_finetuned['cum_VS_return_distilbert'],\n",
        "                   distilroberta_portfolio_finetuned['cum_VS_return_distilroberta'],\n",
        "                   finbert_portfolio_finetuned['cum_VS_return_finbert']], axis=1)"
      ]
    },
    {
      "cell_type": "code",
      "execution_count": null,
      "metadata": {
        "id": "qBdIRkftC1jq"
      },
      "outputs": [],
      "source": [
        "vw_s.rename(columns={'date_bert': 'date',\n",
        "                      'cum_market_return_bert':'Market',\n",
        "                      'cum_VS_return_bert': 'BERT',\n",
        "                      'cum_VS_return_roberta':'RoBERTa',\n",
        "                      'cum_VS_return_distilbert':'DistilBERT',\n",
        "                      'cum_VS_return_distilroberta':'DistilRoBERTa',\n",
        "                      'cum_VS_return_finbert':'FinBERT'}, inplace=True)"
      ]
    },
    {
      "cell_type": "code",
      "execution_count": null,
      "metadata": {
        "id": "N4Ux66TaC1jr"
      },
      "outputs": [],
      "source": [
        "# Reshape the DataFrame from wide to long format\n",
        "df_long = pd.melt(vw_s, id_vars=['date'], value_vars=['BERT', 'DistilBERT', 'DistilRoBERTa', 'FinBERT', 'RoBERTa', 'Market', ],\n",
        "                  var_name='model', value_name='log_return')\n",
        "\n",
        "# Create the line plot\n",
        "fig = px.line(df_long,\n",
        "              x='date',\n",
        "              y='log_return',\n",
        "              color='model',\n",
        "              title='Value Weighted Short Strategy',\n",
        "              height=800,\n",
        "              width=900)\n",
        "\n",
        "# Customize the x-axis to display date labels correctly\n",
        "fig.update_xaxes(title_text='Date', tickformat='%Y',\n",
        "                 title_font=dict(size=18),  # Font size for the x-axis title\n",
        "                 tickfont=dict(size=14))    # Font size for the x-axis ticks\n",
        "\n",
        "# Customize the y-axis\n",
        "fig.update_yaxes(title_text='Cum. Log Return',\n",
        "                 range=[-2, 1.2])\n",
        "\n",
        "# Set different line styles for different models\n",
        "line_styles = {\n",
        "    'BERT': 'solid',\n",
        "    'DistilBERT': 'solid',\n",
        "    'DistilRoBERTa': 'solid',\n",
        "    'FinBERT': 'solid',\n",
        "    'RoBERTa': 'solid',\n",
        "    'Market': 'dot'\n",
        "}\n",
        "\n",
        "# Apply the line styles and set 'Market' color to black\n",
        "fig.for_each_trace(lambda trace: trace.update(\n",
        "    line=dict(dash=line_styles[trace.name], color='black' if trace.name == 'Market' else trace.line.color)\n",
        ") if trace.name in line_styles else ())\n",
        "\n",
        "# Show the plot\n",
        "fig.show()"
      ]
    },
    {
      "cell_type": "markdown",
      "metadata": {
        "id": "bWvK2K9Dvyf8"
      },
      "source": [
        "## **by Model**"
      ]
    },
    {
      "cell_type": "markdown",
      "metadata": {
        "id": "TpGYdncrwmub"
      },
      "source": [
        "### **BERT Pre-Trained**"
      ]
    },
    {
      "cell_type": "code",
      "execution_count": null,
      "metadata": {
        "id": "fFLgXWVlv-aZ"
      },
      "outputs": [],
      "source": [
        "bert_portfolio_pretrained.rename(columns={'date_bert': 'date',\n",
        "                               'cum_market_return_bert':'Market',\n",
        "                               'cum_EL_return_bert':'EW-L',\n",
        "                               'cum_ES_return_bert':'EW-S',\n",
        "                               'cum_ELS_return_bert':'EW-LS',\n",
        "                               'cum_VL_return_bert': 'VW-L',\n",
        "                               'cum_VS_return_bert': 'VW-S',\n",
        "                               'cum_VLS_return_bert':'VW-LS'\n",
        "                                }, inplace=True)"
      ]
    },
    {
      "cell_type": "code",
      "execution_count": null,
      "metadata": {
        "id": "0oRMWDtnwEn6"
      },
      "outputs": [],
      "source": [
        "# Reshape the DataFrame from wide to long format\n",
        "bert_long = pd.melt(bert_portfolio_pretrained, id_vars=['date'], value_vars=['Market', 'EW-L', 'EW-S', 'EW-LS', 'VW-L', 'VW-S', 'VW-LS'],\n",
        "                  var_name='strategy', value_name='log_return')\n",
        "\n",
        "# Create the line plot\n",
        "fig = px.line(bert_long, x='date', y='log_return', color='strategy',\n",
        "                  height=800, width=900, title='BERT Portfolio Pre-Trained')\n",
        "\n",
        "# Customize the x-axis to display date labels correctly\n",
        "fig.update_xaxes(title_text='Date', tickformat='%Y',\n",
        "                 title_font=dict(size=18),  # Font size for the x-axis title\n",
        "                 tickfont=dict(size=14))    # Font size for the x-axis ticks\n",
        "\n",
        "\n",
        "# Customize the y-axis\n",
        "fig.update_yaxes(title_text='Cum. Log Return',\n",
        "                 range=[-1.6, 1.5],\n",
        "                 title_font=dict(size=18),  # Font size for the y-axis title\n",
        "                 tickfont=dict(size=14))    # Font size for the y-axis ticks\n",
        "\n",
        "\n",
        "strategy_styles = {\n",
        "    'Market': {'color': 'orange', 'dash': 'dot'},\n",
        "    'EW-L': {'color': 'midnightblue', 'dash': 'solid'},\n",
        "    'EW-S': {'color': 'midnightblue', 'dash': 'longdash'},\n",
        "    'EW-LS': {'color': 'midnightblue', 'dash': 'dashdot'},\n",
        "    'VW-L': {'color': 'skyblue', 'dash': 'solid'},\n",
        "    'VW-S': {'color': 'skyblue', 'dash': 'longdashdot'},\n",
        "    'VW-LS': {'color': 'skyblue', 'dash': 'dashdot'}\n",
        "}\n",
        "\n",
        "# Apply the line styles and colors\n",
        "fig.for_each_trace(lambda trace: trace.update(\n",
        "    line=dict(color=strategy_styles[trace.name]['color'], dash=strategy_styles[trace.name]['dash'])\n",
        ") if trace.name in strategy_styles else ())\n",
        "\n",
        "# Show the plot\n",
        "fig.show()"
      ]
    },
    {
      "cell_type": "markdown",
      "metadata": {
        "id": "uhQ8FskNxxUY"
      },
      "source": [
        "### **BERT Fine-Tuned**"
      ]
    },
    {
      "cell_type": "code",
      "execution_count": null,
      "metadata": {
        "id": "5EjsQu0SxxUY"
      },
      "outputs": [],
      "source": [
        "bert_portfolio_finetuned.rename(columns={'date_bert': 'date',\n",
        "                               'cum_market_return_bert':'Market',\n",
        "                               'cum_EL_return_bert':'EW-L',\n",
        "                               'cum_ES_return_bert':'EW-S',\n",
        "                               'cum_ELS_return_bert':'EW-LS',\n",
        "                               'cum_VL_return_bert': 'VW-L',\n",
        "                               'cum_VS_return_bert': 'VW-S',\n",
        "                               'cum_VLS_return_bert':'VW-LS'\n",
        "                                }, inplace=True)"
      ]
    },
    {
      "cell_type": "code",
      "execution_count": null,
      "metadata": {
        "id": "EpPwLIyHxxUZ"
      },
      "outputs": [],
      "source": [
        "# Reshape the DataFrame from wide to long format\n",
        "bert_long = pd.melt(bert_portfolio_finetuned, id_vars=['date'], value_vars=['Market', 'EW-L', 'EW-S', 'EW-LS', 'VW-L', 'VW-S', 'VW-LS'],\n",
        "                  var_name='strategy', value_name='log_return')\n",
        "\n",
        "# Create the line plot\n",
        "fig = px.line(bert_long, x='date', y='log_return', color='strategy',\n",
        "                  height=800, width=900, title='BERT Portfolio Fine-Tuned')\n",
        "\n",
        "# Customize the x-axis to display date labels correctly\n",
        "fig.update_xaxes(title_text='Date', tickformat='%Y',\n",
        "                 title_font=dict(size=18),  # Font size for the x-axis title\n",
        "                 tickfont=dict(size=14))    # Font size for the x-axis ticks\n",
        "\n",
        "\n",
        "# Customize the y-axis\n",
        "fig.update_yaxes(title_text='Cum. Log Return',\n",
        "                 range=[-1.6, 1.5],\n",
        "                 title_font=dict(size=18),  # Font size for the y-axis title\n",
        "                 tickfont=dict(size=14))    # Font size for the y-axis ticks\n",
        "\n",
        "strategy_styles = {\n",
        "    'Market': {'color': 'orange', 'dash': 'dot'},\n",
        "    'EW-L': {'color': 'midnightblue', 'dash': 'solid'},\n",
        "    'EW-S': {'color': 'midnightblue', 'dash': 'longdash'},\n",
        "    'EW-LS': {'color': 'midnightblue', 'dash': 'dashdot'},\n",
        "    'VW-L': {'color': 'skyblue', 'dash': 'solid'},\n",
        "    'VW-S': {'color': 'skyblue', 'dash': 'longdashdot'},\n",
        "    'VW-LS': {'color': 'skyblue', 'dash': 'dashdot'}\n",
        "}\n",
        "\n",
        "# Apply the line styles and colors\n",
        "fig.for_each_trace(lambda trace: trace.update(\n",
        "    line=dict(color=strategy_styles[trace.name]['color'], dash=strategy_styles[trace.name]['dash'])\n",
        ") if trace.name in strategy_styles else ())\n",
        "\n",
        "# Show the plot\n",
        "fig.show()"
      ]
    },
    {
      "cell_type": "markdown",
      "metadata": {
        "id": "dZYfxALe28IU"
      },
      "source": [
        "### **RoBERTa Pretrained**"
      ]
    },
    {
      "cell_type": "code",
      "execution_count": null,
      "metadata": {
        "id": "B54aFdvH28IU"
      },
      "outputs": [],
      "source": [
        "roberta_portfolio_pretrained.rename(columns={'date_roberta': 'date',\n",
        "                               'cum_market_return_roberta':'Market',\n",
        "                               'cum_EL_return_roberta':'EW-L',\n",
        "                               'cum_ES_return_roberta':'EW-S',\n",
        "                               'cum_ELS_return_roberta':'EW-LS',\n",
        "                               'cum_VL_return_roberta': 'VW-L',\n",
        "                               'cum_VS_return_roberta': 'VW-S',\n",
        "                               'cum_VLS_return_roberta':'VW-LS'\n",
        "                                }, inplace=True)"
      ]
    },
    {
      "cell_type": "code",
      "execution_count": null,
      "metadata": {
        "id": "1e9By6eh28IU"
      },
      "outputs": [],
      "source": [
        "# Reshape the DataFrame from wide to long format\n",
        "roberta_long = pd.melt(roberta_portfolio_pretrained, id_vars=['date'], value_vars=['Market', 'EW-L', 'EW-S', 'EW-LS', 'VW-L', 'VW-S', 'VW-LS'],\n",
        "                  var_name='strategy', value_name='log_return')\n",
        "\n",
        "# Create the line plot\n",
        "fig = px.line(roberta_long, x='date', y='log_return', color='strategy',\n",
        "                  height=800, width=900, title='RoBERTa Portfolio Pre-Trained')\n",
        "\n",
        "# Customize the x-axis to display date labels correctly\n",
        "fig.update_xaxes(title_text='Date', tickformat='%Y',\n",
        "                 title_font=dict(size=18),  # Font size for the x-axis title\n",
        "                 tickfont=dict(size=14))    # Font size for the x-axis ticks\n",
        "\n",
        "# Customize the y-axis\n",
        "fig.update_yaxes(title_text='Cum. Log Return',\n",
        "                 range=[-1.6, 1.5],\n",
        "                 title_font=dict(size=18),  # Font size for the y-axis title\n",
        "                 tickfont=dict(size=14))    # Font size for the y-axis ticks\n",
        "\n",
        "strategy_styles = {\n",
        "    'Market': {'color': 'orange', 'dash': 'dot'},\n",
        "    'EW-L': {'color': 'midnightblue', 'dash': 'solid'},\n",
        "    'EW-S': {'color': 'midnightblue', 'dash': 'longdash'},\n",
        "    'EW-LS': {'color': 'midnightblue', 'dash': 'dashdot'},\n",
        "    'VW-L': {'color': 'skyblue', 'dash': 'solid'},\n",
        "    'VW-S': {'color': 'skyblue', 'dash': 'longdashdot'},\n",
        "    'VW-LS': {'color': 'skyblue', 'dash': 'dashdot'}\n",
        "}\n",
        "\n",
        "# Apply the line styles and colors\n",
        "fig.for_each_trace(lambda trace: trace.update(\n",
        "    line=dict(color=strategy_styles[trace.name]['color'], dash=strategy_styles[trace.name]['dash'])\n",
        ") if trace.name in strategy_styles else ())\n",
        "\n",
        "# Show the plot\n",
        "fig.show()"
      ]
    },
    {
      "cell_type": "markdown",
      "metadata": {
        "id": "1T8RP1a628IU"
      },
      "source": [
        "### **RoBERTa Fine-Tuned**"
      ]
    },
    {
      "cell_type": "code",
      "execution_count": null,
      "metadata": {
        "id": "BesLAsHs28IU"
      },
      "outputs": [],
      "source": [
        "roberta_portfolio_finetuned.rename(columns={'date_roberta': 'date',\n",
        "                               'cum_market_return_roberta':'Market',\n",
        "                               'cum_EL_return_roberta':'EW-L',\n",
        "                               'cum_ES_return_roberta':'EW-S',\n",
        "                               'cum_ELS_return_roberta':'EW-LS',\n",
        "                               'cum_VL_return_roberta': 'VW-L',\n",
        "                               'cum_VS_return_roberta': 'VW-S',\n",
        "                               'cum_VLS_return_roberta':'VW-LS'\n",
        "                                }, inplace=True)"
      ]
    },
    {
      "cell_type": "code",
      "execution_count": null,
      "metadata": {
        "id": "ofFXZfz728IU"
      },
      "outputs": [],
      "source": [
        "# Reshape the DataFrame from wide to long format\n",
        "roberta_long = pd.melt(roberta_portfolio_finetuned, id_vars=['date'], value_vars=['Market', 'EW-L', 'EW-S', 'EW-LS', 'VW-L', 'VW-S', 'VW-LS'],\n",
        "                  var_name='strategy', value_name='log_return')\n",
        "\n",
        "# Create the line plot\n",
        "fig = px.line(roberta_long, x='date', y='log_return', color='strategy',\n",
        "                  height=800, width=900, title='RoBERTa Portfolio Fine-Tuned')\n",
        "\n",
        "# Customize the x-axis to display date labels correctly\n",
        "fig.update_xaxes(title_text='Date', tickformat='%Y',\n",
        "                 title_font=dict(size=18),  # Font size for the x-axis title\n",
        "                 tickfont=dict(size=14))    # Font size for the x-axis ticks\n",
        "\n",
        "# Customize the y-axis\n",
        "fig.update_yaxes(title_text='Cum. Log Return',\n",
        "                 range=[-1.6, 1.5],\n",
        "                 title_font=dict(size=18),  # Font size for the y-axis title\n",
        "                 tickfont=dict(size=14))    # Font size for the y-axis ticks\n",
        "strategy_styles = {\n",
        "    'Market': {'color': 'orange', 'dash': 'dot'},\n",
        "    'EW-L': {'color': 'midnightblue', 'dash': 'solid'},\n",
        "    'EW-S': {'color': 'midnightblue', 'dash': 'longdash'},\n",
        "    'EW-LS': {'color': 'midnightblue', 'dash': 'dashdot'},\n",
        "    'VW-L': {'color': 'skyblue', 'dash': 'solid'},\n",
        "    'VW-S': {'color': 'skyblue', 'dash': 'longdashdot'},\n",
        "    'VW-LS': {'color': 'skyblue', 'dash': 'dashdot'}\n",
        "}\n",
        "\n",
        "# Apply the line styles and colors\n",
        "fig.for_each_trace(lambda trace: trace.update(\n",
        "    line=dict(color=strategy_styles[trace.name]['color'], dash=strategy_styles[trace.name]['dash'])\n",
        ") if trace.name in strategy_styles else ())\n",
        "\n",
        "# Show the plot\n",
        "fig.show()"
      ]
    },
    {
      "cell_type": "markdown",
      "metadata": {
        "id": "ishzxfdn1-_a"
      },
      "source": [
        "### **DistilBERT Pretrained**"
      ]
    },
    {
      "cell_type": "code",
      "execution_count": null,
      "metadata": {
        "id": "somoaxwM17rS"
      },
      "outputs": [],
      "source": [
        "distilbert_portfolio_pretrained.rename(columns={'date_distilbert': 'date',\n",
        "                               'cum_market_return_distilbert':'Market',\n",
        "                               'cum_EL_return_distilbert':'EW-L',\n",
        "                               'cum_ES_return_distilbert':'EW-S',\n",
        "                               'cum_ELS_return_distilbert':'EW-LS',\n",
        "                               'cum_VL_return_distilbert': 'VW-L',\n",
        "                               'cum_VS_return_distilbert': 'VW-S',\n",
        "                               'cum_VLS_return_distilbert':'VW-LS'\n",
        "                                }, inplace=True)"
      ]
    },
    {
      "cell_type": "code",
      "execution_count": null,
      "metadata": {
        "id": "yWAdGEC417rS"
      },
      "outputs": [],
      "source": [
        "# Reshape the DataFrame from wide to long format\n",
        "distilbert_long = pd.melt(distilbert_portfolio_pretrained, id_vars=['date'], value_vars=['Market', 'EW-L', 'EW-S', 'EW-LS', 'VW-L', 'VW-S', 'VW-LS'],\n",
        "                  var_name='strategy', value_name='log_return')\n",
        "\n",
        "# Create the line plot\n",
        "fig = px.line(distilbert_long, x='date', y='log_return', color='strategy',\n",
        "                  height=800, width=900, title='DistilBERT Portfolio Pre-Trained')\n",
        "\n",
        "# Customize the x-axis to display date labels correctly\n",
        "fig.update_xaxes(title_text='Date', tickformat='%Y',\n",
        "                 title_font=dict(size=18),  # Font size for the x-axis title\n",
        "                 tickfont=dict(size=14))    # Font size for the x-axis ticks\n",
        "\n",
        "\n",
        "# Customize the y-axis\n",
        "fig.update_yaxes(title_text='Cum. Log Return',\n",
        "                 range=[-1.6, 1.5],\n",
        "                 title_font=dict(size=18),  # Font size for the y-axis title\n",
        "                 tickfont=dict(size=14))    # Font size for the y-axis ticks\n",
        "\n",
        "strategy_styles = {\n",
        "    'Market': {'color': 'orange', 'dash': 'dot'},\n",
        "    'EW-L': {'color': 'midnightblue', 'dash': 'solid'},\n",
        "    'EW-S': {'color': 'midnightblue', 'dash': 'longdash'},\n",
        "    'EW-LS': {'color': 'midnightblue', 'dash': 'dashdot'},\n",
        "    'VW-L': {'color': 'skyblue', 'dash': 'solid'},\n",
        "    'VW-S': {'color': 'skyblue', 'dash': 'longdashdot'},\n",
        "    'VW-LS': {'color': 'skyblue', 'dash': 'dashdot'}\n",
        "}\n",
        "\n",
        "# Apply the line styles and colors\n",
        "fig.for_each_trace(lambda trace: trace.update(\n",
        "    line=dict(color=strategy_styles[trace.name]['color'], dash=strategy_styles[trace.name]['dash'])\n",
        ") if trace.name in strategy_styles else ())\n",
        "\n",
        "# Show the plot\n",
        "fig.show()"
      ]
    },
    {
      "cell_type": "markdown",
      "metadata": {
        "id": "dBvLQjTy17rT"
      },
      "source": [
        "### **DistilBERT Fine-Tuned**"
      ]
    },
    {
      "cell_type": "code",
      "execution_count": null,
      "metadata": {
        "id": "vz8jnIYZ17rT"
      },
      "outputs": [],
      "source": [
        "distilbert_portfolio_finetuned.rename(columns={'date_distilbert': 'date',\n",
        "                               'cum_market_return_distilbert':'Market',\n",
        "                               'cum_EL_return_distilbert':'EW-L',\n",
        "                               'cum_ES_return_distilbert':'EW-S',\n",
        "                               'cum_ELS_return_distilbert':'EW-LS',\n",
        "                               'cum_VL_return_distilbert': 'VW-L',\n",
        "                               'cum_VS_return_distilbert': 'VW-S',\n",
        "                               'cum_VLS_return_distilbert':'VW-LS'\n",
        "                                }, inplace=True)"
      ]
    },
    {
      "cell_type": "code",
      "execution_count": null,
      "metadata": {
        "id": "CNGCczip17rT"
      },
      "outputs": [],
      "source": [
        "# Reshape the DataFrame from wide to long format\n",
        "distilbert_long = pd.melt(distilbert_portfolio_finetuned, id_vars=['date'], value_vars=['Market', 'EW-L', 'EW-S', 'EW-LS', 'VW-L', 'VW-S', 'VW-LS'],\n",
        "                  var_name='strategy', value_name='log_return')\n",
        "\n",
        "# Create the line plot\n",
        "fig = px.line(distilbert_long, x='date', y='log_return', color='strategy',\n",
        "                  height=800, width=900, title='DistilBERT Portfolio Fine-Tuned')\n",
        "\n",
        "# Customize the x-axis to display date labels correctly\n",
        "fig.update_xaxes(title_text='Date', tickformat='%Y',\n",
        "                 title_font=dict(size=18),  # Font size for the x-axis title\n",
        "                 tickfont=dict(size=14))    # Font size for the x-axis ticks\n",
        "\n",
        "# Customize the y-axis\n",
        "fig.update_yaxes(title_text='Cum. Log Return',\n",
        "                 range=[-1.6, 1.5],\n",
        "                 title_font=dict(size=18),  # Font size for the y-axis title\n",
        "                 tickfont=dict(size=14))    # Font size for the y-axis ticks\n",
        "\n",
        "strategy_styles = {\n",
        "    'Market': {'color': 'orange', 'dash': 'dot'},\n",
        "    'EW-L': {'color': 'midnightblue', 'dash': 'solid'},\n",
        "    'EW-S': {'color': 'midnightblue', 'dash': 'longdash'},\n",
        "    'EW-LS': {'color': 'midnightblue', 'dash': 'dashdot'},\n",
        "    'VW-L': {'color': 'skyblue', 'dash': 'solid'},\n",
        "    'VW-S': {'color': 'skyblue', 'dash': 'longdashdot'},\n",
        "    'VW-LS': {'color': 'skyblue', 'dash': 'dashdot'}\n",
        "}\n",
        "\n",
        "# Apply the line styles and colors\n",
        "fig.for_each_trace(lambda trace: trace.update(\n",
        "    line=dict(color=strategy_styles[trace.name]['color'], dash=strategy_styles[trace.name]['dash'])\n",
        ") if trace.name in strategy_styles else ())\n",
        "\n",
        "# Show the plot\n",
        "fig.show()"
      ]
    },
    {
      "cell_type": "markdown",
      "metadata": {
        "id": "s9dkqeZuEQDY"
      },
      "source": [
        "### **DistilRoBERTa Pretrained**"
      ]
    },
    {
      "cell_type": "code",
      "execution_count": null,
      "metadata": {
        "id": "7w6E92vOEQDe"
      },
      "outputs": [],
      "source": [
        "distilroberta_portfolio_pretrained.rename(columns={'date_distilroberta': 'date',\n",
        "                               'cum_market_return_distilroberta':'Market',\n",
        "                               'cum_EL_return_distilroberta':'EW-L',\n",
        "                               'cum_ES_return_distilroberta':'EW-S',\n",
        "                               'cum_ELS_return_distilroberta':'EW-LS',\n",
        "                               'cum_VL_return_distilroberta': 'VW-L',\n",
        "                               'cum_VS_return_distilroberta': 'VW-S',\n",
        "                               'cum_VLS_return_distilroberta':'VW-LS'\n",
        "                                }, inplace=True)"
      ]
    },
    {
      "cell_type": "code",
      "execution_count": null,
      "metadata": {
        "id": "unllytnwEQDe"
      },
      "outputs": [],
      "source": [
        "# Reshape the DataFrame from wide to long format\n",
        "distilroberta_long = pd.melt(distilroberta_portfolio_pretrained, id_vars=['date'], value_vars=['Market', 'EW-L', 'EW-S', 'EW-LS', 'VW-L', 'VW-S', 'VW-LS'],\n",
        "                  var_name='strategy', value_name='log_return')\n",
        "\n",
        "# Create the line plot\n",
        "fig = px.line(distilroberta_long, x='date', y='log_return', color='strategy',\n",
        "                  height=800, width=900, title='DistilRoBERTa Portfolio Pre-Trained')\n",
        "\n",
        "# Customize the x-axis to display date labels correctly\n",
        "fig.update_xaxes(title_text='Date', tickformat='%Y',\n",
        "                 title_font=dict(size=18),  # Font size for the x-axis title\n",
        "                 tickfont=dict(size=14))    # Font size for the x-axis ticks\n",
        "\n",
        "\n",
        "# Customize the y-axis\n",
        "fig.update_yaxes(title_text='Cum. Log Return',\n",
        "                 range=[-1.6, 1.5],\n",
        "                 title_font=dict(size=18),  # Font size for the y-axis title\n",
        "                 tickfont=dict(size=14))    # Font size for the y-axis ticks\n",
        "\n",
        "strategy_styles = {\n",
        "    'Market': {'color': 'orange', 'dash': 'dot'},\n",
        "    'EW-L': {'color': 'midnightblue', 'dash': 'solid'},\n",
        "    'EW-S': {'color': 'midnightblue', 'dash': 'longdash'},\n",
        "    'EW-LS': {'color': 'midnightblue', 'dash': 'dashdot'},\n",
        "    'VW-L': {'color': 'skyblue', 'dash': 'solid'},\n",
        "    'VW-S': {'color': 'skyblue', 'dash': 'longdashdot'},\n",
        "    'VW-LS': {'color': 'skyblue', 'dash': 'dashdot'}\n",
        "}\n",
        "\n",
        "# Apply the line styles and colors\n",
        "fig.for_each_trace(lambda trace: trace.update(\n",
        "    line=dict(color=strategy_styles[trace.name]['color'], dash=strategy_styles[trace.name]['dash'])\n",
        ") if trace.name in strategy_styles else ())\n",
        "\n",
        "# Show the plot\n",
        "fig.show()"
      ]
    },
    {
      "cell_type": "markdown",
      "metadata": {
        "id": "YwY-dBiAEQDe"
      },
      "source": [
        "### **DistilRoBERTa Fine-Tuned**"
      ]
    },
    {
      "cell_type": "code",
      "execution_count": null,
      "metadata": {
        "id": "PXIQu3i7EQDe"
      },
      "outputs": [],
      "source": [
        "distilroberta_portfolio_finetuned.rename(columns={'date_distilroberta': 'date',\n",
        "                               'cum_market_return_distilroberta':'Market',\n",
        "                               'cum_EL_return_distilroberta':'EW-L',\n",
        "                               'cum_ES_return_distilroberta':'EW-S',\n",
        "                               'cum_ELS_return_distilroberta':'EW-LS',\n",
        "                               'cum_VL_return_distilroberta': 'VW-L',\n",
        "                               'cum_VS_return_distilroberta': 'VW-S',\n",
        "                               'cum_VLS_return_distilroberta':'VW-LS'\n",
        "                                }, inplace=True)"
      ]
    },
    {
      "cell_type": "code",
      "execution_count": null,
      "metadata": {
        "id": "xOVhirfrEQDe"
      },
      "outputs": [],
      "source": [
        "# Reshape the DataFrame from wide to long format\n",
        "distilroberta_long = pd.melt(distilroberta_portfolio_finetuned, id_vars=['date'], value_vars=['Market', 'EW-L', 'EW-S', 'EW-LS', 'VW-L', 'VW-S', 'VW-LS'],\n",
        "                  var_name='strategy', value_name='log_return')\n",
        "\n",
        "# Create the line plot\n",
        "fig = px.line(distilroberta_long, x='date', y='log_return', color='strategy',\n",
        "                  height=800, width=900, title='DistilRoBERTa Portfolio Fine-Tuned')\n",
        "\n",
        "# Customize the x-axis to display date labels correctly\n",
        "fig.update_xaxes(title_text='Date', tickformat='%Y',\n",
        "                 title_font=dict(size=18),  # Font size for the x-axis title\n",
        "                 tickfont=dict(size=14))    # Font size for the x-axis ticks\n",
        "\n",
        "# Customize the y-axis\n",
        "fig.update_yaxes(title_text='Cum. Log Return',\n",
        "                 range=[-1.6, 1.5],\n",
        "                 title_font=dict(size=18),  # Font size for the y-axis title\n",
        "                 tickfont=dict(size=14))    # Font size for the y-axis ticks\n",
        "\n",
        "strategy_styles = {\n",
        "    'Market': {'color': 'orange', 'dash': 'dot'},\n",
        "    'EW-L': {'color': 'midnightblue', 'dash': 'solid'},\n",
        "    'EW-S': {'color': 'midnightblue', 'dash': 'longdash'},\n",
        "    'EW-LS': {'color': 'midnightblue', 'dash': 'dashdot'},\n",
        "    'VW-L': {'color': 'skyblue', 'dash': 'solid'},\n",
        "    'VW-S': {'color': 'skyblue', 'dash': 'longdashdot'},\n",
        "    'VW-LS': {'color': 'skyblue', 'dash': 'dashdot'}\n",
        "}\n",
        "\n",
        "# Apply the line styles and colors\n",
        "fig.for_each_trace(lambda trace: trace.update(\n",
        "    line=dict(color=strategy_styles[trace.name]['color'], dash=strategy_styles[trace.name]['dash'])\n",
        ") if trace.name in strategy_styles else ())\n",
        "\n",
        "# Show the plot\n",
        "fig.show()"
      ]
    },
    {
      "cell_type": "markdown",
      "metadata": {
        "id": "Ud8iobgB0xta"
      },
      "source": [
        "### **FinBERT Pre-Trained**"
      ]
    },
    {
      "cell_type": "code",
      "execution_count": null,
      "metadata": {
        "id": "yU7dp2AH0xta"
      },
      "outputs": [],
      "source": [
        "finbert_portfolio_pretrained.rename(columns={'date_finbert': 'date',\n",
        "                               'cum_market_return_finbert':'Market',\n",
        "                               'cum_EL_return_finbert':'EW-L',\n",
        "                               'cum_ES_return_finbert':'EW-S',\n",
        "                               'cum_ELS_return_finbert':'EW-LS',\n",
        "                               'cum_VL_return_finbert': 'VW-L',\n",
        "                               'cum_VS_return_finbert': 'VW-S',\n",
        "                               'cum_VLS_return_finbert':'VW-LS'\n",
        "                                }, inplace=True)"
      ]
    },
    {
      "cell_type": "code",
      "execution_count": null,
      "metadata": {
        "id": "fuy3v7080xta"
      },
      "outputs": [],
      "source": [
        "# Reshape the DataFrame from wide to long format\n",
        "finbert_long = pd.melt(finbert_portfolio_pretrained, id_vars=['date'], value_vars=['Market', 'EW-L', 'EW-S', 'EW-LS', 'VW-L', 'VW-S', 'VW-LS'],\n",
        "                  var_name='strategy', value_name='log_return')\n",
        "\n",
        "# Create the line plot\n",
        "fig = px.line(finbert_long, x='date', y='log_return', color='strategy',\n",
        "                  height=800, width=900, title='FinBERT Portfolio Pre-Trained')\n",
        "\n",
        "# Customize the x-axis to display date labels correctly\n",
        "fig.update_xaxes(title_text='Date', tickformat='%Y',\n",
        "                 title_font=dict(size=18),  # Font size for the x-axis title\n",
        "                 tickfont=dict(size=14))    # Font size for the x-axis ticks\n",
        "\n",
        "\n",
        "# Customize the y-axis\n",
        "fig.update_yaxes(title_text='Cum. Log Return',\n",
        "                 range=[-1.6, 1.5],\n",
        "                 title_font=dict(size=18),  # Font size for the y-axis title\n",
        "                 tickfont=dict(size=14))    # Font size for the y-axis ticks\n",
        "\n",
        "strategy_styles = {\n",
        "    'Market': {'color': 'orange', 'dash': 'dot'},\n",
        "    'EW-L': {'color': 'midnightblue', 'dash': 'solid'},\n",
        "    'EW-S': {'color': 'midnightblue', 'dash': 'longdash'},\n",
        "    'EW-LS': {'color': 'midnightblue', 'dash': 'dashdot'},\n",
        "    'VW-L': {'color': 'skyblue', 'dash': 'solid'},\n",
        "    'VW-S': {'color': 'skyblue', 'dash': 'longdashdot'},\n",
        "    'VW-LS': {'color': 'skyblue', 'dash': 'dashdot'}\n",
        "}\n",
        "\n",
        "# Apply the line styles and colors\n",
        "fig.for_each_trace(lambda trace: trace.update(\n",
        "    line=dict(color=strategy_styles[trace.name]['color'], dash=strategy_styles[trace.name]['dash'])\n",
        ") if trace.name in strategy_styles else ())\n",
        "\n",
        "# Show the plot\n",
        "fig.show()"
      ]
    },
    {
      "cell_type": "markdown",
      "metadata": {
        "id": "Vc53EGyi0xtb"
      },
      "source": [
        "### **FinBERT Fine-Tuned**"
      ]
    },
    {
      "cell_type": "code",
      "execution_count": null,
      "metadata": {
        "id": "cn2psfbq0xtb"
      },
      "outputs": [],
      "source": [
        "finbert_portfolio_finetuned.rename(columns={'date_finbert': 'date',\n",
        "                               'cum_market_return_finbert':'Market',\n",
        "                               'cum_EL_return_finbert':'EW-L',\n",
        "                               'cum_ES_return_finbert':'EW-S',\n",
        "                               'cum_ELS_return_finbert':'EW-LS',\n",
        "                               'cum_VL_return_finbert': 'VW-L',\n",
        "                               'cum_VS_return_finbert': 'VW-S',\n",
        "                               'cum_VLS_return_finbert':'VW-LS'\n",
        "                                }, inplace=True)"
      ]
    },
    {
      "cell_type": "code",
      "execution_count": null,
      "metadata": {
        "id": "8mcobTPb0xtb"
      },
      "outputs": [],
      "source": [
        "# Reshape the DataFrame from wide to long format\n",
        "finbert_long = pd.melt(finbert_portfolio_finetuned, id_vars=['date'], value_vars=['Market', 'EW-L', 'EW-S', 'EW-LS', 'VW-L', 'VW-S', 'VW-LS'],\n",
        "                  var_name='strategy', value_name='log_return')\n",
        "\n",
        "# Create the line plot\n",
        "fig = px.line(finbert_long, x='date', y='log_return', color='strategy',\n",
        "                  height=800, width=900, title='FinBERT Portfolio Fine-Tuned')\n",
        "\n",
        "# Customize the x-axis to display date labels correctly\n",
        "fig.update_xaxes(title_text='Date', tickformat='%Y',\n",
        "                 title_font=dict(size=18),  # Font size for the x-axis title\n",
        "                 tickfont=dict(size=14))    # Font size for the x-axis ticks\n",
        "\n",
        "\n",
        "# Customize the y-axis\n",
        "fig.update_yaxes(title_text='Cum. Log Return',\n",
        "                 range=[-1.6, 1.5],\n",
        "                 title_font=dict(size=18),  # Font size for the y-axis title\n",
        "                 tickfont=dict(size=14))    # Font size for the y-axis ticks\n",
        "\n",
        "strategy_styles = {\n",
        "    'Market': {'color': 'orange', 'dash': 'dot'},\n",
        "    'EW-L': {'color': 'midnightblue', 'dash': 'solid'},\n",
        "    'EW-S': {'color': 'midnightblue', 'dash': 'longdash'},\n",
        "    'EW-LS': {'color': 'midnightblue', 'dash': 'dashdot'},\n",
        "    'VW-L': {'color': 'skyblue', 'dash': 'solid'},\n",
        "    'VW-S': {'color': 'skyblue', 'dash': 'longdashdot'},\n",
        "    'VW-LS': {'color': 'skyblue', 'dash': 'dashdot'}\n",
        "}\n",
        "\n",
        "# Apply the line styles and colors\n",
        "fig.for_each_trace(lambda trace: trace.update(\n",
        "    line=dict(color=strategy_styles[trace.name]['color'], dash=strategy_styles[trace.name]['dash'])\n",
        ") if trace.name in strategy_styles else ())\n",
        "\n",
        "# Show the plot\n",
        "fig.show()"
      ]
    },
    {
      "cell_type": "markdown",
      "metadata": {
        "id": "k6gdndJ8y3xU"
      },
      "source": [
        "# **PORTFOLIO ANALYSIS WITH TRANSACTION COST**"
      ]
    },
    {
      "cell_type": "markdown",
      "metadata": {
        "id": "zHQN0dqEy3xV"
      },
      "source": [
        "## **Pre-Trained**"
      ]
    },
    {
      "cell_type": "code",
      "execution_count": null,
      "metadata": {
        "id": "XVHWc2t2y3xV"
      },
      "outputs": [],
      "source": [
        "# load data\n",
        "bert_portfolio_pretrained = pd.read_csv('/content/drive/MyDrive/PostGrad/5. Extended Research Projects/Results/Portfolio Analysis - Pre Trained/bert_portfolio_pretrained_transcost.csv')\n",
        "roberta_portfolio_pretrained = pd.read_csv('/content/drive/MyDrive/PostGrad/5. Extended Research Projects/Results/Portfolio Analysis - Pre Trained/roberta_portfolio_pretrained_transcost.csv')\n",
        "distilbert_portfolio_pretrained = pd.read_csv('/content/drive/MyDrive/PostGrad/5. Extended Research Projects/Results/Portfolio Analysis - Pre Trained/distilbert_portfolio_pretrained_transcost.csv')\n",
        "distilroberta_portfolio_pretrained = pd.read_csv('/content/drive/MyDrive/PostGrad/5. Extended Research Projects/Results/Portfolio Analysis - Pre Trained/distilroberta_portfolio_pretrained_transcost.csv')\n",
        "finbert_portfolio_pretrained = pd.read_csv('/content/drive/MyDrive/PostGrad/5. Extended Research Projects/Results/Portfolio Analysis - Pre Trained/finbert_portfolio_pretrained_transcost.csv')"
      ]
    },
    {
      "cell_type": "code",
      "execution_count": null,
      "metadata": {
        "id": "9iPcYjHFy3xV"
      },
      "outputs": [],
      "source": [
        "bert_portfolio_pretrained['date'] = pd.to_datetime(bert_portfolio_pretrained['date'])\n",
        "roberta_portfolio_pretrained['date'] = pd.to_datetime(roberta_portfolio_pretrained['date'])\n",
        "distilbert_portfolio_pretrained['date'] = pd.to_datetime(distilbert_portfolio_pretrained['date'])\n",
        "distilroberta_portfolio_pretrained['date'] = pd.to_datetime(distilroberta_portfolio_pretrained['date'])\n",
        "finbert_portfolio_pretrained['date'] = pd.to_datetime(finbert_portfolio_pretrained['date'])"
      ]
    },
    {
      "cell_type": "code",
      "execution_count": null,
      "metadata": {
        "id": "SytAdcvUy3xV"
      },
      "outputs": [],
      "source": [
        "# add suffix to column name\n",
        "bert_portfolio_pretrained = bert_portfolio_pretrained.add_suffix('_bert')\n",
        "roberta_portfolio_pretrained = roberta_portfolio_pretrained.add_suffix('_roberta')\n",
        "distilbert_portfolio_pretrained = distilbert_portfolio_pretrained.add_suffix('_distilbert')\n",
        "distilroberta_portfolio_pretrained = distilroberta_portfolio_pretrained.add_suffix('_distilroberta')\n",
        "finbert_portfolio_pretrained = finbert_portfolio_pretrained.add_suffix('_finbert')"
      ]
    },
    {
      "cell_type": "markdown",
      "metadata": {
        "id": "xVGSs5P0y3xV"
      },
      "source": [
        "### **EW L-S**"
      ]
    },
    {
      "cell_type": "code",
      "execution_count": null,
      "metadata": {
        "id": "H4ZZppoZy3xV"
      },
      "outputs": [],
      "source": [
        "ew_ls = pd.concat([bert_portfolio_pretrained[['date_bert', 'cum_market_return_bert','cum_ELS_return_bert']],\n",
        "                   roberta_portfolio_pretrained['cum_ELS_return_roberta'],\n",
        "                   distilbert_portfolio_pretrained['cum_ELS_return_distilbert'],\n",
        "                   distilroberta_portfolio_pretrained['cum_ELS_return_distilroberta'],\n",
        "                   finbert_portfolio_pretrained['cum_ELS_return_finbert']], axis=1)"
      ]
    },
    {
      "cell_type": "code",
      "execution_count": null,
      "metadata": {
        "id": "yc4fsNc7y3xV"
      },
      "outputs": [],
      "source": [
        "ew_ls.rename(columns={'date_bert': 'date',\n",
        "                      'cum_ELS_return_bert': 'BERT',\n",
        "                      'cum_ELS_return_distilbert':'DistilBERT',\n",
        "                      'cum_ELS_return_distilroberta':'DistilRoBERTa',\n",
        "                      'cum_ELS_return_finbert':'FinBERT',\n",
        "                      'cum_ELS_return_roberta':'RoBERTa',\n",
        "                      'cum_market_return_bert':'Market'}, inplace=True)"
      ]
    },
    {
      "cell_type": "code",
      "execution_count": null,
      "metadata": {
        "id": "ugay3tlHy3xV"
      },
      "outputs": [],
      "source": [
        "# Reshape the DataFrame from wide to long format\n",
        "df_long = pd.melt(ew_ls, id_vars=['date'], value_vars=['BERT', 'DistilBERT', 'DistilRoBERTa', 'FinBERT', 'RoBERTa', 'Market'],\n",
        "                  var_name='model', value_name='log_return')\n",
        "\n",
        "# Create the line plot\n",
        "fig = px.line(df_long,\n",
        "              x='date',\n",
        "              y='log_return',\n",
        "              color='model',\n",
        "              title='Equal Weighted Long-Short Strategy',\n",
        "              height=800,\n",
        "              width=900)\n",
        "\n",
        "# Customize the x-axis to display date labels correctly\n",
        "fig.update_xaxes(title_text='Date', tickformat='%Y',\n",
        "                 title_font=dict(size=18),  # Font size for the x-axis title\n",
        "                 tickfont=dict(size=14))    # Font size for the x-axis ticks\n",
        "\n",
        "# Customize the y-axis\n",
        "fig.update_yaxes(title_text='Cum. Log Return',\n",
        "                 range=[-2, 1.2])\n",
        "\n",
        "# Set different line styles for different models\n",
        "line_styles = {\n",
        "    'BERT': 'solid',\n",
        "    'DistilBERT': 'solid',\n",
        "    'DistilRoBERTa': 'solid',\n",
        "    'FinBERT': 'solid',\n",
        "    'RoBERTa': 'solid',\n",
        "    'Market': 'dot'\n",
        "}\n",
        "\n",
        "# Apply the line styles and set 'Market' color to black\n",
        "fig.for_each_trace(lambda trace: trace.update(\n",
        "    line=dict(dash=line_styles[trace.name], color='black' if trace.name == 'Market' else trace.line.color)\n",
        ") if trace.name in line_styles else ())\n",
        "\n",
        "# Show the plot\n",
        "fig.show()"
      ]
    },
    {
      "cell_type": "markdown",
      "metadata": {
        "id": "LSyPEBfVy3xW"
      },
      "source": [
        "### **VW L-S**"
      ]
    },
    {
      "cell_type": "code",
      "execution_count": null,
      "metadata": {
        "id": "xjSLFMX9y3xW"
      },
      "outputs": [],
      "source": [
        "vw_ls = pd.concat([bert_portfolio_pretrained[['date_bert', 'cum_market_return_bert','cum_VLS_return_bert']],\n",
        "                   roberta_portfolio_pretrained['cum_VLS_return_roberta'],\n",
        "                   distilbert_portfolio_pretrained['cum_VLS_return_distilbert'],\n",
        "                   distilroberta_portfolio_pretrained['cum_VLS_return_distilroberta'],\n",
        "                   finbert_portfolio_pretrained['cum_VLS_return_finbert']], axis=1)"
      ]
    },
    {
      "cell_type": "code",
      "execution_count": null,
      "metadata": {
        "id": "5zogZO5vy3xW"
      },
      "outputs": [],
      "source": [
        "vw_ls.rename(columns={'date_bert': 'date',\n",
        "                      'cum_market_return_bert':'Market',\n",
        "                      'cum_VLS_return_bert': 'BERT',\n",
        "                      'cum_VLS_return_roberta':'RoBERTa',\n",
        "                      'cum_VLS_return_distilbert':'DistilBERT',\n",
        "                      'cum_VLS_return_distilroberta':'DistilRoBERTa',\n",
        "                      'cum_VLS_return_finbert':'FinBERT'}, inplace=True)"
      ]
    },
    {
      "cell_type": "code",
      "execution_count": null,
      "metadata": {
        "id": "GYybciuEy3xW"
      },
      "outputs": [],
      "source": [
        "# Reshape the DataFrame from wide to long format\n",
        "df_long = pd.melt(vw_ls, id_vars=['date'], value_vars=['BERT', 'DistilBERT', 'DistilRoBERTa', 'FinBERT', 'RoBERTa', 'Market', ],\n",
        "                  var_name='model', value_name='log_return')\n",
        "\n",
        "# Create the line plot\n",
        "fig = px.line(df_long,\n",
        "              x='date',\n",
        "              y='log_return',\n",
        "              color='model',\n",
        "              title='Value Weighted Long Strategy',\n",
        "              height=800,\n",
        "              width=900)\n",
        "\n",
        "# Customize the x-axis to display date labels correctly\n",
        "fig.update_xaxes(title_text='Date', tickformat='%Y',\n",
        "                 title_font=dict(size=18),  # Font size for the x-axis title\n",
        "                 tickfont=dict(size=14))    # Font size for the x-axis ticks\n",
        "\n",
        "# Customize the y-axis\n",
        "fig.update_yaxes(title_text='Cum. Log Return',\n",
        "                 range=[-2, 1])\n",
        "\n",
        "# Set different line styles for different models\n",
        "line_styles = {\n",
        "    'BERT': 'solid',\n",
        "    'DistilBERT': 'solid',\n",
        "    'DistilRoBERTa': 'solid',\n",
        "    'FinBERT': 'solid',\n",
        "    'RoBERTa': 'solid',\n",
        "    'Market': 'dot'\n",
        "}\n",
        "\n",
        "# Apply the line styles and set 'Market' color to black\n",
        "fig.for_each_trace(lambda trace: trace.update(\n",
        "    line=dict(dash=line_styles[trace.name], color='black' if trace.name == 'Market' else trace.line.color)\n",
        ") if trace.name in line_styles else ())\n",
        "\n",
        "# Show the plot\n",
        "fig.show()"
      ]
    },
    {
      "cell_type": "markdown",
      "metadata": {
        "id": "gJ9oCyEay3xW"
      },
      "source": [
        "### **EW L**"
      ]
    },
    {
      "cell_type": "code",
      "execution_count": null,
      "metadata": {
        "id": "n1k7OF1Ly3xW"
      },
      "outputs": [],
      "source": [
        "ew_l = pd.concat([bert_portfolio_pretrained[['date_bert', 'cum_market_return_bert','cum_EL_return_bert']],\n",
        "                   roberta_portfolio_pretrained['cum_EL_return_roberta'],\n",
        "                   distilbert_portfolio_pretrained['cum_EL_return_distilbert'],\n",
        "                   distilroberta_portfolio_pretrained['cum_EL_return_distilroberta'],\n",
        "                   finbert_portfolio_pretrained['cum_EL_return_finbert']], axis=1)"
      ]
    },
    {
      "cell_type": "code",
      "execution_count": null,
      "metadata": {
        "id": "nC2u7a4yy3xW"
      },
      "outputs": [],
      "source": [
        "ew_l.rename(columns={'date_bert': 'date',\n",
        "                      'cum_EL_return_bert': 'BERT',\n",
        "                      'cum_EL_return_distilbert':'DistilBERT',\n",
        "                      'cum_EL_return_distilroberta':'DistilRoBERTa',\n",
        "                      'cum_EL_return_finbert':'FinBERT',\n",
        "                      'cum_EL_return_roberta':'RoBERTa',\n",
        "                      'cum_market_return_bert':'Market'}, inplace=True)"
      ]
    },
    {
      "cell_type": "code",
      "execution_count": null,
      "metadata": {
        "id": "6m6sIkxby3xW"
      },
      "outputs": [],
      "source": [
        "# Reshape the DataFrame from wide to long format\n",
        "df_long = pd.melt(ew_l, id_vars=['date'], value_vars=['BERT', 'DistilBERT', 'DistilRoBERTa', 'FinBERT', 'RoBERTa', 'Market'],\n",
        "                  var_name='model', value_name='log_return')\n",
        "\n",
        "# Create the line plot\n",
        "fig = px.line(df_long,\n",
        "              x='date',\n",
        "              y='log_return',\n",
        "              color='model',\n",
        "              title='Equal Weighted Long Strategy',\n",
        "              height=800,\n",
        "              width=900)\n",
        "\n",
        "# Customize the x-axis to display date labels correctly\n",
        "fig.update_xaxes(title_text='Date', tickformat='%Y',\n",
        "                 title_font=dict(size=18),  # Font size for the x-axis title\n",
        "                 tickfont=dict(size=14))    # Font size for the x-axis ticks\n",
        "\n",
        "# Customize the y-axis\n",
        "fig.update_yaxes(title_text='Cum. Log Return',\n",
        "                 range=[-.5, 1.5])\n",
        "\n",
        "# Set different line styles for different models\n",
        "line_styles = {\n",
        "    'BERT': 'solid',\n",
        "    'DistilBERT': 'solid',\n",
        "    'DistilRoBERTa': 'solid',\n",
        "    'FinBERT': 'solid',\n",
        "    'RoBERTa': 'solid',\n",
        "    'Market': 'dot'\n",
        "}\n",
        "\n",
        "# Apply the line styles and set 'Market' color to black\n",
        "fig.for_each_trace(lambda trace: trace.update(\n",
        "    line=dict(dash=line_styles[trace.name], color='black' if trace.name == 'Market' else trace.line.color)\n",
        ") if trace.name in line_styles else ())\n",
        "\n",
        "# Show the plot\n",
        "fig.show()"
      ]
    },
    {
      "cell_type": "markdown",
      "metadata": {
        "id": "8a2jlLKUy3xW"
      },
      "source": [
        "### **VW L**"
      ]
    },
    {
      "cell_type": "code",
      "execution_count": null,
      "metadata": {
        "id": "IJlFbEg2y3xW"
      },
      "outputs": [],
      "source": [
        "vw_l = pd.concat([bert_portfolio_pretrained[['date_bert', 'cum_market_return_bert','cum_VL_return_bert']],\n",
        "                   roberta_portfolio_pretrained['cum_VL_return_roberta'],\n",
        "                   distilbert_portfolio_pretrained['cum_VL_return_distilbert'],\n",
        "                   distilroberta_portfolio_pretrained['cum_VL_return_distilroberta'],\n",
        "                   finbert_portfolio_pretrained['cum_VL_return_finbert']], axis=1)"
      ]
    },
    {
      "cell_type": "code",
      "execution_count": null,
      "metadata": {
        "id": "GYCkcq0oy3xW"
      },
      "outputs": [],
      "source": [
        "vw_l.rename(columns={'date_bert': 'date',\n",
        "                      'cum_market_return_bert':'Market',\n",
        "                      'cum_VL_return_bert': 'BERT',\n",
        "                      'cum_VL_return_roberta':'RoBERTa',\n",
        "                      'cum_VL_return_distilbert':'DistilBERT',\n",
        "                      'cum_VL_return_distilroberta':'DistilRoBERTa',\n",
        "                      'cum_VL_return_finbert':'FinBERT'}, inplace=True)"
      ]
    },
    {
      "cell_type": "code",
      "execution_count": null,
      "metadata": {
        "id": "ecjVKDnNy3xW"
      },
      "outputs": [],
      "source": [
        "# Reshape the DataFrame from wide to long format\n",
        "df_long = pd.melt(vw_l, id_vars=['date'], value_vars=['BERT', 'DistilBERT', 'DistilRoBERTa', 'FinBERT', 'RoBERTa', 'Market', ],\n",
        "                  var_name='model', value_name='log_return')\n",
        "\n",
        "# Create the line plot\n",
        "fig = px.line(df_long,\n",
        "              x='date',\n",
        "              y='log_return',\n",
        "              color='model',\n",
        "              title='Value Weighted Long Strategy',\n",
        "              height=800,\n",
        "              width=900)\n",
        "\n",
        "# Customize the x-axis to display date labels correctly\n",
        "fig.update_xaxes(title_text='Date', tickformat='%Y',\n",
        "                 title_font=dict(size=18),  # Font size for the x-axis title\n",
        "                 tickfont=dict(size=14))    # Font size for the x-axis ticks\n",
        "\n",
        "# Customize the y-axis\n",
        "fig.update_yaxes(title_text='Cum. Log Return',\n",
        "                 range=[-.5, 1.5])\n",
        "\n",
        "# Set different line styles for different models\n",
        "line_styles = {\n",
        "    'BERT': 'solid',\n",
        "    'DistilBERT': 'solid',\n",
        "    'DistilRoBERTa': 'solid',\n",
        "    'FinBERT': 'solid',\n",
        "    'RoBERTa': 'solid',\n",
        "    'Market': 'dot'\n",
        "}\n",
        "\n",
        "# Apply the line styles and set 'Market' color to black\n",
        "fig.for_each_trace(lambda trace: trace.update(\n",
        "    line=dict(dash=line_styles[trace.name], color='black' if trace.name == 'Market' else trace.line.color)\n",
        ") if trace.name in line_styles else ())\n",
        "\n",
        "# Show the plot\n",
        "fig.show()"
      ]
    },
    {
      "cell_type": "markdown",
      "metadata": {
        "id": "jxbsGisay3xW"
      },
      "source": [
        "### **EW S**"
      ]
    },
    {
      "cell_type": "code",
      "execution_count": null,
      "metadata": {
        "id": "Xby4GsXMy3xW"
      },
      "outputs": [],
      "source": [
        "ew_s = pd.concat([bert_portfolio_pretrained[['date_bert', 'cum_market_return_bert','cum_ES_return_bert']],\n",
        "                   roberta_portfolio_pretrained['cum_ES_return_roberta'],\n",
        "                   distilbert_portfolio_pretrained['cum_ES_return_distilbert'],\n",
        "                   distilroberta_portfolio_pretrained['cum_ES_return_distilroberta'],\n",
        "                   finbert_portfolio_pretrained['cum_ES_return_finbert']], axis=1)"
      ]
    },
    {
      "cell_type": "code",
      "execution_count": null,
      "metadata": {
        "id": "z9UWqXdry3xW"
      },
      "outputs": [],
      "source": [
        "ew_s.rename(columns={'date_bert': 'date',\n",
        "                      'cum_ES_return_bert': 'BERT',\n",
        "                      'cum_ES_return_distilbert':'DistilBERT',\n",
        "                      'cum_ES_return_distilroberta':'DistilRoBERTa',\n",
        "                      'cum_ES_return_finbert':'FinBERT',\n",
        "                      'cum_ES_return_roberta':'RoBERTa',\n",
        "                      'cum_market_return_bert':'Market'}, inplace=True)"
      ]
    },
    {
      "cell_type": "code",
      "execution_count": null,
      "metadata": {
        "id": "DIMxqW8iy3xW"
      },
      "outputs": [],
      "source": [
        "# Reshape the DataFrame from wide to long format\n",
        "df_long = pd.melt(ew_s, id_vars=['date'], value_vars=['BERT', 'DistilBERT', 'DistilRoBERTa', 'FinBERT', 'RoBERTa', 'Market'],\n",
        "                  var_name='model', value_name='log_return')\n",
        "\n",
        "# Create the line plot\n",
        "fig = px.line(df_long,\n",
        "              x='date',\n",
        "              y='log_return',\n",
        "              color='model',\n",
        "              title='Equal Weighted Short Strategy',\n",
        "              height=800,\n",
        "              width=900)\n",
        "\n",
        "# Customize the x-axis to display date labels correctly\n",
        "fig.update_xaxes(title_text='Date', tickformat='%Y',\n",
        "                 title_font=dict(size=18),  # Font size for the x-axis title\n",
        "                 tickfont=dict(size=14))    # Font size for the x-axis ticks\n",
        "\n",
        "# Customize the y-axis\n",
        "fig.update_yaxes(title_text='Cum. Log Return',\n",
        "                 range=[-2, 1])\n",
        "\n",
        "# Set different line styles for different models\n",
        "line_styles = {\n",
        "    'BERT': 'solid',\n",
        "    'DistilBERT': 'solid',\n",
        "    'DistilRoBERTa': 'solid',\n",
        "    'FinBERT': 'solid',\n",
        "    'RoBERTa': 'solid',\n",
        "    'Market': 'dot'\n",
        "}\n",
        "\n",
        "# Apply the line styles and set 'Market' color to black\n",
        "fig.for_each_trace(lambda trace: trace.update(\n",
        "    line=dict(dash=line_styles[trace.name], color='black' if trace.name == 'Market' else trace.line.color)\n",
        ") if trace.name in line_styles else ())\n",
        "\n",
        "# Show the plot\n",
        "fig.show()"
      ]
    },
    {
      "cell_type": "markdown",
      "metadata": {
        "id": "a2QMAZ7Wy3xW"
      },
      "source": [
        "### **VW S**"
      ]
    },
    {
      "cell_type": "code",
      "execution_count": null,
      "metadata": {
        "id": "pDWRubT1y3xW"
      },
      "outputs": [],
      "source": [
        "vw_s = pd.concat([bert_portfolio_pretrained[['date_bert', 'cum_market_return_bert','cum_VS_return_bert']],\n",
        "                   roberta_portfolio_pretrained['cum_VS_return_roberta'],\n",
        "                   distilbert_portfolio_pretrained['cum_VS_return_distilbert'],\n",
        "                   distilroberta_portfolio_pretrained['cum_VS_return_distilroberta'],\n",
        "                   finbert_portfolio_pretrained['cum_VS_return_finbert']], axis=1)"
      ]
    },
    {
      "cell_type": "code",
      "execution_count": null,
      "metadata": {
        "id": "vc4ncMYmy3xX"
      },
      "outputs": [],
      "source": [
        "vw_s.rename(columns={'date_bert': 'date',\n",
        "                      'cum_market_return_bert':'Market',\n",
        "                      'cum_VS_return_bert': 'BERT',\n",
        "                      'cum_VS_return_roberta':'RoBERTa',\n",
        "                      'cum_VS_return_distilbert':'DistilBERT',\n",
        "                      'cum_VS_return_distilroberta':'DistilRoBERTa',\n",
        "                      'cum_VS_return_finbert':'FinBERT'}, inplace=True)"
      ]
    },
    {
      "cell_type": "code",
      "execution_count": null,
      "metadata": {
        "id": "tt_otl6Wy3xX"
      },
      "outputs": [],
      "source": [
        "# Reshape the DataFrame from wide to long format\n",
        "df_long = pd.melt(vw_s, id_vars=['date'], value_vars=['BERT', 'DistilBERT', 'DistilRoBERTa', 'FinBERT', 'RoBERTa', 'Market', ],\n",
        "                  var_name='model', value_name='log_return')\n",
        "\n",
        "# Create the line plot\n",
        "fig = px.line(df_long,\n",
        "              x='date',\n",
        "              y='log_return',\n",
        "              color='model',\n",
        "              title='Value Weighted Short Strategy',\n",
        "              height=800,\n",
        "              width=900)\n",
        "\n",
        "# Customize the x-axis to display date labels correctly\n",
        "fig.update_xaxes(title_text='Date', tickformat='%Y',\n",
        "                 title_font=dict(size=18),  # Font size for the x-axis title\n",
        "                 tickfont=dict(size=14))    # Font size for the x-axis ticks\n",
        "\n",
        "# Customize the y-axis\n",
        "fig.update_yaxes(title_text='Cum. Log Return',\n",
        "                 range=[-2, 1])\n",
        "\n",
        "# Set different line styles for different models\n",
        "line_styles = {\n",
        "    'BERT': 'solid',\n",
        "    'DistilBERT': 'solid',\n",
        "    'DistilRoBERTa': 'solid',\n",
        "    'FinBERT': 'solid',\n",
        "    'RoBERTa': 'solid',\n",
        "    'Market': 'dot'\n",
        "}\n",
        "\n",
        "# Apply the line styles and set 'Market' color to black\n",
        "fig.for_each_trace(lambda trace: trace.update(\n",
        "    line=dict(dash=line_styles[trace.name], color='black' if trace.name == 'Market' else trace.line.color)\n",
        ") if trace.name in line_styles else ())\n",
        "\n",
        "# Show the plot\n",
        "fig.show()"
      ]
    },
    {
      "cell_type": "markdown",
      "metadata": {
        "id": "BGL1NB1Yy3xX"
      },
      "source": [
        "## **Fine-Tuned**"
      ]
    },
    {
      "cell_type": "code",
      "execution_count": null,
      "metadata": {
        "id": "256k6kWwy3xX"
      },
      "outputs": [],
      "source": [
        "# load data\n",
        "bert_portfolio_finetuned = pd.read_csv('/content/drive/MyDrive/PostGrad/5. Extended Research Projects/Results/Portfolio Analysis - Fine Tune/bert_portfolio_transcost.csv')\n",
        "roberta_portfolio_finetuned = pd.read_csv('/content/drive/MyDrive/PostGrad/5. Extended Research Projects/Results/Portfolio Analysis - Fine Tune/roberta_portfolio_transcost.csv')\n",
        "distilbert_portfolio_finetuned = pd.read_csv('/content/drive/MyDrive/PostGrad/5. Extended Research Projects/Results/Portfolio Analysis - Fine Tune/distilbert_portfolio_transcost.csv')\n",
        "distilroberta_portfolio_finetuned = pd.read_csv('/content/drive/MyDrive/PostGrad/5. Extended Research Projects/Results/Portfolio Analysis - Fine Tune/distilroberta_portfolio_transcost.csv')\n",
        "finbert_portfolio_finetuned = pd.read_csv('/content/drive/MyDrive/PostGrad/5. Extended Research Projects/Results/Portfolio Analysis - Fine Tune/finbert_portfolio_transcost.csv')"
      ]
    },
    {
      "cell_type": "code",
      "execution_count": null,
      "metadata": {
        "id": "VDUEhc7Uy3xX"
      },
      "outputs": [],
      "source": [
        "bert_portfolio_finetuned['date'] = pd.to_datetime(bert_portfolio_finetuned['date'])\n",
        "roberta_portfolio_finetuned['date'] = pd.to_datetime(roberta_portfolio_finetuned['date'])\n",
        "distilbert_portfolio_finetuned['date'] = pd.to_datetime(distilbert_portfolio_finetuned['date'])\n",
        "distilroberta_portfolio_finetuned['date'] = pd.to_datetime(distilroberta_portfolio_finetuned['date'])\n",
        "finbert_portfolio_finetuned['date'] = pd.to_datetime(finbert_portfolio_finetuned['date'])"
      ]
    },
    {
      "cell_type": "code",
      "execution_count": null,
      "metadata": {
        "id": "P-1Jm9dny3xX"
      },
      "outputs": [],
      "source": [
        "# add suffix to column name\n",
        "bert_portfolio_finetuned = bert_portfolio_finetuned.add_suffix('_bert')\n",
        "roberta_portfolio_finetuned = roberta_portfolio_finetuned.add_suffix('_roberta')\n",
        "distilbert_portfolio_finetuned = distilbert_portfolio_finetuned.add_suffix('_distilbert')\n",
        "distilroberta_portfolio_finetuned = distilroberta_portfolio_finetuned.add_suffix('_distilroberta')\n",
        "finbert_portfolio_finetuned = finbert_portfolio_finetuned.add_suffix('_finbert')"
      ]
    },
    {
      "cell_type": "markdown",
      "metadata": {
        "id": "0tSj_D-oy3xX"
      },
      "source": [
        "### **EW L-S**"
      ]
    },
    {
      "cell_type": "code",
      "execution_count": null,
      "metadata": {
        "id": "teu5T3EBy3xX"
      },
      "outputs": [],
      "source": [
        "ew_ls = pd.concat([bert_portfolio_finetuned[['date_bert', 'cum_market_return_bert','cum_ELS_return_bert']],\n",
        "                   roberta_portfolio_finetuned['cum_ELS_return_roberta'],\n",
        "                   distilbert_portfolio_finetuned['cum_ELS_return_distilbert'],\n",
        "                   distilroberta_portfolio_finetuned['cum_ELS_return_distilroberta'],\n",
        "                   finbert_portfolio_finetuned['cum_ELS_return_finbert']], axis=1)"
      ]
    },
    {
      "cell_type": "code",
      "execution_count": null,
      "metadata": {
        "id": "HA9TxLaXy3xX"
      },
      "outputs": [],
      "source": [
        "ew_ls.rename(columns={'date_bert': 'date',\n",
        "                      'cum_ELS_return_bert': 'BERT',\n",
        "                      'cum_ELS_return_distilbert':'DistilBERT',\n",
        "                      'cum_ELS_return_distilroberta':'DistilRoBERTa',\n",
        "                      'cum_ELS_return_finbert':'FinBERT',\n",
        "                      'cum_ELS_return_roberta':'RoBERTa',\n",
        "                      'cum_market_return_bert':'Market'}, inplace=True)"
      ]
    },
    {
      "cell_type": "code",
      "execution_count": null,
      "metadata": {
        "id": "GxbV7g5Ly3xX"
      },
      "outputs": [],
      "source": [
        "df_long = pd.melt(ew_ls, id_vars=['date'], value_vars=['BERT', 'DistilBERT', 'DistilRoBERTa', 'FinBERT', 'RoBERTa', 'Market'],\n",
        "                  var_name='model', value_name='log_return')"
      ]
    },
    {
      "cell_type": "code",
      "execution_count": null,
      "metadata": {
        "id": "zRTzqd9xy3xX"
      },
      "outputs": [],
      "source": [
        "# Reshape the DataFrame from wide to long format\n",
        "df_long = pd.melt(ew_ls, id_vars=['date'], value_vars=['BERT', 'DistilBERT', 'DistilRoBERTa', 'FinBERT', 'RoBERTa', 'Market'],\n",
        "                  var_name='model', value_name='log_return')\n",
        "\n",
        "# Create the line plot\n",
        "fig = px.line(df_long,\n",
        "              x='date',\n",
        "              y='log_return',\n",
        "              color='model',\n",
        "              title='Equal Weighted Long-Short Strategy',\n",
        "              height=800,\n",
        "              width=900)\n",
        "\n",
        "# Customize the x-axis to display date labels correctly\n",
        "fig.update_xaxes(title_text='Date', tickformat='%Y',\n",
        "                 title_font=dict(size=18),  # Font size for the x-axis title\n",
        "                 tickfont=dict(size=14))    # Font size for the x-axis ticks\n",
        "\n",
        "# Customize the y-axis\n",
        "fig.update_yaxes(title_text='Cum. Log Return',\n",
        "                 range=[-1.5, 1])\n",
        "\n",
        "# Set different line styles for different models\n",
        "line_styles = {\n",
        "    'BERT': 'solid',\n",
        "    'DistilBERT': 'solid',\n",
        "    'DistilRoBERTa': 'solid',\n",
        "    'FinBERT': 'solid',\n",
        "    'RoBERTa': 'solid',\n",
        "    'Market': 'dot'\n",
        "}\n",
        "\n",
        "# Apply the line styles and set 'Market' color to black\n",
        "fig.for_each_trace(lambda trace: trace.update(\n",
        "    line=dict(dash=line_styles[trace.name], color='black' if trace.name == 'Market' else trace.line.color)\n",
        ") if trace.name in line_styles else ())\n",
        "\n",
        "# Show the plot\n",
        "fig.show()"
      ]
    },
    {
      "cell_type": "markdown",
      "metadata": {
        "id": "0oC53lCHy3xX"
      },
      "source": [
        "### **VW L-S**"
      ]
    },
    {
      "cell_type": "code",
      "execution_count": null,
      "metadata": {
        "id": "QfwhQjR-y3xX"
      },
      "outputs": [],
      "source": [
        "vw_ls = pd.concat([bert_portfolio_finetuned[['date_bert', 'cum_market_return_bert','cum_VLS_return_bert']],\n",
        "                   roberta_portfolio_finetuned['cum_VLS_return_roberta'],\n",
        "                   distilbert_portfolio_finetuned['cum_VLS_return_distilbert'],\n",
        "                   distilroberta_portfolio_finetuned['cum_VLS_return_distilroberta'],\n",
        "                   finbert_portfolio_finetuned['cum_VLS_return_finbert']], axis=1)"
      ]
    },
    {
      "cell_type": "code",
      "execution_count": null,
      "metadata": {
        "id": "6zZtXgoqy3xX"
      },
      "outputs": [],
      "source": [
        "vw_ls.rename(columns={'date_bert': 'date',\n",
        "                      'cum_market_return_bert':'Market',\n",
        "                      'cum_VLS_return_bert': 'BERT',\n",
        "                      'cum_VLS_return_roberta':'RoBERTa',\n",
        "                      'cum_VLS_return_distilbert':'DistilBERT',\n",
        "                      'cum_VLS_return_distilroberta':'DistilRoBERTa',\n",
        "                      'cum_VLS_return_finbert':'FinBERT'}, inplace=True)"
      ]
    },
    {
      "cell_type": "code",
      "execution_count": null,
      "metadata": {
        "id": "xTyRNmxUy3xX"
      },
      "outputs": [],
      "source": [
        "# Reshape the DataFrame from wide to long format\n",
        "df_long = pd.melt(vw_ls, id_vars=['date'], value_vars=['BERT', 'DistilBERT', 'DistilRoBERTa', 'FinBERT', 'RoBERTa', 'Market', ],\n",
        "                  var_name='model', value_name='log_return')\n",
        "\n",
        "# Create the line plot\n",
        "fig = px.line(df_long,\n",
        "              x='date',\n",
        "              y='log_return',\n",
        "              color='model',\n",
        "              title='Value Weighted Long-Short Strategy',\n",
        "              height=800,\n",
        "              width=900)\n",
        "\n",
        "# Customize the x-axis to display date labels correctly\n",
        "fig.update_xaxes(title_text='Date', tickformat='%Y',\n",
        "                 title_font=dict(size=18),  # Font size for the x-axis title\n",
        "                 tickfont=dict(size=14))    # Font size for the x-axis ticks\n",
        "\n",
        "# Customize the y-axis\n",
        "fig.update_yaxes(title_text='Cum. Log Return',\n",
        "                 range=[-2, 1])\n",
        "\n",
        "# Set different line styles for different models\n",
        "line_styles = {\n",
        "    'BERT': 'solid',\n",
        "    'DistilBERT': 'solid',\n",
        "    'DistilRoBERTa': 'solid',\n",
        "    'FinBERT': 'solid',\n",
        "    'RoBERTa': 'solid',\n",
        "    'Market': 'dot'\n",
        "}\n",
        "\n",
        "# Apply the line styles and set 'Market' color to black\n",
        "fig.for_each_trace(lambda trace: trace.update(\n",
        "    line=dict(dash=line_styles[trace.name], color='black' if trace.name == 'Market' else trace.line.color)\n",
        ") if trace.name in line_styles else ())\n",
        "\n",
        "# Show the plot\n",
        "fig.show()"
      ]
    },
    {
      "cell_type": "markdown",
      "metadata": {
        "id": "a9EfvbEDy3xY"
      },
      "source": [
        "### **EW L**"
      ]
    },
    {
      "cell_type": "code",
      "execution_count": null,
      "metadata": {
        "id": "0Ytw0lLUy3xY"
      },
      "outputs": [],
      "source": [
        "ew_l = pd.concat([bert_portfolio_finetuned[['date_bert', 'cum_market_return_bert','cum_EL_return_bert']],\n",
        "                   roberta_portfolio_finetuned['cum_EL_return_roberta'],\n",
        "                   distilbert_portfolio_finetuned['cum_EL_return_distilbert'],\n",
        "                   distilroberta_portfolio_finetuned['cum_EL_return_distilroberta'],\n",
        "                   finbert_portfolio_finetuned['cum_EL_return_finbert']], axis=1)"
      ]
    },
    {
      "cell_type": "code",
      "execution_count": null,
      "metadata": {
        "id": "o1U46m4iy3xY"
      },
      "outputs": [],
      "source": [
        "ew_l.rename(columns={'date_bert': 'date',\n",
        "                      'cum_EL_return_bert': 'BERT',\n",
        "                      'cum_EL_return_distilbert':'DistilBERT',\n",
        "                      'cum_EL_return_distilroberta':'DistilRoBERTa',\n",
        "                      'cum_EL_return_finbert':'FinBERT',\n",
        "                      'cum_EL_return_roberta':'RoBERTa',\n",
        "                      'cum_market_return_bert':'Market'}, inplace=True)"
      ]
    },
    {
      "cell_type": "code",
      "execution_count": null,
      "metadata": {
        "id": "WVVCIQfPy3xY"
      },
      "outputs": [],
      "source": [
        "# Reshape the DataFrame from wide to long format\n",
        "df_long = pd.melt(ew_l, id_vars=['date'], value_vars=['BERT', 'DistilBERT', 'DistilRoBERTa', 'FinBERT', 'RoBERTa', 'Market'],\n",
        "                  var_name='model', value_name='log_return')\n",
        "\n",
        "# Create the line plot\n",
        "fig = px.line(df_long,\n",
        "              x='date',\n",
        "              y='log_return',\n",
        "              color='model',\n",
        "              title='Equal Weighted Long',\n",
        "              height=800,\n",
        "              width=900)\n",
        "\n",
        "# Customize the x-axis to display date labels correctly\n",
        "fig.update_xaxes(title_text='Date', tickformat='%Y',\n",
        "                 title_font=dict(size=18),  # Font size for the x-axis title\n",
        "                 tickfont=dict(size=14))    # Font size for the x-axis ticks\n",
        "\n",
        "# Customize the y-axis\n",
        "fig.update_yaxes(title_text='Cum. Log Return',\n",
        "                 range=[-.5, 1.5])\n",
        "\n",
        "# Set different line styles for different models\n",
        "line_styles = {\n",
        "    'BERT': 'solid',\n",
        "    'DistilBERT': 'solid',\n",
        "    'DistilRoBERTa': 'solid',\n",
        "    'FinBERT': 'solid',\n",
        "    'RoBERTa': 'solid',\n",
        "    'Market': 'dot'\n",
        "}\n",
        "\n",
        "# Apply the line styles and set 'Market' color to black\n",
        "fig.for_each_trace(lambda trace: trace.update(\n",
        "    line=dict(dash=line_styles[trace.name], color='black' if trace.name == 'Market' else trace.line.color)\n",
        ") if trace.name in line_styles else ())\n",
        "\n",
        "# Show the plot\n",
        "fig.show()"
      ]
    },
    {
      "cell_type": "markdown",
      "metadata": {
        "id": "02cSp8TAy3xY"
      },
      "source": [
        "### **VW L**"
      ]
    },
    {
      "cell_type": "code",
      "execution_count": null,
      "metadata": {
        "id": "2zuL2ZCWy3xY"
      },
      "outputs": [],
      "source": [
        "vw_l = pd.concat([bert_portfolio_finetuned[['date_bert', 'cum_market_return_bert','cum_VL_return_bert']],\n",
        "                   roberta_portfolio_finetuned['cum_VL_return_roberta'],\n",
        "                   distilbert_portfolio_finetuned['cum_VL_return_distilbert'],\n",
        "                   distilroberta_portfolio_finetuned['cum_VL_return_distilroberta'],\n",
        "                   finbert_portfolio_finetuned['cum_VL_return_finbert']], axis=1)"
      ]
    },
    {
      "cell_type": "code",
      "execution_count": null,
      "metadata": {
        "id": "0MmjPWbWy3xY"
      },
      "outputs": [],
      "source": [
        "vw_l.rename(columns={'date_bert': 'date',\n",
        "                      'cum_market_return_bert':'Market',\n",
        "                      'cum_VL_return_bert': 'BERT',\n",
        "                      'cum_VL_return_roberta':'RoBERTa',\n",
        "                      'cum_VL_return_distilbert':'DistilBERT',\n",
        "                      'cum_VL_return_distilroberta':'DistilRoBERTa',\n",
        "                      'cum_VL_return_finbert':'FinBERT'}, inplace=True)"
      ]
    },
    {
      "cell_type": "code",
      "execution_count": null,
      "metadata": {
        "id": "blVkJtUky3xY"
      },
      "outputs": [],
      "source": [
        "# Reshape the DataFrame from wide to long format\n",
        "df_long = pd.melt(vw_l, id_vars=['date'], value_vars=['BERT', 'DistilBERT', 'DistilRoBERTa', 'FinBERT', 'RoBERTa', 'Market', ],\n",
        "                  var_name='model', value_name='log_return')\n",
        "\n",
        "# Create the line plot\n",
        "fig = px.line(df_long,\n",
        "              x='date',\n",
        "              y='log_return',\n",
        "              color='model',\n",
        "              title='Value Weighted Long Strategy',\n",
        "              height=800,\n",
        "              width=900)\n",
        "\n",
        "# Customize the x-axis to display date labels correctly\n",
        "fig.update_xaxes(title_text='Date', tickformat='%Y',\n",
        "                 title_font=dict(size=18),  # Font size for the x-axis title\n",
        "                 tickfont=dict(size=14))    # Font size for the x-axis ticks\n",
        "\n",
        "# Customize the y-axis\n",
        "fig.update_yaxes(title_text='Cum. Log Return',\n",
        "                 range=[-.5, 1.5])\n",
        "\n",
        "# Set different line styles for different models\n",
        "line_styles = {\n",
        "    'BERT': 'solid',\n",
        "    'DistilBERT': 'solid',\n",
        "    'DistilRoBERTa': 'solid',\n",
        "    'FinBERT': 'solid',\n",
        "    'RoBERTa': 'solid',\n",
        "    'Market': 'dot'\n",
        "}\n",
        "\n",
        "# Apply the line styles and set 'Market' color to black\n",
        "fig.for_each_trace(lambda trace: trace.update(\n",
        "    line=dict(dash=line_styles[trace.name], color='black' if trace.name == 'Market' else trace.line.color)\n",
        ") if trace.name in line_styles else ())\n",
        "\n",
        "# Show the plot\n",
        "fig.show()"
      ]
    },
    {
      "cell_type": "markdown",
      "metadata": {
        "id": "pQZuu9uay3xY"
      },
      "source": [
        "### **EW S**"
      ]
    },
    {
      "cell_type": "code",
      "execution_count": null,
      "metadata": {
        "id": "yUMw6kTcy3xY"
      },
      "outputs": [],
      "source": [
        "ew_s = pd.concat([bert_portfolio_finetuned[['date_bert', 'cum_market_return_bert','cum_ES_return_bert']],\n",
        "                   roberta_portfolio_finetuned['cum_ES_return_roberta'],\n",
        "                   distilbert_portfolio_finetuned['cum_ES_return_distilbert'],\n",
        "                   distilroberta_portfolio_finetuned['cum_ES_return_distilroberta'],\n",
        "                   finbert_portfolio_finetuned['cum_ES_return_finbert']], axis=1)"
      ]
    },
    {
      "cell_type": "code",
      "execution_count": null,
      "metadata": {
        "id": "oxhAPJvey3xY"
      },
      "outputs": [],
      "source": [
        "ew_s.rename(columns={'date_bert': 'date',\n",
        "                      'cum_ES_return_bert': 'BERT',\n",
        "                      'cum_ES_return_distilbert':'DistilBERT',\n",
        "                      'cum_ES_return_distilroberta':'DistilRoBERTa',\n",
        "                      'cum_ES_return_finbert':'FinBERT',\n",
        "                      'cum_ES_return_roberta':'RoBERTa',\n",
        "                      'cum_market_return_bert':'Market'}, inplace=True)"
      ]
    },
    {
      "cell_type": "code",
      "execution_count": null,
      "metadata": {
        "id": "X8FDpvbHy3xY"
      },
      "outputs": [],
      "source": [
        "# Reshape the DataFrame from wide to long format\n",
        "df_long = pd.melt(ew_s, id_vars=['date'], value_vars=['BERT', 'DistilBERT', 'DistilRoBERTa', 'FinBERT', 'RoBERTa', 'Market'],\n",
        "                  var_name='model', value_name='log_return')\n",
        "\n",
        "# Create the line plot\n",
        "fig = px.line(df_long,\n",
        "              x='date',\n",
        "              y='log_return',\n",
        "              color='model',\n",
        "              title='Equal Weighted Short Strategy',\n",
        "              height=800,\n",
        "              width=900)\n",
        "\n",
        "# Customize the x-axis to display date labels correctly\n",
        "fig.update_xaxes(title_text='Date', tickformat='%Y',\n",
        "                 title_font=dict(size=18),  # Font size for the x-axis title\n",
        "                 tickfont=dict(size=14))    # Font size for the x-axis ticks\n",
        "\n",
        "# Customize the y-axis\n",
        "fig.update_yaxes(title_text='Cum. Log Return',\n",
        "                 range=[-2, 1])\n",
        "\n",
        "# Set different line styles for different models\n",
        "line_styles = {\n",
        "    'BERT': 'solid',\n",
        "    'DistilBERT': 'solid',\n",
        "    'DistilRoBERTa': 'solid',\n",
        "    'FinBERT': 'solid',\n",
        "    'RoBERTa': 'solid',\n",
        "    'Market': 'dot'\n",
        "}\n",
        "\n",
        "# Apply the line styles and set 'Market' color to black\n",
        "fig.for_each_trace(lambda trace: trace.update(\n",
        "    line=dict(dash=line_styles[trace.name], color='black' if trace.name == 'Market' else trace.line.color)\n",
        ") if trace.name in line_styles else ())\n",
        "\n",
        "# Show the plot\n",
        "fig.show()"
      ]
    },
    {
      "cell_type": "markdown",
      "metadata": {
        "id": "L7u1Y4Lwy3xY"
      },
      "source": [
        "### **VW S**"
      ]
    },
    {
      "cell_type": "code",
      "execution_count": null,
      "metadata": {
        "id": "ge_mv1o-y3xY"
      },
      "outputs": [],
      "source": [
        "vw_s = pd.concat([bert_portfolio_finetuned[['date_bert', 'cum_market_return_bert','cum_VS_return_bert']],\n",
        "                   roberta_portfolio_finetuned['cum_VS_return_roberta'],\n",
        "                   distilbert_portfolio_finetuned['cum_VS_return_distilbert'],\n",
        "                   distilroberta_portfolio_finetuned['cum_VS_return_distilroberta'],\n",
        "                   finbert_portfolio_finetuned['cum_VS_return_finbert']], axis=1)"
      ]
    },
    {
      "cell_type": "code",
      "execution_count": null,
      "metadata": {
        "id": "XM3d8Rmcy3xY"
      },
      "outputs": [],
      "source": [
        "vw_s.rename(columns={'date_bert': 'date',\n",
        "                      'cum_market_return_bert':'Market',\n",
        "                      'cum_VS_return_bert': 'BERT',\n",
        "                      'cum_VS_return_roberta':'RoBERTa',\n",
        "                      'cum_VS_return_distilbert':'DistilBERT',\n",
        "                      'cum_VS_return_distilroberta':'DistilRoBERTa',\n",
        "                      'cum_VS_return_finbert':'FinBERT'}, inplace=True)"
      ]
    },
    {
      "cell_type": "code",
      "execution_count": null,
      "metadata": {
        "id": "cTRLajhDy3xY"
      },
      "outputs": [],
      "source": [
        "# Reshape the DataFrame from wide to long format\n",
        "df_long = pd.melt(vw_s, id_vars=['date'], value_vars=['BERT', 'DistilBERT', 'DistilRoBERTa', 'FinBERT', 'RoBERTa', 'Market', ],\n",
        "                  var_name='model', value_name='log_return')\n",
        "\n",
        "# Create the line plot\n",
        "fig = px.line(df_long,\n",
        "              x='date',\n",
        "              y='log_return',\n",
        "              color='model',\n",
        "              title='Value Weighted Short Strategy',\n",
        "              height=800,\n",
        "              width=900)\n",
        "\n",
        "# Customize the x-axis to display date labels correctly\n",
        "fig.update_xaxes(title_text='Date', tickformat='%Y',\n",
        "                 title_font=dict(size=18),  # Font size for the x-axis title\n",
        "                 tickfont=dict(size=14))    # Font size for the x-axis ticks\n",
        "\n",
        "# Customize the y-axis\n",
        "fig.update_yaxes(title_text='Cum. Log Return',\n",
        "                 range=[-2, 1])\n",
        "\n",
        "# Set different line styles for different models\n",
        "line_styles = {\n",
        "    'BERT': 'solid',\n",
        "    'DistilBERT': 'solid',\n",
        "    'DistilRoBERTa': 'solid',\n",
        "    'FinBERT': 'solid',\n",
        "    'RoBERTa': 'solid',\n",
        "    'Market': 'dot'\n",
        "}\n",
        "\n",
        "# Apply the line styles and set 'Market' color to black\n",
        "fig.for_each_trace(lambda trace: trace.update(\n",
        "    line=dict(dash=line_styles[trace.name], color='black' if trace.name == 'Market' else trace.line.color)\n",
        ") if trace.name in line_styles else ())\n",
        "\n",
        "# Show the plot\n",
        "fig.show()"
      ]
    },
    {
      "cell_type": "markdown",
      "metadata": {
        "id": "oozvwp_-y3xZ"
      },
      "source": [
        "## **By Model**"
      ]
    },
    {
      "cell_type": "markdown",
      "metadata": {
        "id": "MpUuXdjDy3xZ"
      },
      "source": [
        "### **BERT Pre-Trained**"
      ]
    },
    {
      "cell_type": "code",
      "execution_count": null,
      "metadata": {
        "id": "DAb811M2y3xZ"
      },
      "outputs": [],
      "source": [
        "bert_portfolio_pretrained.rename(columns={'date_bert': 'date',\n",
        "                               'cum_market_return_bert':'Market',\n",
        "                               'cum_EL_return_bert':'EW-L',\n",
        "                               'cum_ES_return_bert':'EW-S',\n",
        "                               'cum_ELS_return_bert':'EW-LS',\n",
        "                               'cum_VL_return_bert': 'VW-L',\n",
        "                               'cum_VS_return_bert': 'VW-S',\n",
        "                               'cum_VLS_return_bert':'VW-LS'\n",
        "                                }, inplace=True)"
      ]
    },
    {
      "cell_type": "code",
      "execution_count": null,
      "metadata": {
        "id": "HXlXB2nXy3xZ"
      },
      "outputs": [],
      "source": [
        "# Reshape the DataFrame from wide to long format\n",
        "bert_long = pd.melt(bert_portfolio_pretrained, id_vars=['date'], value_vars=['Market', 'EW-L', 'EW-S', 'EW-LS', 'VW-L', 'VW-S', 'VW-LS'],\n",
        "                  var_name='strategy', value_name='log_return')\n",
        "\n",
        "# Create the line plot\n",
        "fig = px.line(bert_long, x='date', y='log_return', color='strategy',\n",
        "                  height=600, width=800, title='BERT Portfolio Pre-Trained')\n",
        "\n",
        "# Customize the x-axis to display date labels correctly\n",
        "fig.update_xaxes(title_text='Date', tickformat='%Y', showgrid=True)\n",
        "\n",
        "# Customize the y-axis\n",
        "fig.update_yaxes(\n",
        "    title_text='Cum. Log Return',\n",
        "    range=[-2.3, 1.5]\n",
        ")\n",
        "\n",
        "strategy_styles = {\n",
        "    'Market': {'color': 'orange', 'dash': 'dot'},\n",
        "    'EW-L': {'color': 'midnightblue', 'dash': 'solid'},\n",
        "    'EW-S': {'color': 'midnightblue', 'dash': 'longdash'},\n",
        "    'EW-LS': {'color': 'midnightblue', 'dash': 'dashdot'},\n",
        "    'VW-L': {'color': 'skyblue', 'dash': 'solid'},\n",
        "    'VW-S': {'color': 'skyblue', 'dash': 'longdashdot'},\n",
        "    'VW-LS': {'color': 'skyblue', 'dash': 'dashdot'}\n",
        "}\n",
        "\n",
        "# Apply the line styles and colors\n",
        "fig.for_each_trace(lambda trace: trace.update(\n",
        "    line=dict(color=strategy_styles[trace.name]['color'], dash=strategy_styles[trace.name]['dash'])\n",
        ") if trace.name in strategy_styles else ())\n",
        "\n",
        "# Show the plot\n",
        "fig.show()"
      ]
    },
    {
      "cell_type": "markdown",
      "metadata": {
        "id": "HnTo0Gnoy3xZ"
      },
      "source": [
        "### **BERT Fine-Tuned**"
      ]
    },
    {
      "cell_type": "code",
      "execution_count": null,
      "metadata": {
        "id": "fF_gxAMly3xZ"
      },
      "outputs": [],
      "source": [
        "bert_portfolio_finetuned.rename(columns={'date_bert': 'date',\n",
        "                               'cum_market_return_bert':'Market',\n",
        "                               'cum_EL_return_bert':'EW-L',\n",
        "                               'cum_ES_return_bert':'EW-S',\n",
        "                               'cum_ELS_return_bert':'EW-LS',\n",
        "                               'cum_VL_return_bert': 'VW-L',\n",
        "                               'cum_VS_return_bert': 'VW-S',\n",
        "                               'cum_VLS_return_bert':'VW-LS'\n",
        "                                }, inplace=True)"
      ]
    },
    {
      "cell_type": "code",
      "execution_count": null,
      "metadata": {
        "id": "gN7XemTLy3xZ"
      },
      "outputs": [],
      "source": [
        "# Reshape the DataFrame from wide to long format\n",
        "bert_long = pd.melt(bert_portfolio_finetuned, id_vars=['date'], value_vars=['Market', 'EW-L', 'EW-S', 'EW-LS', 'VW-L', 'VW-S', 'VW-LS'],\n",
        "                  var_name='strategy', value_name='log_return')\n",
        "\n",
        "# Create the line plot\n",
        "fig = px.line(bert_long, x='date', y='log_return', color='strategy',\n",
        "                  height=600, width=800, title='BERT Portfolio Fine-Tuned')\n",
        "\n",
        "# Customize the x-axis to display date labels correctly\n",
        "fig.update_xaxes(title_text='Date', tickformat='%Y', showgrid=True)\n",
        "\n",
        "# Customize the y-axis\n",
        "fig.update_yaxes(\n",
        "    title_text='Cum. Log Return',\n",
        "    range=[-2.3, 1.5]\n",
        ")\n",
        "\n",
        "strategy_styles = {\n",
        "    'Market': {'color': 'orange', 'dash': 'dot'},\n",
        "    'EW-L': {'color': 'midnightblue', 'dash': 'solid'},\n",
        "    'EW-S': {'color': 'midnightblue', 'dash': 'longdash'},\n",
        "    'EW-LS': {'color': 'midnightblue', 'dash': 'dashdot'},\n",
        "    'VW-L': {'color': 'skyblue', 'dash': 'solid'},\n",
        "    'VW-S': {'color': 'skyblue', 'dash': 'longdashdot'},\n",
        "    'VW-LS': {'color': 'skyblue', 'dash': 'dashdot'}\n",
        "}\n",
        "\n",
        "# Apply the line styles and colors\n",
        "fig.for_each_trace(lambda trace: trace.update(\n",
        "    line=dict(color=strategy_styles[trace.name]['color'], dash=strategy_styles[trace.name]['dash'])\n",
        ") if trace.name in strategy_styles else ())\n",
        "\n",
        "# Show the plot\n",
        "fig.show()"
      ]
    },
    {
      "cell_type": "markdown",
      "metadata": {
        "id": "4Y5xzXdHy3xb"
      },
      "source": [
        "### **RoBERTa Pretrained**"
      ]
    },
    {
      "cell_type": "code",
      "execution_count": null,
      "metadata": {
        "id": "M62OYjqQy3xb"
      },
      "outputs": [],
      "source": [
        "roberta_portfolio_pretrained.rename(columns={'date_roberta': 'date',\n",
        "                               'cum_market_return_roberta':'Market',\n",
        "                               'cum_EL_return_roberta':'EW-L',\n",
        "                               'cum_ES_return_roberta':'EW-S',\n",
        "                               'cum_ELS_return_roberta':'EW-LS',\n",
        "                               'cum_VL_return_roberta': 'VW-L',\n",
        "                               'cum_VS_return_roberta': 'VW-S',\n",
        "                               'cum_VLS_return_roberta':'VW-LS'\n",
        "                                }, inplace=True)"
      ]
    },
    {
      "cell_type": "code",
      "execution_count": null,
      "metadata": {
        "id": "oHyTU8t_y3xb"
      },
      "outputs": [],
      "source": [
        "# Reshape the DataFrame from wide to long format\n",
        "roberta_long = pd.melt(roberta_portfolio_pretrained, id_vars=['date'], value_vars=['Market', 'EW-L', 'EW-S', 'EW-LS', 'VW-L', 'VW-S', 'VW-LS'],\n",
        "                  var_name='strategy', value_name='log_return')\n",
        "\n",
        "# Create the line plot\n",
        "fig = px.line(roberta_long, x='date', y='log_return', color='strategy',\n",
        "                  height=600, width=800, title='RoBERTa Portfolio Pre-Trained')\n",
        "\n",
        "# Customize the x-axis to display date labels correctly\n",
        "fig.update_xaxes(title_text='Date', tickformat='%Y', showgrid=True)\n",
        "\n",
        "# Customize the y-axis\n",
        "fig.update_yaxes(\n",
        "    title_text='Cum. Log Return',\n",
        "    range=[-2.3, 1.5]\n",
        ")\n",
        "\n",
        "strategy_styles = {\n",
        "    'Market': {'color': 'orange', 'dash': 'dot'},\n",
        "    'EW-L': {'color': 'midnightblue', 'dash': 'solid'},\n",
        "    'EW-S': {'color': 'midnightblue', 'dash': 'longdash'},\n",
        "    'EW-LS': {'color': 'midnightblue', 'dash': 'dashdot'},\n",
        "    'VW-L': {'color': 'skyblue', 'dash': 'solid'},\n",
        "    'VW-S': {'color': 'skyblue', 'dash': 'longdashdot'},\n",
        "    'VW-LS': {'color': 'skyblue', 'dash': 'dashdot'}\n",
        "}\n",
        "\n",
        "# Apply the line styles and colors\n",
        "fig.for_each_trace(lambda trace: trace.update(\n",
        "    line=dict(color=strategy_styles[trace.name]['color'], dash=strategy_styles[trace.name]['dash'])\n",
        ") if trace.name in strategy_styles else ())\n",
        "\n",
        "# Show the plot\n",
        "fig.show()"
      ]
    },
    {
      "cell_type": "markdown",
      "metadata": {
        "id": "F1FkUozzy3xb"
      },
      "source": [
        "### **RoBERTa Fine-Tuned**"
      ]
    },
    {
      "cell_type": "code",
      "execution_count": null,
      "metadata": {
        "id": "vzaK085ay3xb"
      },
      "outputs": [],
      "source": [
        "roberta_portfolio_finetuned.rename(columns={'date_roberta': 'date',\n",
        "                               'cum_market_return_roberta':'Market',\n",
        "                               'cum_EL_return_roberta':'EW-L',\n",
        "                               'cum_ES_return_roberta':'EW-S',\n",
        "                               'cum_ELS_return_roberta':'EW-LS',\n",
        "                               'cum_VL_return_roberta': 'VW-L',\n",
        "                               'cum_VS_return_roberta': 'VW-S',\n",
        "                               'cum_VLS_return_roberta':'VW-LS'\n",
        "                                }, inplace=True)"
      ]
    },
    {
      "cell_type": "code",
      "execution_count": null,
      "metadata": {
        "id": "E8tAre_Cy3xb"
      },
      "outputs": [],
      "source": [
        "# Reshape the DataFrame from wide to long format\n",
        "roberta_long = pd.melt(roberta_portfolio_finetuned, id_vars=['date'], value_vars=['Market', 'EW-L', 'EW-S', 'EW-LS', 'VW-L', 'VW-S', 'VW-LS'],\n",
        "                  var_name='strategy', value_name='log_return')\n",
        "\n",
        "# Create the line plot\n",
        "fig = px.line(roberta_long, x='date', y='log_return', color='strategy',\n",
        "                  height=600, width=800, title='RoBERTa Portfolio Fine-Tuned')\n",
        "\n",
        "# Customize the x-axis to display date labels correctly\n",
        "fig.update_xaxes(title_text='Date', tickformat='%Y', showgrid=True)\n",
        "\n",
        "# Customize the y-axis\n",
        "fig.update_yaxes(\n",
        "    title_text='Cum. Log Return',\n",
        "    range=[-2.3, 1.5]\n",
        ")\n",
        "\n",
        "strategy_styles = {\n",
        "    'Market': {'color': 'orange', 'dash': 'dot'},\n",
        "    'EW-L': {'color': 'midnightblue', 'dash': 'solid'},\n",
        "    'EW-S': {'color': 'midnightblue', 'dash': 'longdash'},\n",
        "    'EW-LS': {'color': 'midnightblue', 'dash': 'dashdot'},\n",
        "    'VW-L': {'color': 'skyblue', 'dash': 'solid'},\n",
        "    'VW-S': {'color': 'skyblue', 'dash': 'longdashdot'},\n",
        "    'VW-LS': {'color': 'skyblue', 'dash': 'dashdot'}\n",
        "}\n",
        "\n",
        "# Apply the line styles and colors\n",
        "fig.for_each_trace(lambda trace: trace.update(\n",
        "    line=dict(color=strategy_styles[trace.name]['color'], dash=strategy_styles[trace.name]['dash'])\n",
        ") if trace.name in strategy_styles else ())\n",
        "\n",
        "# Show the plot\n",
        "fig.show()"
      ]
    },
    {
      "cell_type": "markdown",
      "metadata": {
        "id": "5JeiUXeqy3xb"
      },
      "source": [
        "### **DistilBERT Pretrained**"
      ]
    },
    {
      "cell_type": "code",
      "execution_count": null,
      "metadata": {
        "id": "tdLH6yTCy3xb"
      },
      "outputs": [],
      "source": [
        "distilbert_portfolio_pretrained.rename(columns={'date_distilbert': 'date',\n",
        "                               'cum_market_return_distilbert':'Market',\n",
        "                               'cum_EL_return_distilbert':'EW-L',\n",
        "                               'cum_ES_return_distilbert':'EW-S',\n",
        "                               'cum_ELS_return_distilbert':'EW-LS',\n",
        "                               'cum_VL_return_distilbert': 'VW-L',\n",
        "                               'cum_VS_return_distilbert': 'VW-S',\n",
        "                               'cum_VLS_return_distilbert':'VW-LS'\n",
        "                                }, inplace=True)"
      ]
    },
    {
      "cell_type": "code",
      "execution_count": null,
      "metadata": {
        "id": "Bw8IjUJqy3xb"
      },
      "outputs": [],
      "source": [
        "# Reshape the DataFrame from wide to long format\n",
        "distilbert_long = pd.melt(distilbert_portfolio_pretrained, id_vars=['date'], value_vars=['Market', 'EW-L', 'EW-S', 'EW-LS', 'VW-L', 'VW-S', 'VW-LS'],\n",
        "                  var_name='strategy', value_name='log_return')\n",
        "\n",
        "# Create the line plot\n",
        "fig = px.line(distilbert_long, x='date', y='log_return', color='strategy',\n",
        "                  height=600, width=800, title='DistilBERT Portfolio Pre-Trained')\n",
        "\n",
        "# Customize the x-axis to display date labels correctly\n",
        "fig.update_xaxes(title_text='Date', tickformat='%Y', showgrid=True)\n",
        "\n",
        "# Customize the y-axis\n",
        "fig.update_yaxes(\n",
        "    title_text='Cum. Log Return',\n",
        "    range=[-2.3, 1.5]\n",
        ")\n",
        "\n",
        "strategy_styles = {\n",
        "    'Market': {'color': 'orange', 'dash': 'dot'},\n",
        "    'EW-L': {'color': 'midnightblue', 'dash': 'solid'},\n",
        "    'EW-S': {'color': 'midnightblue', 'dash': 'longdash'},\n",
        "    'EW-LS': {'color': 'midnightblue', 'dash': 'dashdot'},\n",
        "    'VW-L': {'color': 'skyblue', 'dash': 'solid'},\n",
        "    'VW-S': {'color': 'skyblue', 'dash': 'longdashdot'},\n",
        "    'VW-LS': {'color': 'skyblue', 'dash': 'dashdot'}\n",
        "}\n",
        "\n",
        "# Apply the line styles and colors\n",
        "fig.for_each_trace(lambda trace: trace.update(\n",
        "    line=dict(color=strategy_styles[trace.name]['color'], dash=strategy_styles[trace.name]['dash'])\n",
        ") if trace.name in strategy_styles else ())\n",
        "\n",
        "# Show the plot\n",
        "fig.show()"
      ]
    },
    {
      "cell_type": "markdown",
      "metadata": {
        "id": "eKV3e6a4y3xb"
      },
      "source": [
        "### **DistilBERT Fine-Tuned**"
      ]
    },
    {
      "cell_type": "code",
      "execution_count": null,
      "metadata": {
        "id": "OJHsgR2Ly3xb"
      },
      "outputs": [],
      "source": [
        "distilbert_portfolio_finetuned.rename(columns={'date_distilbert': 'date',\n",
        "                               'cum_market_return_distilbert':'Market',\n",
        "                               'cum_EL_return_distilbert':'EW-L',\n",
        "                               'cum_ES_return_distilbert':'EW-S',\n",
        "                               'cum_ELS_return_distilbert':'EW-LS',\n",
        "                               'cum_VL_return_distilbert': 'VW-L',\n",
        "                               'cum_VS_return_distilbert': 'VW-S',\n",
        "                               'cum_VLS_return_distilbert':'VW-LS'\n",
        "                                }, inplace=True)"
      ]
    },
    {
      "cell_type": "code",
      "execution_count": null,
      "metadata": {
        "id": "CgI9awKEy3xb"
      },
      "outputs": [],
      "source": [
        "# Reshape the DataFrame from wide to long format\n",
        "distilbert_long = pd.melt(distilbert_portfolio_finetuned, id_vars=['date'], value_vars=['Market', 'EW-L', 'EW-S', 'EW-LS', 'VW-L', 'VW-S', 'VW-LS'],\n",
        "                  var_name='strategy', value_name='log_return')\n",
        "\n",
        "# Create the line plot\n",
        "fig = px.line(distilbert_long, x='date', y='log_return', color='strategy',\n",
        "                  height=600, width=800, title='DistilBERT Portfolio Fine-Tuned')\n",
        "\n",
        "# Customize the x-axis to display date labels correctly\n",
        "fig.update_xaxes(title_text='Date', tickformat='%Y', showgrid=True)\n",
        "\n",
        "# Customize the y-axis\n",
        "fig.update_yaxes(\n",
        "    title_text='Cum. Log Return',\n",
        "    range=[-2.3, 1.5]\n",
        ")\n",
        "\n",
        "strategy_styles = {\n",
        "    'Market': {'color': 'orange', 'dash': 'dot'},\n",
        "    'EW-L': {'color': 'midnightblue', 'dash': 'solid'},\n",
        "    'EW-S': {'color': 'midnightblue', 'dash': 'longdash'},\n",
        "    'EW-LS': {'color': 'midnightblue', 'dash': 'dashdot'},\n",
        "    'VW-L': {'color': 'skyblue', 'dash': 'solid'},\n",
        "    'VW-S': {'color': 'skyblue', 'dash': 'longdashdot'},\n",
        "    'VW-LS': {'color': 'skyblue', 'dash': 'dashdot'}\n",
        "}\n",
        "\n",
        "# Apply the line styles and colors\n",
        "fig.for_each_trace(lambda trace: trace.update(\n",
        "    line=dict(color=strategy_styles[trace.name]['color'], dash=strategy_styles[trace.name]['dash'])\n",
        ") if trace.name in strategy_styles else ())\n",
        "\n",
        "# Show the plot\n",
        "fig.show()"
      ]
    },
    {
      "cell_type": "markdown",
      "metadata": {
        "id": "R0iGVem497oY"
      },
      "source": [
        "### **DistilRoBERTa Pretrained**"
      ]
    },
    {
      "cell_type": "code",
      "execution_count": null,
      "metadata": {
        "id": "3SDPtvIH97og"
      },
      "outputs": [],
      "source": [
        "distilroberta_portfolio_pretrained.rename(columns={'date_distilroberta': 'date',\n",
        "                               'cum_market_return_distilroberta':'Market',\n",
        "                               'cum_EL_return_distilroberta':'EW-L',\n",
        "                               'cum_ES_return_distilroberta':'EW-S',\n",
        "                               'cum_ELS_return_distilroberta':'EW-LS',\n",
        "                               'cum_VL_return_distilroberta': 'VW-L',\n",
        "                               'cum_VS_return_distilroberta': 'VW-S',\n",
        "                               'cum_VLS_return_distilroberta':'VW-LS'\n",
        "                                }, inplace=True)"
      ]
    },
    {
      "cell_type": "code",
      "execution_count": null,
      "metadata": {
        "id": "1MjlkLBm97oh"
      },
      "outputs": [],
      "source": [
        "# Reshape the DataFrame from wide to long format\n",
        "distilroberta_long = pd.melt(distilroberta_portfolio_pretrained, id_vars=['date'], value_vars=['Market', 'EW-L', 'EW-S', 'EW-LS', 'VW-L', 'VW-S', 'VW-LS'],\n",
        "                  var_name='strategy', value_name='log_return')\n",
        "\n",
        "# Create the line plot\n",
        "fig = px.line(distilroberta_long, x='date', y='log_return', color='strategy',\n",
        "                  height=600, width=800, title='DistilRoBERTa Portfolio Pre-Trained')\n",
        "\n",
        "# Customize the x-axis to display date labels correctly\n",
        "fig.update_xaxes(title_text='Date', tickformat='%Y', showgrid=True)\n",
        "\n",
        "# Customize the y-axis\n",
        "fig.update_yaxes(\n",
        "    title_text='Cum. Log Return',\n",
        "    range=[-2.3, 1.5]\n",
        ")\n",
        "\n",
        "strategy_styles = {\n",
        "    'Market': {'color': 'orange', 'dash': 'dot'},\n",
        "    'EW-L': {'color': 'midnightblue', 'dash': 'solid'},\n",
        "    'EW-S': {'color': 'midnightblue', 'dash': 'longdash'},\n",
        "    'EW-LS': {'color': 'midnightblue', 'dash': 'dashdot'},\n",
        "    'VW-L': {'color': 'skyblue', 'dash': 'solid'},\n",
        "    'VW-S': {'color': 'skyblue', 'dash': 'longdashdot'},\n",
        "    'VW-LS': {'color': 'skyblue', 'dash': 'dashdot'}\n",
        "}\n",
        "\n",
        "# Apply the line styles and colors\n",
        "fig.for_each_trace(lambda trace: trace.update(\n",
        "    line=dict(color=strategy_styles[trace.name]['color'], dash=strategy_styles[trace.name]['dash'])\n",
        ") if trace.name in strategy_styles else ())\n",
        "\n",
        "# Show the plot\n",
        "fig.show()"
      ]
    },
    {
      "cell_type": "markdown",
      "metadata": {
        "id": "U3s06_eO97oh"
      },
      "source": [
        "### **DistilRoBERTa Fine-Tuned**"
      ]
    },
    {
      "cell_type": "code",
      "execution_count": null,
      "metadata": {
        "id": "ovdPT0D697oh"
      },
      "outputs": [],
      "source": [
        "distilroberta_portfolio_finetuned.rename(columns={'date_distilroberta': 'date',\n",
        "                               'cum_market_return_distilroberta':'Market',\n",
        "                               'cum_EL_return_distilroberta':'EW-L',\n",
        "                               'cum_ES_return_distilroberta':'EW-S',\n",
        "                               'cum_ELS_return_distilroberta':'EW-LS',\n",
        "                               'cum_VL_return_distilroberta': 'VW-L',\n",
        "                               'cum_VS_return_distilroberta': 'VW-S',\n",
        "                               'cum_VLS_return_distilroberta':'VW-LS'\n",
        "                                }, inplace=True)"
      ]
    },
    {
      "cell_type": "code",
      "execution_count": null,
      "metadata": {
        "id": "bBHPVF_797oh"
      },
      "outputs": [],
      "source": [
        "# Reshape the DataFrame from wide to long format\n",
        "distilroberta_long = pd.melt(distilroberta_portfolio_finetuned, id_vars=['date'], value_vars=['Market', 'EW-L', 'EW-S', 'EW-LS', 'VW-L', 'VW-S', 'VW-LS'],\n",
        "                  var_name='strategy', value_name='log_return')\n",
        "\n",
        "# Create the line plot\n",
        "fig = px.line(distilroberta_long, x='date', y='log_return', color='strategy',\n",
        "                  height=600, width=800, title='DistilRoBERTa Portfolio Fine-Tuned')\n",
        "\n",
        "# Customize the x-axis to display date labels correctly\n",
        "fig.update_xaxes(title_text='Date', tickformat='%Y', showgrid=True)\n",
        "\n",
        "# Customize the y-axis\n",
        "fig.update_yaxes(\n",
        "    title_text='Cum. Log Return',\n",
        "    range=[-2.3, 1.5]\n",
        ")\n",
        "\n",
        "strategy_styles = {\n",
        "    'Market': {'color': 'orange', 'dash': 'dot'},\n",
        "    'EW-L': {'color': 'midnightblue', 'dash': 'solid'},\n",
        "    'EW-S': {'color': 'midnightblue', 'dash': 'longdash'},\n",
        "    'EW-LS': {'color': 'midnightblue', 'dash': 'dashdot'},\n",
        "    'VW-L': {'color': 'skyblue', 'dash': 'solid'},\n",
        "    'VW-S': {'color': 'skyblue', 'dash': 'longdashdot'},\n",
        "    'VW-LS': {'color': 'skyblue', 'dash': 'dashdot'}\n",
        "}\n",
        "\n",
        "# Apply the line styles and colors\n",
        "fig.for_each_trace(lambda trace: trace.update(\n",
        "    line=dict(color=strategy_styles[trace.name]['color'], dash=strategy_styles[trace.name]['dash'])\n",
        ") if trace.name in strategy_styles else ())\n",
        "\n",
        "# Show the plot\n",
        "fig.show()"
      ]
    },
    {
      "cell_type": "markdown",
      "metadata": {
        "id": "IXu2adIXy3xZ"
      },
      "source": [
        "### **FinBERT Pre-Trained**"
      ]
    },
    {
      "cell_type": "code",
      "execution_count": null,
      "metadata": {
        "id": "1ZfP6bPWy3xZ"
      },
      "outputs": [],
      "source": [
        "finbert_portfolio_pretrained.rename(columns={'date_finbert': 'date',\n",
        "                               'cum_market_return_finbert':'Market',\n",
        "                               'cum_EL_return_finbert':'EW-L',\n",
        "                               'cum_ES_return_finbert':'EW-S',\n",
        "                               'cum_ELS_return_finbert':'EW-LS',\n",
        "                               'cum_VL_return_finbert': 'VW-L',\n",
        "                               'cum_VS_return_finbert': 'VW-S',\n",
        "                               'cum_VLS_return_finbert':'VW-LS'\n",
        "                                }, inplace=True)"
      ]
    },
    {
      "cell_type": "code",
      "execution_count": null,
      "metadata": {
        "id": "3bnQUzDwy3xa"
      },
      "outputs": [],
      "source": [
        "# Reshape the DataFrame from wide to long format\n",
        "finbert_long = pd.melt(finbert_portfolio_pretrained, id_vars=['date'], value_vars=['Market', 'EW-L', 'EW-S', 'EW-LS', 'VW-L', 'VW-S', 'VW-LS'],\n",
        "                  var_name='strategy', value_name='log_return')\n",
        "\n",
        "# Create the line plot\n",
        "fig = px.line(finbert_long, x='date', y='log_return', color='strategy',\n",
        "                  height=600, width=800, title='FinBERT Portfolio Pre-Trained')\n",
        "\n",
        "# Customize the x-axis to display date labels correctly\n",
        "fig.update_xaxes(title_text='Date', tickformat='%Y', showgrid=True)\n",
        "\n",
        "# Customize the y-axis\n",
        "fig.update_yaxes(\n",
        "    title_text='Cum. Log Return',\n",
        "    range=[-2.3, 1.5]\n",
        ")\n",
        "\n",
        "strategy_styles = {\n",
        "    'Market': {'color': 'orange', 'dash': 'dot'},\n",
        "    'EW-L': {'color': 'midnightblue', 'dash': 'solid'},\n",
        "    'EW-S': {'color': 'midnightblue', 'dash': 'longdash'},\n",
        "    'EW-LS': {'color': 'midnightblue', 'dash': 'dashdot'},\n",
        "    'VW-L': {'color': 'skyblue', 'dash': 'solid'},\n",
        "    'VW-S': {'color': 'skyblue', 'dash': 'longdashdot'},\n",
        "    'VW-LS': {'color': 'skyblue', 'dash': 'dashdot'}\n",
        "}\n",
        "\n",
        "# Apply the line styles and colors\n",
        "fig.for_each_trace(lambda trace: trace.update(\n",
        "    line=dict(color=strategy_styles[trace.name]['color'], dash=strategy_styles[trace.name]['dash'])\n",
        ") if trace.name in strategy_styles else ())\n",
        "\n",
        "# Show the plot\n",
        "fig.show()"
      ]
    },
    {
      "cell_type": "markdown",
      "metadata": {
        "id": "WNzexXcLy3xa"
      },
      "source": [
        "### **FinBERT Fine-Tuned**"
      ]
    },
    {
      "cell_type": "code",
      "execution_count": null,
      "metadata": {
        "id": "lznOnwiLy3xa"
      },
      "outputs": [],
      "source": [
        "finbert_portfolio_finetuned.rename(columns={'date_finbert': 'date',\n",
        "                               'cum_market_return_finbert':'Market',\n",
        "                               'cum_EL_return_finbert':'EW-L',\n",
        "                               'cum_ES_return_finbert':'EW-S',\n",
        "                               'cum_ELS_return_finbert':'EW-LS',\n",
        "                               'cum_VL_return_finbert': 'VW-L',\n",
        "                               'cum_VS_return_finbert': 'VW-S',\n",
        "                               'cum_VLS_return_finbert':'VW-LS'\n",
        "                                }, inplace=True)"
      ]
    },
    {
      "cell_type": "code",
      "execution_count": null,
      "metadata": {
        "id": "pOkttZLxy3xa"
      },
      "outputs": [],
      "source": [
        "# Reshape the DataFrame from wide to long format\n",
        "finbert_long = pd.melt(finbert_portfolio_finetuned, id_vars=['date'], value_vars=['Market', 'EW-L', 'EW-S', 'EW-LS', 'VW-L', 'VW-S', 'VW-LS'],\n",
        "                  var_name='strategy', value_name='log_return')\n",
        "\n",
        "# Create the line plot\n",
        "fig = px.line(finbert_long, x='date', y='log_return', color='strategy',\n",
        "                  height=600, width=800, title='FinBERT Portfolio Fine-Tuned')\n",
        "\n",
        "# Customize the x-axis to display date labels correctly\n",
        "fig.update_xaxes(title_text='Date', tickformat='%Y', showgrid=True)\n",
        "\n",
        "# Customize the y-axis\n",
        "fig.update_yaxes(\n",
        "    title_text='Cum. Log Return',\n",
        "    range=[-2.3, 1.5]\n",
        ")\n",
        "\n",
        "strategy_styles = {\n",
        "    'Market': {'color': 'orange', 'dash': 'dot'},\n",
        "    'EW-L': {'color': 'midnightblue', 'dash': 'solid'},\n",
        "    'EW-S': {'color': 'midnightblue', 'dash': 'longdash'},\n",
        "    'EW-LS': {'color': 'midnightblue', 'dash': 'dashdot'},\n",
        "    'VW-L': {'color': 'skyblue', 'dash': 'solid'},\n",
        "    'VW-S': {'color': 'skyblue', 'dash': 'longdashdot'},\n",
        "    'VW-LS': {'color': 'skyblue', 'dash': 'dashdot'}\n",
        "}\n",
        "\n",
        "# Apply the line styles and colors\n",
        "fig.for_each_trace(lambda trace: trace.update(\n",
        "    line=dict(color=strategy_styles[trace.name]['color'], dash=strategy_styles[trace.name]['dash'])\n",
        ") if trace.name in strategy_styles else ())\n",
        "\n",
        "# Show the plot\n",
        "fig.show()"
      ]
    },
    {
      "cell_type": "code",
      "execution_count": null,
      "metadata": {
        "id": "jr9oNgv7y3xa"
      },
      "outputs": [],
      "source": []
    }
  ],
  "metadata": {
    "colab": {
      "collapsed_sections": [
        "QKoIMtuaXAK2"
      ],
      "provenance": [],
      "toc_visible": true,
      "authorship_tag": "ABX9TyNcs95oZG5ENZOFxKyFkKjZ"
    },
    "kernelspec": {
      "display_name": "Python 3",
      "name": "python3"
    },
    "language_info": {
      "name": "python"
    }
  },
  "nbformat": 4,
  "nbformat_minor": 0
}